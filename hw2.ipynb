{
 "cells": [
  {
   "cell_type": "markdown",
   "metadata": {},
   "source": [
    "### Домашнее задание к вебинару 2"
   ]
  },
  {
   "cell_type": "code",
   "execution_count": 1,
   "metadata": {
    "colab": {},
    "colab_type": "code",
    "id": "rgIzW-DSC8Yi"
   },
   "outputs": [],
   "source": [
    "import pandas as pd\n",
    "import numpy as np\n",
    "import matplotlib.pyplot as plt\n",
    "%matplotlib inline\n",
    "\n",
    "# Для работы с матрицами\n",
    "from scipy.sparse import csr_matrix, coo_matrix\n",
    "\n",
    "# Детерминированные алгоритмы\n",
    "from implicit.nearest_neighbours import ItemItemRecommender, CosineRecommender, TFIDFRecommender\n",
    "\n",
    "# Метрики\n",
    "from implicit.evaluation import train_test_split\n",
    "#from implicit.evaluation import precision_at_k, mean_average_precision_at_k, AUC_at_k, ndcg_at_k\n",
    "\n",
    "from metrics import precision_at_k"
   ]
  },
  {
   "cell_type": "code",
   "execution_count": 2,
   "metadata": {
    "colab": {},
    "colab_type": "code",
    "id": "9qFkcgyrC8Yt",
    "outputId": "24a33bf1-942a-4b18-c54a-a7500c8f8712"
   },
   "outputs": [
    {
     "data": {
      "text/html": [
       "<div>\n",
       "<style scoped>\n",
       "    .dataframe tbody tr th:only-of-type {\n",
       "        vertical-align: middle;\n",
       "    }\n",
       "\n",
       "    .dataframe tbody tr th {\n",
       "        vertical-align: top;\n",
       "    }\n",
       "\n",
       "    .dataframe thead th {\n",
       "        text-align: right;\n",
       "    }\n",
       "</style>\n",
       "<table border=\"1\" class=\"dataframe\">\n",
       "  <thead>\n",
       "    <tr style=\"text-align: right;\">\n",
       "      <th></th>\n",
       "      <th>user_id</th>\n",
       "      <th>basket_id</th>\n",
       "      <th>day</th>\n",
       "      <th>item_id</th>\n",
       "      <th>quantity</th>\n",
       "      <th>sales_value</th>\n",
       "      <th>store_id</th>\n",
       "      <th>retail_disc</th>\n",
       "      <th>trans_time</th>\n",
       "      <th>week_no</th>\n",
       "      <th>coupon_disc</th>\n",
       "      <th>coupon_match_disc</th>\n",
       "    </tr>\n",
       "  </thead>\n",
       "  <tbody>\n",
       "    <tr>\n",
       "      <th>0</th>\n",
       "      <td>2375</td>\n",
       "      <td>26984851472</td>\n",
       "      <td>1</td>\n",
       "      <td>1004906</td>\n",
       "      <td>1</td>\n",
       "      <td>1.39</td>\n",
       "      <td>364</td>\n",
       "      <td>-0.6</td>\n",
       "      <td>1631</td>\n",
       "      <td>1</td>\n",
       "      <td>0.0</td>\n",
       "      <td>0.0</td>\n",
       "    </tr>\n",
       "    <tr>\n",
       "      <th>1</th>\n",
       "      <td>2375</td>\n",
       "      <td>26984851472</td>\n",
       "      <td>1</td>\n",
       "      <td>1033142</td>\n",
       "      <td>1</td>\n",
       "      <td>0.82</td>\n",
       "      <td>364</td>\n",
       "      <td>0.0</td>\n",
       "      <td>1631</td>\n",
       "      <td>1</td>\n",
       "      <td>0.0</td>\n",
       "      <td>0.0</td>\n",
       "    </tr>\n",
       "  </tbody>\n",
       "</table>\n",
       "</div>"
      ],
      "text/plain": [
       "   user_id    basket_id  day  item_id  quantity  sales_value  store_id  \\\n",
       "0     2375  26984851472    1  1004906         1         1.39       364   \n",
       "1     2375  26984851472    1  1033142         1         0.82       364   \n",
       "\n",
       "   retail_disc  trans_time  week_no  coupon_disc  coupon_match_disc  \n",
       "0         -0.6        1631        1          0.0                0.0  \n",
       "1          0.0        1631        1          0.0                0.0  "
      ]
     },
     "execution_count": 2,
     "metadata": {},
     "output_type": "execute_result"
    }
   ],
   "source": [
    "data = pd.read_csv('retail_train.csv')\n",
    "data.head(2)"
   ]
  },
  {
   "cell_type": "code",
   "execution_count": 3,
   "metadata": {},
   "outputs": [
    {
     "data": {
      "text/plain": [
       "95"
      ]
     },
     "execution_count": 3,
     "metadata": {},
     "output_type": "execute_result"
    }
   ],
   "source": [
    "data['week_no'].max()"
   ]
  },
  {
   "cell_type": "code",
   "execution_count": 4,
   "metadata": {
    "colab": {},
    "colab_type": "code",
    "id": "epcBZlgJC8Y0"
   },
   "outputs": [],
   "source": [
    "test_size_weeks = 3\n",
    "\n",
    "data_train = data[data['week_no'] < data['week_no'].max() - test_size_weeks]\n",
    "data_test = data[data['week_no'] >= data['week_no'].max() - test_size_weeks]"
   ]
  },
  {
   "cell_type": "code",
   "execution_count": 5,
   "metadata": {},
   "outputs": [
    {
     "data": {
      "text/plain": [
       "((2278490, 12), (118314, 12))"
      ]
     },
     "execution_count": 5,
     "metadata": {},
     "output_type": "execute_result"
    }
   ],
   "source": [
    "data_train.shape, data_test.shape"
   ]
  },
  {
   "cell_type": "markdown",
   "metadata": {
    "colab_type": "text",
    "id": "zlUUzLFeC8Y4"
   },
   "source": [
    "### Задание 1. Weighted Random Recommendation\n",
    "\n",
    "Напишите код для случайных рекоммендаций, в которых вероятность рекомендовать товар прямо пропорциональна логарифму продаж\n",
    "- Можно сэмплировать товары случайно, но пропорционально какому-либо весу\n",
    "- Например, прямопропорционально популярности. Вес = log(sales_sum товара)"
   ]
  },
  {
   "cell_type": "code",
   "execution_count": 6,
   "metadata": {},
   "outputs": [
    {
     "data": {
      "text/html": [
       "<div>\n",
       "<style scoped>\n",
       "    .dataframe tbody tr th:only-of-type {\n",
       "        vertical-align: middle;\n",
       "    }\n",
       "\n",
       "    .dataframe tbody tr th {\n",
       "        vertical-align: top;\n",
       "    }\n",
       "\n",
       "    .dataframe thead th {\n",
       "        text-align: right;\n",
       "    }\n",
       "</style>\n",
       "<table border=\"1\" class=\"dataframe\">\n",
       "  <thead>\n",
       "    <tr style=\"text-align: right;\">\n",
       "      <th></th>\n",
       "      <th>user_id</th>\n",
       "      <th>actual</th>\n",
       "    </tr>\n",
       "  </thead>\n",
       "  <tbody>\n",
       "    <tr>\n",
       "      <th>0</th>\n",
       "      <td>1</td>\n",
       "      <td>[821867, 834484, 856942, 865456, 889248, 90795...</td>\n",
       "    </tr>\n",
       "    <tr>\n",
       "      <th>1</th>\n",
       "      <td>3</td>\n",
       "      <td>[835476, 851057, 872021, 878302, 879948, 90963...</td>\n",
       "    </tr>\n",
       "  </tbody>\n",
       "</table>\n",
       "</div>"
      ],
      "text/plain": [
       "   user_id                                             actual\n",
       "0        1  [821867, 834484, 856942, 865456, 889248, 90795...\n",
       "1        3  [835476, 851057, 872021, 878302, 879948, 90963..."
      ]
     },
     "execution_count": 6,
     "metadata": {},
     "output_type": "execute_result"
    }
   ],
   "source": [
    "result = data_test.groupby('user_id')['item_id'].unique().reset_index()\n",
    "result.columns=['user_id', 'actual']\n",
    "result.head(2)"
   ]
  },
  {
   "cell_type": "code",
   "execution_count": 7,
   "metadata": {},
   "outputs": [],
   "source": [
    "# Функция, создающая датафрейм items_weights\n",
    "\n",
    "def items_weights_creator(df):\n",
    "    \n",
    "    # Создаем датафрейм, который будет содержать наименование item и количество его покупок\n",
    "    sales_count = df.groupby('item_id')['quantity'].count().reset_index().sort_values('quantity', ascending=False)\n",
    "    \n",
    "    # Переименуем столбец 'user_id'\n",
    "    sales_count.rename(columns = {'quantity':'n_sold'}, inplace= True)\n",
    "    \n",
    "    # добавим столбец weight\n",
    "    sales_count['weight'] = np.log(sales_count['n_sold'])/sum(np.log(sales_count['n_sold']))\n",
    "    \n",
    "    #удалим промежуточный вспомогательный столбец sales_quantity\n",
    "    sales_count.drop('n_sold', axis = 1, inplace = True)\n",
    "    \n",
    "    items_weights = sales_count\n",
    "    \n",
    "    return items_weights\n",
    "    "
   ]
  },
  {
   "cell_type": "code",
   "execution_count": 8,
   "metadata": {},
   "outputs": [],
   "source": [
    "items_weights_train = items_weights_creator(data_train)"
   ]
  },
  {
   "cell_type": "code",
   "execution_count": 9,
   "metadata": {
    "colab": {},
    "colab_type": "code",
    "id": "nK_AS3tmC8Y7"
   },
   "outputs": [],
   "source": [
    "def weighted_random_recommendation(df, n=5):\n",
    "    \n",
    "    # добавим дополнительный параметр p, определяющий вероятность элемента оказаться в выборке choice\n",
    "    recs = np.random.choice(items_weights['item_id'], size=n, replace=False, p=items_weights['weight'])\n",
    "    \n",
    "    return recs.tolist()"
   ]
  },
  {
   "cell_type": "code",
   "execution_count": 10,
   "metadata": {},
   "outputs": [],
   "source": [
    "items_weights = items_weights_creator(data_train)"
   ]
  },
  {
   "cell_type": "code",
   "execution_count": 11,
   "metadata": {},
   "outputs": [],
   "source": [
    "result['weighted_random_recommendation'] = result['user_id'].apply(lambda x:\\\n",
    "                                                                   weighted_random_recommendation(items_weights, n=5))"
   ]
  },
  {
   "cell_type": "markdown",
   "metadata": {},
   "source": [
    "#### Рассчитаем все остальные baseline"
   ]
  },
  {
   "cell_type": "code",
   "execution_count": 12,
   "metadata": {},
   "outputs": [],
   "source": [
    "def random_recommendation(items, n=5):\n",
    "    \"\"\"Случайные рекоммендации\"\"\"\n",
    "    \n",
    "    items = np.array(items)\n",
    "    recs = np.random.choice(items, size=n, replace=False)\n",
    "    \n",
    "    return recs.tolist()"
   ]
  },
  {
   "cell_type": "code",
   "execution_count": 13,
   "metadata": {},
   "outputs": [
    {
     "name": "stdout",
     "output_type": "stream",
     "text": [
      "CPU times: user 2.77 s, sys: 3.52 ms, total: 2.77 s\n",
      "Wall time: 2.77 s\n"
     ]
    },
    {
     "data": {
      "text/html": [
       "<div>\n",
       "<style scoped>\n",
       "    .dataframe tbody tr th:only-of-type {\n",
       "        vertical-align: middle;\n",
       "    }\n",
       "\n",
       "    .dataframe tbody tr th {\n",
       "        vertical-align: top;\n",
       "    }\n",
       "\n",
       "    .dataframe thead th {\n",
       "        text-align: right;\n",
       "    }\n",
       "</style>\n",
       "<table border=\"1\" class=\"dataframe\">\n",
       "  <thead>\n",
       "    <tr style=\"text-align: right;\">\n",
       "      <th></th>\n",
       "      <th>user_id</th>\n",
       "      <th>actual</th>\n",
       "      <th>weighted_random_recommendation</th>\n",
       "      <th>random_recommendation</th>\n",
       "    </tr>\n",
       "  </thead>\n",
       "  <tbody>\n",
       "    <tr>\n",
       "      <th>0</th>\n",
       "      <td>1</td>\n",
       "      <td>[821867, 834484, 856942, 865456, 889248, 90795...</td>\n",
       "      <td>[9527185, 9803483, 822583, 1613178, 1062306]</td>\n",
       "      <td>[9305404, 828052, 855326, 1836123, 1348931]</td>\n",
       "    </tr>\n",
       "    <tr>\n",
       "      <th>1</th>\n",
       "      <td>3</td>\n",
       "      <td>[835476, 851057, 872021, 878302, 879948, 90963...</td>\n",
       "      <td>[2495324, 936886, 883932, 1056212, 1132911]</td>\n",
       "      <td>[15926887, 12131966, 1025399, 820518, 1076248]</td>\n",
       "    </tr>\n",
       "  </tbody>\n",
       "</table>\n",
       "</div>"
      ],
      "text/plain": [
       "   user_id                                             actual  \\\n",
       "0        1  [821867, 834484, 856942, 865456, 889248, 90795...   \n",
       "1        3  [835476, 851057, 872021, 878302, 879948, 90963...   \n",
       "\n",
       "                 weighted_random_recommendation  \\\n",
       "0  [9527185, 9803483, 822583, 1613178, 1062306]   \n",
       "1   [2495324, 936886, 883932, 1056212, 1132911]   \n",
       "\n",
       "                            random_recommendation  \n",
       "0     [9305404, 828052, 855326, 1836123, 1348931]  \n",
       "1  [15926887, 12131966, 1025399, 820518, 1076248]  "
      ]
     },
     "execution_count": 13,
     "metadata": {},
     "output_type": "execute_result"
    }
   ],
   "source": [
    "%%time\n",
    "\n",
    "items = data_train.item_id.unique()\n",
    "\n",
    "result['random_recommendation'] = result['user_id'].apply(lambda x: random_recommendation(items, n=5))\n",
    "\n",
    "result.head(2)"
   ]
  },
  {
   "cell_type": "code",
   "execution_count": 14,
   "metadata": {},
   "outputs": [],
   "source": [
    "def popularity_recommendation(data, n=5):\n",
    "    \"\"\"Топ-n популярных товаров\"\"\"\n",
    "    \n",
    "    popular = data.groupby('item_id')['sales_value'].sum().reset_index()\n",
    "    popular.sort_values('sales_value', ascending=False, inplace=True)\n",
    "    \n",
    "    recs = popular.head(n).item_id\n",
    "    \n",
    "    return recs.tolist()"
   ]
  },
  {
   "cell_type": "code",
   "execution_count": 15,
   "metadata": {},
   "outputs": [
    {
     "name": "stdout",
     "output_type": "stream",
     "text": [
      "CPU times: user 53.8 ms, sys: 6.26 ms, total: 60.1 ms\n",
      "Wall time: 62.6 ms\n"
     ]
    },
    {
     "data": {
      "text/html": [
       "<div>\n",
       "<style scoped>\n",
       "    .dataframe tbody tr th:only-of-type {\n",
       "        vertical-align: middle;\n",
       "    }\n",
       "\n",
       "    .dataframe tbody tr th {\n",
       "        vertical-align: top;\n",
       "    }\n",
       "\n",
       "    .dataframe thead th {\n",
       "        text-align: right;\n",
       "    }\n",
       "</style>\n",
       "<table border=\"1\" class=\"dataframe\">\n",
       "  <thead>\n",
       "    <tr style=\"text-align: right;\">\n",
       "      <th></th>\n",
       "      <th>user_id</th>\n",
       "      <th>actual</th>\n",
       "      <th>weighted_random_recommendation</th>\n",
       "      <th>random_recommendation</th>\n",
       "      <th>popular_recommendation</th>\n",
       "    </tr>\n",
       "  </thead>\n",
       "  <tbody>\n",
       "    <tr>\n",
       "      <th>0</th>\n",
       "      <td>1</td>\n",
       "      <td>[821867, 834484, 856942, 865456, 889248, 90795...</td>\n",
       "      <td>[9527185, 9803483, 822583, 1613178, 1062306]</td>\n",
       "      <td>[9305404, 828052, 855326, 1836123, 1348931]</td>\n",
       "      <td>[6534178, 6533889, 1029743, 6534166, 1082185]</td>\n",
       "    </tr>\n",
       "    <tr>\n",
       "      <th>1</th>\n",
       "      <td>3</td>\n",
       "      <td>[835476, 851057, 872021, 878302, 879948, 90963...</td>\n",
       "      <td>[2495324, 936886, 883932, 1056212, 1132911]</td>\n",
       "      <td>[15926887, 12131966, 1025399, 820518, 1076248]</td>\n",
       "      <td>[6534178, 6533889, 1029743, 6534166, 1082185]</td>\n",
       "    </tr>\n",
       "  </tbody>\n",
       "</table>\n",
       "</div>"
      ],
      "text/plain": [
       "   user_id                                             actual  \\\n",
       "0        1  [821867, 834484, 856942, 865456, 889248, 90795...   \n",
       "1        3  [835476, 851057, 872021, 878302, 879948, 90963...   \n",
       "\n",
       "                 weighted_random_recommendation  \\\n",
       "0  [9527185, 9803483, 822583, 1613178, 1062306]   \n",
       "1   [2495324, 936886, 883932, 1056212, 1132911]   \n",
       "\n",
       "                            random_recommendation  \\\n",
       "0     [9305404, 828052, 855326, 1836123, 1348931]   \n",
       "1  [15926887, 12131966, 1025399, 820518, 1076248]   \n",
       "\n",
       "                          popular_recommendation  \n",
       "0  [6534178, 6533889, 1029743, 6534166, 1082185]  \n",
       "1  [6534178, 6533889, 1029743, 6534166, 1082185]  "
      ]
     },
     "execution_count": 15,
     "metadata": {},
     "output_type": "execute_result"
    }
   ],
   "source": [
    "%%time\n",
    "\n",
    "popular_recs = popularity_recommendation(data_train, n=5)\n",
    "\n",
    "result['popular_recommendation'] = result['user_id'].apply(lambda x: popular_recs)\n",
    "\n",
    "result.head(2)"
   ]
  },
  {
   "cell_type": "markdown",
   "metadata": {
    "colab_type": "text",
    "id": "hyNG6O-wC8Y_"
   },
   "source": [
    "### Задание 2. Расчет метрик\n",
    "Рассчитайте Precision@5 для каждого алгоритма с помощью функции из вебинара 1. Какой алгоритм показывает лучшее качество?"
   ]
  },
  {
   "cell_type": "code",
   "execution_count": 16,
   "metadata": {},
   "outputs": [
    {
     "name": "stdout",
     "output_type": "stream",
     "text": [
      "1.0:actual\n",
      "0.002:weighted_random_recommendation\n",
      "0.0009:random_recommendation\n",
      "0.1552:popular_recommendation\n"
     ]
    }
   ],
   "source": [
    "for name_col in result.columns[1:]:\n",
    "    print(f\"{round(result.apply(lambda row: precision_at_k(row[name_col], row['actual']), axis = 1).mean(),4)}:{name_col}\")"
   ]
  },
  {
   "cell_type": "markdown",
   "metadata": {},
   "source": [
    "**Вывод**: случаные рекомендации и взвешенные случайные рекомендации уступают по уровню precision рекомендациям, сделанным по популярности."
   ]
  },
  {
   "cell_type": "markdown",
   "metadata": {
    "colab_type": "text",
    "id": "igDU0j1cC8ZH"
   },
   "source": [
    "### Задание 3*. Улучшение бейзлайнов и ItemItem\n",
    "\n",
    "- Попробуйте улучшить бейзлайны, считая их на топ-5000 товаров\n",
    "- Попробуйте улучшить разные варианты ItemItemRecommender, выбирая число соседей $K$."
   ]
  },
  {
   "cell_type": "markdown",
   "metadata": {},
   "source": [
    "#### Рассчитаем байзлайн RandomRecommendation на топ-5000 товаров"
   ]
  },
  {
   "cell_type": "code",
   "execution_count": 17,
   "metadata": {},
   "outputs": [],
   "source": [
    "#Рассчитаем популярность товаров на основе количества их покупок\n",
    "popular = data_train.groupby('item_id')['quantity'].sum().reset_index()\n",
    "popular.rename(columns={'quantity': 'n_sold'}, inplace=True)\n",
    "popular_5000 = popular.sort_values('n_sold').head(5000).item_id.tolist()"
   ]
  },
  {
   "cell_type": "code",
   "execution_count": 18,
   "metadata": {},
   "outputs": [],
   "source": [
    "# RandomRecommender\n",
    "\n",
    "result['random_recommendation_5000'] = result['user_id'].apply(lambda x: random_recommendation(popular_5000, n=5))"
   ]
  },
  {
   "cell_type": "code",
   "execution_count": 19,
   "metadata": {},
   "outputs": [
    {
     "data": {
      "text/html": [
       "<div>\n",
       "<style scoped>\n",
       "    .dataframe tbody tr th:only-of-type {\n",
       "        vertical-align: middle;\n",
       "    }\n",
       "\n",
       "    .dataframe tbody tr th {\n",
       "        vertical-align: top;\n",
       "    }\n",
       "\n",
       "    .dataframe thead th {\n",
       "        text-align: right;\n",
       "    }\n",
       "</style>\n",
       "<table border=\"1\" class=\"dataframe\">\n",
       "  <thead>\n",
       "    <tr style=\"text-align: right;\">\n",
       "      <th></th>\n",
       "      <th>user_id</th>\n",
       "      <th>actual</th>\n",
       "      <th>weighted_random_recommendation</th>\n",
       "      <th>random_recommendation</th>\n",
       "      <th>popular_recommendation</th>\n",
       "      <th>random_recommendation_5000</th>\n",
       "    </tr>\n",
       "  </thead>\n",
       "  <tbody>\n",
       "    <tr>\n",
       "      <th>0</th>\n",
       "      <td>1</td>\n",
       "      <td>[821867, 834484, 856942, 865456, 889248, 90795...</td>\n",
       "      <td>[9527185, 9803483, 822583, 1613178, 1062306]</td>\n",
       "      <td>[9305404, 828052, 855326, 1836123, 1348931]</td>\n",
       "      <td>[6534178, 6533889, 1029743, 6534166, 1082185]</td>\n",
       "      <td>[975852, 928254, 968415, 5750010, 13775036]</td>\n",
       "    </tr>\n",
       "    <tr>\n",
       "      <th>1</th>\n",
       "      <td>3</td>\n",
       "      <td>[835476, 851057, 872021, 878302, 879948, 90963...</td>\n",
       "      <td>[2495324, 936886, 883932, 1056212, 1132911]</td>\n",
       "      <td>[15926887, 12131966, 1025399, 820518, 1076248]</td>\n",
       "      <td>[6534178, 6533889, 1029743, 6534166, 1082185]</td>\n",
       "      <td>[6904451, 6553358, 6467736, 923144, 8293582]</td>\n",
       "    </tr>\n",
       "  </tbody>\n",
       "</table>\n",
       "</div>"
      ],
      "text/plain": [
       "   user_id                                             actual  \\\n",
       "0        1  [821867, 834484, 856942, 865456, 889248, 90795...   \n",
       "1        3  [835476, 851057, 872021, 878302, 879948, 90963...   \n",
       "\n",
       "                 weighted_random_recommendation  \\\n",
       "0  [9527185, 9803483, 822583, 1613178, 1062306]   \n",
       "1   [2495324, 936886, 883932, 1056212, 1132911]   \n",
       "\n",
       "                            random_recommendation  \\\n",
       "0     [9305404, 828052, 855326, 1836123, 1348931]   \n",
       "1  [15926887, 12131966, 1025399, 820518, 1076248]   \n",
       "\n",
       "                          popular_recommendation  \\\n",
       "0  [6534178, 6533889, 1029743, 6534166, 1082185]   \n",
       "1  [6534178, 6533889, 1029743, 6534166, 1082185]   \n",
       "\n",
       "                     random_recommendation_5000  \n",
       "0   [975852, 928254, 968415, 5750010, 13775036]  \n",
       "1  [6904451, 6553358, 6467736, 923144, 8293582]  "
      ]
     },
     "execution_count": 19,
     "metadata": {},
     "output_type": "execute_result"
    }
   ],
   "source": [
    "result.head(2)"
   ]
  },
  {
   "cell_type": "markdown",
   "metadata": {},
   "source": [
    "### Рассчитаем рекомендации с помощьюдетерминированных моделей"
   ]
  },
  {
   "cell_type": "markdown",
   "metadata": {},
   "source": [
    "#### ItemItemRecommender"
   ]
  },
  {
   "cell_type": "code",
   "execution_count": 20,
   "metadata": {},
   "outputs": [
    {
     "name": "stderr",
     "output_type": "stream",
     "text": [
      "/Library/Frameworks/Python.framework/Versions/3.9/lib/python3.9/site-packages/pandas/core/indexing.py:1720: SettingWithCopyWarning: \n",
      "A value is trying to be set on a copy of a slice from a DataFrame.\n",
      "Try using .loc[row_indexer,col_indexer] = value instead\n",
      "\n",
      "See the caveats in the documentation: https://pandas.pydata.org/pandas-docs/stable/user_guide/indexing.html#returning-a-view-versus-a-copy\n",
      "  self._setitem_single_column(loc, value, pi)\n"
     ]
    },
    {
     "data": {
      "text/html": [
       "<div>\n",
       "<style scoped>\n",
       "    .dataframe tbody tr th:only-of-type {\n",
       "        vertical-align: middle;\n",
       "    }\n",
       "\n",
       "    .dataframe tbody tr th {\n",
       "        vertical-align: top;\n",
       "    }\n",
       "\n",
       "    .dataframe thead th {\n",
       "        text-align: right;\n",
       "    }\n",
       "</style>\n",
       "<table border=\"1\" class=\"dataframe\">\n",
       "  <thead>\n",
       "    <tr style=\"text-align: right;\">\n",
       "      <th></th>\n",
       "      <th>user_id</th>\n",
       "      <th>basket_id</th>\n",
       "      <th>day</th>\n",
       "      <th>item_id</th>\n",
       "      <th>quantity</th>\n",
       "      <th>sales_value</th>\n",
       "      <th>store_id</th>\n",
       "      <th>retail_disc</th>\n",
       "      <th>trans_time</th>\n",
       "      <th>week_no</th>\n",
       "      <th>coupon_disc</th>\n",
       "      <th>coupon_match_disc</th>\n",
       "    </tr>\n",
       "  </thead>\n",
       "  <tbody>\n",
       "    <tr>\n",
       "      <th>0</th>\n",
       "      <td>2375</td>\n",
       "      <td>26984851472</td>\n",
       "      <td>1</td>\n",
       "      <td>999999</td>\n",
       "      <td>1</td>\n",
       "      <td>1.39</td>\n",
       "      <td>364</td>\n",
       "      <td>-0.60</td>\n",
       "      <td>1631</td>\n",
       "      <td>1</td>\n",
       "      <td>0.0</td>\n",
       "      <td>0.0</td>\n",
       "    </tr>\n",
       "    <tr>\n",
       "      <th>1</th>\n",
       "      <td>2375</td>\n",
       "      <td>26984851472</td>\n",
       "      <td>1</td>\n",
       "      <td>999999</td>\n",
       "      <td>1</td>\n",
       "      <td>0.82</td>\n",
       "      <td>364</td>\n",
       "      <td>0.00</td>\n",
       "      <td>1631</td>\n",
       "      <td>1</td>\n",
       "      <td>0.0</td>\n",
       "      <td>0.0</td>\n",
       "    </tr>\n",
       "    <tr>\n",
       "      <th>2</th>\n",
       "      <td>2375</td>\n",
       "      <td>26984851472</td>\n",
       "      <td>1</td>\n",
       "      <td>999999</td>\n",
       "      <td>1</td>\n",
       "      <td>0.99</td>\n",
       "      <td>364</td>\n",
       "      <td>-0.30</td>\n",
       "      <td>1631</td>\n",
       "      <td>1</td>\n",
       "      <td>0.0</td>\n",
       "      <td>0.0</td>\n",
       "    </tr>\n",
       "    <tr>\n",
       "      <th>3</th>\n",
       "      <td>2375</td>\n",
       "      <td>26984851472</td>\n",
       "      <td>1</td>\n",
       "      <td>999999</td>\n",
       "      <td>1</td>\n",
       "      <td>1.21</td>\n",
       "      <td>364</td>\n",
       "      <td>0.00</td>\n",
       "      <td>1631</td>\n",
       "      <td>1</td>\n",
       "      <td>0.0</td>\n",
       "      <td>0.0</td>\n",
       "    </tr>\n",
       "    <tr>\n",
       "      <th>4</th>\n",
       "      <td>2375</td>\n",
       "      <td>26984851472</td>\n",
       "      <td>1</td>\n",
       "      <td>999999</td>\n",
       "      <td>1</td>\n",
       "      <td>1.50</td>\n",
       "      <td>364</td>\n",
       "      <td>-0.39</td>\n",
       "      <td>1631</td>\n",
       "      <td>1</td>\n",
       "      <td>0.0</td>\n",
       "      <td>0.0</td>\n",
       "    </tr>\n",
       "    <tr>\n",
       "      <th>...</th>\n",
       "      <td>...</td>\n",
       "      <td>...</td>\n",
       "      <td>...</td>\n",
       "      <td>...</td>\n",
       "      <td>...</td>\n",
       "      <td>...</td>\n",
       "      <td>...</td>\n",
       "      <td>...</td>\n",
       "      <td>...</td>\n",
       "      <td>...</td>\n",
       "      <td>...</td>\n",
       "      <td>...</td>\n",
       "    </tr>\n",
       "    <tr>\n",
       "      <th>95</th>\n",
       "      <td>1060</td>\n",
       "      <td>26985040735</td>\n",
       "      <td>1</td>\n",
       "      <td>999999</td>\n",
       "      <td>1</td>\n",
       "      <td>8.49</td>\n",
       "      <td>315</td>\n",
       "      <td>0.00</td>\n",
       "      <td>1251</td>\n",
       "      <td>1</td>\n",
       "      <td>0.0</td>\n",
       "      <td>0.0</td>\n",
       "    </tr>\n",
       "    <tr>\n",
       "      <th>96</th>\n",
       "      <td>1351</td>\n",
       "      <td>26985052379</td>\n",
       "      <td>1</td>\n",
       "      <td>999999</td>\n",
       "      <td>1</td>\n",
       "      <td>0.99</td>\n",
       "      <td>447</td>\n",
       "      <td>-0.30</td>\n",
       "      <td>1955</td>\n",
       "      <td>1</td>\n",
       "      <td>0.0</td>\n",
       "      <td>0.0</td>\n",
       "    </tr>\n",
       "    <tr>\n",
       "      <th>97</th>\n",
       "      <td>744</td>\n",
       "      <td>26985165432</td>\n",
       "      <td>1</td>\n",
       "      <td>5978648</td>\n",
       "      <td>0</td>\n",
       "      <td>0.00</td>\n",
       "      <td>31582</td>\n",
       "      <td>0.00</td>\n",
       "      <td>1119</td>\n",
       "      <td>1</td>\n",
       "      <td>0.0</td>\n",
       "      <td>0.0</td>\n",
       "    </tr>\n",
       "    <tr>\n",
       "      <th>98</th>\n",
       "      <td>212</td>\n",
       "      <td>26985205886</td>\n",
       "      <td>1</td>\n",
       "      <td>999999</td>\n",
       "      <td>1</td>\n",
       "      <td>1.25</td>\n",
       "      <td>288</td>\n",
       "      <td>-0.34</td>\n",
       "      <td>1341</td>\n",
       "      <td>1</td>\n",
       "      <td>0.0</td>\n",
       "      <td>0.0</td>\n",
       "    </tr>\n",
       "    <tr>\n",
       "      <th>99</th>\n",
       "      <td>212</td>\n",
       "      <td>26985205886</td>\n",
       "      <td>1</td>\n",
       "      <td>999999</td>\n",
       "      <td>1</td>\n",
       "      <td>2.29</td>\n",
       "      <td>288</td>\n",
       "      <td>-0.70</td>\n",
       "      <td>1341</td>\n",
       "      <td>1</td>\n",
       "      <td>0.0</td>\n",
       "      <td>0.0</td>\n",
       "    </tr>\n",
       "  </tbody>\n",
       "</table>\n",
       "<p>100 rows × 12 columns</p>\n",
       "</div>"
      ],
      "text/plain": [
       "    user_id    basket_id  day  item_id  quantity  sales_value  store_id  \\\n",
       "0      2375  26984851472    1   999999         1         1.39       364   \n",
       "1      2375  26984851472    1   999999         1         0.82       364   \n",
       "2      2375  26984851472    1   999999         1         0.99       364   \n",
       "3      2375  26984851472    1   999999         1         1.21       364   \n",
       "4      2375  26984851472    1   999999         1         1.50       364   \n",
       "..      ...          ...  ...      ...       ...          ...       ...   \n",
       "95     1060  26985040735    1   999999         1         8.49       315   \n",
       "96     1351  26985052379    1   999999         1         0.99       447   \n",
       "97      744  26985165432    1  5978648         0         0.00     31582   \n",
       "98      212  26985205886    1   999999         1         1.25       288   \n",
       "99      212  26985205886    1   999999         1         2.29       288   \n",
       "\n",
       "    retail_disc  trans_time  week_no  coupon_disc  coupon_match_disc  \n",
       "0         -0.60        1631        1          0.0                0.0  \n",
       "1          0.00        1631        1          0.0                0.0  \n",
       "2         -0.30        1631        1          0.0                0.0  \n",
       "3          0.00        1631        1          0.0                0.0  \n",
       "4         -0.39        1631        1          0.0                0.0  \n",
       "..          ...         ...      ...          ...                ...  \n",
       "95         0.00        1251        1          0.0                0.0  \n",
       "96        -0.30        1955        1          0.0                0.0  \n",
       "97         0.00        1119        1          0.0                0.0  \n",
       "98        -0.34        1341        1          0.0                0.0  \n",
       "99        -0.70        1341        1          0.0                0.0  \n",
       "\n",
       "[100 rows x 12 columns]"
      ]
     },
     "execution_count": 20,
     "metadata": {},
     "output_type": "execute_result"
    }
   ],
   "source": [
    "# Заведем фиктивный item_id (если юзер покупал товары из топ-5000, то он \"купил\" такой товар)\n",
    "data_train.loc[~data_train['item_id'].isin(popular_5000), 'item_id'] = 999999\n",
    "data_train.head(100)"
   ]
  },
  {
   "cell_type": "code",
   "execution_count": 21,
   "metadata": {},
   "outputs": [],
   "source": [
    "user_item_matrix = pd.pivot_table(data_train, \n",
    "                                  index='user_id', columns='item_id', \n",
    "                                  values='quantity',\n",
    "                                  aggfunc='count', \n",
    "                                  fill_value=0\n",
    "                                 )\n",
    "\n",
    "user_item_matrix[user_item_matrix > 0] = 1 # так как в итоге хотим предсказать \n",
    "user_item_matrix = user_item_matrix.astype(float) # необходимый тип матрицы для implicit\n",
    "\n",
    "# переведем в формат sparse matrix\n",
    "sparse_user_item = csr_matrix(user_item_matrix).tocsr()"
   ]
  },
  {
   "cell_type": "code",
   "execution_count": 22,
   "metadata": {},
   "outputs": [
    {
     "data": {
      "text/plain": [
       "(2499, 5001)"
      ]
     },
     "execution_count": 22,
     "metadata": {},
     "output_type": "execute_result"
    }
   ],
   "source": [
    "user_item_matrix.shape"
   ]
  },
  {
   "cell_type": "code",
   "execution_count": 23,
   "metadata": {},
   "outputs": [],
   "source": [
    "# id из user_item_matrix\n",
    "userids = user_item_matrix.index.values\n",
    "itemids = user_item_matrix.columns.values\n",
    "\n",
    "#id из sparse матрицы\n",
    "matrix_userids = np.arange(len(userids))\n",
    "matrix_itemids = np.arange(len(itemids))\n",
    "\n",
    "#словарь для перевода из одних индексов в другие и обратно\n",
    "\n",
    "# ключи - индексы мактрицы, значения - первоначальные индексы\n",
    "matrixid_to_itemid = dict(zip(matrix_itemids, itemids))\n",
    "matrixid_to_userid = dict(zip(matrix_userids, userids))\n",
    "\n",
    "# ключи -первоначальные индексы, значения - индексы матрицы\n",
    "itemid_to_matrixid = dict(zip(itemids, matrix_itemids))\n",
    "userid_to_matrixid = dict(zip(userids, matrix_userids))"
   ]
  },
  {
   "cell_type": "code",
   "execution_count": 24,
   "metadata": {},
   "outputs": [],
   "source": [
    "# создадим модель\n",
    "ii_model_5 = ItemItemRecommender(K=5, num_threads = 4)"
   ]
  },
  {
   "cell_type": "code",
   "execution_count": 25,
   "metadata": {},
   "outputs": [
    {
     "data": {
      "application/vnd.jupyter.widget-view+json": {
       "model_id": "677077523af04fbf9f6ce52a843b57bc",
       "version_major": 2,
       "version_minor": 0
      },
      "text/plain": [
       "  0%|          | 0/5001 [00:00<?, ?it/s]"
      ]
     },
     "metadata": {},
     "output_type": "display_data"
    }
   ],
   "source": [
    "#обучим модель (ВАЖНО! Подаем в модель транспонированную матрицу user_item!!!!\n",
    "ii_model_5.fit(csr_matrix(user_item_matrix).T.tocsr(),  # На вход item-user matrix\n",
    "          show_progress=True)"
   ]
  },
  {
   "cell_type": "code",
   "execution_count": 26,
   "metadata": {},
   "outputs": [
    {
     "data": {
      "text/plain": [
       "1033"
      ]
     },
     "execution_count": 26,
     "metadata": {},
     "output_type": "execute_result"
    }
   ],
   "source": [
    "itemid_to_matrixid[999999]"
   ]
  },
  {
   "cell_type": "code",
   "execution_count": 27,
   "metadata": {},
   "outputs": [],
   "source": [
    "recs = ii_model_5.recommend(userid=userid_to_matrixid[2],  # userid - id от 0 до N \n",
    "                       # делаем предсказание для юзера с индексом 2 - переводим в индекс спарс матрицы индекс 2\n",
    "                       \n",
    "                        user_items=csr_matrix(user_item_matrix).tocsr(),   # на вход user-item matrix\n",
    "                        N=5, # кол-во рекомендаций \n",
    "                        filter_already_liked_items=False, \n",
    "                        filter_items=[itemid_to_matrixid[999999]], \n",
    "                        recalculate_user=True)"
   ]
  },
  {
   "cell_type": "code",
   "execution_count": 28,
   "metadata": {},
   "outputs": [
    {
     "data": {
      "text/plain": [
       "[(2731, 1075.0), (2728, 883.0), (1913, 18.0), (2843, 7.0), (3204, 1.0)]"
      ]
     },
     "execution_count": 28,
     "metadata": {},
     "output_type": "execute_result"
    }
   ],
   "source": [
    "recs"
   ]
  },
  {
   "cell_type": "code",
   "execution_count": 29,
   "metadata": {},
   "outputs": [
    {
     "data": {
      "text/plain": [
       "[5978656, 5978648, 5565043, 5993051, 6424456]"
      ]
     },
     "execution_count": 29,
     "metadata": {},
     "output_type": "execute_result"
    }
   ],
   "source": [
    "[matrixid_to_itemid[rec[0]] for rec in recs]"
   ]
  },
  {
   "cell_type": "code",
   "execution_count": 30,
   "metadata": {},
   "outputs": [],
   "source": [
    "result['ItemItemRec_5'] = result['user_id'].apply(lambda x: [matrixid_to_itemid[rec[0]] for rec in \n",
    "                                    ii_model_5.recommend(userid=userid_to_matrixid[x], \n",
    "                                    user_items=sparse_user_item,   # на вход user-item matrix\n",
    "                                    N=5, \n",
    "                                    filter_already_liked_items=False, \n",
    "                                    filter_items = [itemid_to_matrixid[999999]], \n",
    "                                    recalculate_user=True)])"
   ]
  },
  {
   "cell_type": "code",
   "execution_count": 31,
   "metadata": {},
   "outputs": [
    {
     "data": {
      "application/vnd.jupyter.widget-view+json": {
       "model_id": "ebad1fd3baa441809008cd3fc20146cf",
       "version_major": 2,
       "version_minor": 0
      },
      "text/plain": [
       "  0%|          | 0/5001 [00:00<?, ?it/s]"
      ]
     },
     "metadata": {},
     "output_type": "display_data"
    }
   ],
   "source": [
    "# Увеличим число соседей в модели до 10\n",
    "\n",
    "ii_model_10 = ItemItemRecommender(K=10, num_threads = 4)\n",
    "\n",
    "ii_model_10.fit(csr_matrix(user_item_matrix).T.tocsr(), show_progress=True)\n",
    "\n",
    "result['ItemItemRec_10'] = result['user_id'].apply(lambda x: [matrixid_to_itemid[rec[0]] for rec in \n",
    "                                    ii_model_10.recommend(userid=userid_to_matrixid[x],\n",
    "                                                   user_items = sparse_user_item,\n",
    "                                                   N=5,\n",
    "                                                   filter_already_liked_items = False,\n",
    "                                                   filter_items=None,\n",
    "                                                   recalculate_user = True)])\n",
    "\n"
   ]
  },
  {
   "cell_type": "code",
   "execution_count": 32,
   "metadata": {},
   "outputs": [
    {
     "data": {
      "application/vnd.jupyter.widget-view+json": {
       "model_id": "7be5ebce75374d1f940c280874ac04c6",
       "version_major": 2,
       "version_minor": 0
      },
      "text/plain": [
       "  0%|          | 0/5001 [00:00<?, ?it/s]"
      ]
     },
     "metadata": {},
     "output_type": "display_data"
    }
   ],
   "source": [
    "# Увеличим число соседей в модели до 15\n",
    "\n",
    "ii_model_15 = ItemItemRecommender(K=15, num_threads = 4)\n",
    "\n",
    "ii_model_15.fit(csr_matrix(user_item_matrix).T.tocsr(), show_progress=True)\n",
    "\n",
    "result['ItemItemRec_15'] = result['user_id'].apply(lambda x: [matrixid_to_itemid[rec[0]] for rec in \n",
    "                                    ii_model_15.recommend(userid=userid_to_matrixid[x],\n",
    "                                                   user_items = sparse_user_item,\n",
    "                                                   N=5,\n",
    "                                                   filter_already_liked_items = False,\n",
    "                                                   filter_items=[itemid_to_matrixid[999999]],\n",
    "                                                   recalculate_user = True)])\n"
   ]
  },
  {
   "cell_type": "markdown",
   "metadata": {},
   "source": [
    "#### CosineRecommender"
   ]
  },
  {
   "cell_type": "code",
   "execution_count": 33,
   "metadata": {},
   "outputs": [],
   "source": [
    "cos_model_5 = CosineRecommender(K=5, num_threads = 4)"
   ]
  },
  {
   "cell_type": "code",
   "execution_count": 34,
   "metadata": {},
   "outputs": [
    {
     "data": {
      "application/vnd.jupyter.widget-view+json": {
       "model_id": "041b8a380cc44861a202390537b29cb2",
       "version_major": 2,
       "version_minor": 0
      },
      "text/plain": [
       "  0%|          | 0/5001 [00:00<?, ?it/s]"
      ]
     },
     "metadata": {},
     "output_type": "display_data"
    }
   ],
   "source": [
    "#обучим модель (ВАЖНО! Подаем в модель транспонированную матрицу user_item!!!!)\n",
    "\n",
    "cos_model_5.fit(csr_matrix(user_item_matrix).T.tocsr(),  # На вход item-user matrix\n",
    "          show_progress=True)"
   ]
  },
  {
   "cell_type": "code",
   "execution_count": 35,
   "metadata": {},
   "outputs": [],
   "source": [
    "recs = cos_model_5.recommend(userid=userid_to_matrixid[2],\n",
    "                          user_items=sparse_user_item,\n",
    "                          N=5,\n",
    "                          filter_already_liked_items = False,\n",
    "                          filter_items = [itemid_to_matrixid[999999]],\n",
    "                          recalculate_user = False\n",
    "                          )"
   ]
  },
  {
   "cell_type": "code",
   "execution_count": 36,
   "metadata": {},
   "outputs": [],
   "source": [
    "result['CosineRec_5'] = result['user_id'].apply(lambda x: [matrixid_to_itemid[rec[0]] for rec \n",
    "                                                         in cos_model_5.recommend(\n",
    "                                                             userid = userid_to_matrixid[x],\n",
    "                                                             user_items = sparse_user_item,\n",
    "                                                             N=5,\n",
    "                                                             filter_already_liked_items = False,\n",
    "                                                             filter_items = [itemid_to_matrixid[999999]],\n",
    "                                                             recalculate_user = False\n",
    "                                                         )])"
   ]
  },
  {
   "cell_type": "code",
   "execution_count": 37,
   "metadata": {},
   "outputs": [
    {
     "data": {
      "application/vnd.jupyter.widget-view+json": {
       "model_id": "d9dbe7bbd82240b382f0f7249f70e27b",
       "version_major": 2,
       "version_minor": 0
      },
      "text/plain": [
       "  0%|          | 0/5001 [00:00<?, ?it/s]"
      ]
     },
     "metadata": {},
     "output_type": "display_data"
    }
   ],
   "source": [
    "# Увеличим число соседей в модели до 10\n",
    "\n",
    "cos_model_10 = CosineRecommender(K=10, num_threads = 4)\n",
    "\n",
    "cos_model_10.fit(csr_matrix(user_item_matrix).T.tocsr(), show_progress=True)\n",
    "\n",
    "result['CosineRec_10'] = result['user_id'].apply(lambda x: [matrixid_to_itemid[rec[0]] for rec in \n",
    "                                    cos_model_10.recommend(userid=userid_to_matrixid[x],\n",
    "                                                   user_items = sparse_user_item,\n",
    "                                                   N=5,\n",
    "                                                   filter_already_liked_items = False,\n",
    "                                                   filter_items=[itemid_to_matrixid[999999]],\n",
    "                                                   recalculate_user = True)])\n",
    "\n",
    "\n"
   ]
  },
  {
   "cell_type": "code",
   "execution_count": 38,
   "metadata": {},
   "outputs": [],
   "source": [
    "# с 15 соседями\n",
    "cos_model_15 = CosineRecommender(K=15, num_threads = 4)"
   ]
  },
  {
   "cell_type": "code",
   "execution_count": 39,
   "metadata": {},
   "outputs": [
    {
     "data": {
      "application/vnd.jupyter.widget-view+json": {
       "model_id": "2a96c924358042cf92d34eb5b0da8a56",
       "version_major": 2,
       "version_minor": 0
      },
      "text/plain": [
       "  0%|          | 0/5001 [00:00<?, ?it/s]"
      ]
     },
     "metadata": {},
     "output_type": "display_data"
    }
   ],
   "source": [
    "cos_model_15.fit(csr_matrix(user_item_matrix).T.tocsr(), show_progress = True)"
   ]
  },
  {
   "cell_type": "code",
   "execution_count": 40,
   "metadata": {},
   "outputs": [],
   "source": [
    "result['CosineRec_15'] = result['user_id'].apply(lambda x: [matrixid_to_itemid[rec[0]] for rec \n",
    "                                                         in cos_model_15.recommend(\n",
    "                                                             userid = userid_to_matrixid[x],\n",
    "                                                             user_items = sparse_user_item,\n",
    "                                                             N=5,\n",
    "                                                             filter_already_liked_items = False,\n",
    "                                                             filter_items = [itemid_to_matrixid[999999]],\n",
    "                                                             recalculate_user = False\n",
    "                                                         )])"
   ]
  },
  {
   "cell_type": "markdown",
   "metadata": {},
   "source": [
    "#### TFIDFRecommender"
   ]
  },
  {
   "cell_type": "code",
   "execution_count": 41,
   "metadata": {},
   "outputs": [],
   "source": [
    "tfidf_model_5 = TFIDFRecommender(K=5, num_threads = 4)"
   ]
  },
  {
   "cell_type": "code",
   "execution_count": 42,
   "metadata": {},
   "outputs": [
    {
     "data": {
      "application/vnd.jupyter.widget-view+json": {
       "model_id": "e829536cc65f41cf81b7e3d09bc9f430",
       "version_major": 2,
       "version_minor": 0
      },
      "text/plain": [
       "  0%|          | 0/5001 [00:00<?, ?it/s]"
      ]
     },
     "metadata": {},
     "output_type": "display_data"
    }
   ],
   "source": [
    "tfidf_model_5.fit(csr_matrix(user_item_matrix).T.tocsr())"
   ]
  },
  {
   "cell_type": "code",
   "execution_count": 43,
   "metadata": {
    "colab": {},
    "colab_type": "code",
    "id": "zYBR3cMPC8ZH"
   },
   "outputs": [],
   "source": [
    "result['TFIDFRec_5'] = result['user_id'].apply(lambda x: [matrixid_to_itemid[rec[0]] for rec \n",
    "                                                         in tfidf_model_5.recommend(\n",
    "                                                             userid = userid_to_matrixid[x],\n",
    "                                                             user_items = sparse_user_item,\n",
    "                                                             N=5,\n",
    "                                                             filter_already_liked_items = False,\n",
    "                                                             filter_items = [itemid_to_matrixid[999999]],\n",
    "                                                             recalculate_user = False\n",
    "                                                         )])"
   ]
  },
  {
   "cell_type": "code",
   "execution_count": 44,
   "metadata": {},
   "outputs": [
    {
     "data": {
      "application/vnd.jupyter.widget-view+json": {
       "model_id": "090ab7a35a7240bab5a4fa15c113e816",
       "version_major": 2,
       "version_minor": 0
      },
      "text/plain": [
       "  0%|          | 0/5001 [00:00<?, ?it/s]"
      ]
     },
     "metadata": {},
     "output_type": "display_data"
    }
   ],
   "source": [
    "# Увеличим число соседей в модели до 10\n",
    "\n",
    "tfidf_model_10 = TFIDFRecommender(K=10, num_threads = 4)\n",
    "\n",
    "tfidf_model_10.fit(csr_matrix(user_item_matrix).T.tocsr(), show_progress=True)\n",
    "\n",
    "result['TFIDFRec_10'] = result['user_id'].apply(lambda x: [matrixid_to_itemid[rec[0]] for rec in \n",
    "                                    tfidf_model_10.recommend(userid=userid_to_matrixid[x],\n",
    "                                                   user_items = sparse_user_item,\n",
    "                                                   N=5,\n",
    "                                                   filter_already_liked_items = False,\n",
    "                                                   filter_items=[itemid_to_matrixid[999999]],\n",
    "                                                   recalculate_user = True)])\n",
    "\n",
    "\n",
    "\n"
   ]
  },
  {
   "cell_type": "code",
   "execution_count": 45,
   "metadata": {},
   "outputs": [],
   "source": [
    "# Увеличим количество соседей до 15\n",
    "\n",
    "tfidf_model_15 = TFIDFRecommender(K=15, num_threads = 4)"
   ]
  },
  {
   "cell_type": "code",
   "execution_count": 46,
   "metadata": {},
   "outputs": [
    {
     "data": {
      "application/vnd.jupyter.widget-view+json": {
       "model_id": "ee2d0ef6f1144b74b1c0c75448ff746f",
       "version_major": 2,
       "version_minor": 0
      },
      "text/plain": [
       "  0%|          | 0/5001 [00:00<?, ?it/s]"
      ]
     },
     "metadata": {},
     "output_type": "display_data"
    }
   ],
   "source": [
    "tfidf_model_15.fit(csr_matrix(user_item_matrix).T.tocsr())"
   ]
  },
  {
   "cell_type": "code",
   "execution_count": 47,
   "metadata": {},
   "outputs": [],
   "source": [
    "result['TFIDFRec_15'] = result['user_id'].apply(lambda x: [matrixid_to_itemid[rec[0]] for rec \n",
    "                                                         in tfidf_model_15.recommend(\n",
    "                                                             userid = userid_to_matrixid[x],\n",
    "                                                             user_items = sparse_user_item,\n",
    "                                                             N=5,\n",
    "                                                             filter_already_liked_items = False,\n",
    "                                                             filter_items = [itemid_to_matrixid[999999]],\n",
    "                                                             recalculate_user = False\n",
    "                                                         )])"
   ]
  },
  {
   "cell_type": "code",
   "execution_count": 48,
   "metadata": {},
   "outputs": [
    {
     "data": {
      "text/html": [
       "<div>\n",
       "<style scoped>\n",
       "    .dataframe tbody tr th:only-of-type {\n",
       "        vertical-align: middle;\n",
       "    }\n",
       "\n",
       "    .dataframe tbody tr th {\n",
       "        vertical-align: top;\n",
       "    }\n",
       "\n",
       "    .dataframe thead th {\n",
       "        text-align: right;\n",
       "    }\n",
       "</style>\n",
       "<table border=\"1\" class=\"dataframe\">\n",
       "  <thead>\n",
       "    <tr style=\"text-align: right;\">\n",
       "      <th></th>\n",
       "      <th>user_id</th>\n",
       "      <th>actual</th>\n",
       "      <th>weighted_random_recommendation</th>\n",
       "      <th>random_recommendation</th>\n",
       "      <th>popular_recommendation</th>\n",
       "      <th>random_recommendation_5000</th>\n",
       "      <th>ItemItemRec_5</th>\n",
       "      <th>ItemItemRec_10</th>\n",
       "      <th>ItemItemRec_15</th>\n",
       "      <th>CosineRec_5</th>\n",
       "      <th>CosineRec_10</th>\n",
       "      <th>CosineRec_15</th>\n",
       "      <th>TFIDFRec_5</th>\n",
       "      <th>TFIDFRec_10</th>\n",
       "      <th>TFIDFRec_15</th>\n",
       "    </tr>\n",
       "  </thead>\n",
       "  <tbody>\n",
       "    <tr>\n",
       "      <th>0</th>\n",
       "      <td>1</td>\n",
       "      <td>[821867, 834484, 856942, 865456, 889248, 90795...</td>\n",
       "      <td>[9527185, 9803483, 822583, 1613178, 1062306]</td>\n",
       "      <td>[9305404, 828052, 855326, 1836123, 1348931]</td>\n",
       "      <td>[6534178, 6533889, 1029743, 6534166, 1082185]</td>\n",
       "      <td>[975852, 928254, 968415, 5750010, 13775036]</td>\n",
       "      <td>[5978656, 5978648, 5565043, 5993051, 6773032]</td>\n",
       "      <td>[999999, 5978656, 5978648, 5565043, 5993051]</td>\n",
       "      <td>[5978656, 5978648, 5565043, 5993051, 5126107]</td>\n",
       "      <td>[5564226, 6773032, 987073, 5978656, 5978648]</td>\n",
       "      <td>[987073, 6773032, 5564226, 5978656, 5978648]</td>\n",
       "      <td>[5564226, 6773032, 987073, 5978656, 5978648]</td>\n",
       "      <td>[6773032, 5564226, 987073, 5978656, 5978648]</td>\n",
       "      <td>[5564226, 6773032, 987073, 5978656, 5978648]</td>\n",
       "      <td>[6773032, 5564226, 987073, 5978656, 5978648]</td>\n",
       "    </tr>\n",
       "    <tr>\n",
       "      <th>1</th>\n",
       "      <td>3</td>\n",
       "      <td>[835476, 851057, 872021, 878302, 879948, 90963...</td>\n",
       "      <td>[2495324, 936886, 883932, 1056212, 1132911]</td>\n",
       "      <td>[15926887, 12131966, 1025399, 820518, 1076248]</td>\n",
       "      <td>[6534178, 6533889, 1029743, 6534166, 1082185]</td>\n",
       "      <td>[6904451, 6553358, 6467736, 923144, 8293582]</td>\n",
       "      <td>[5978656, 5978648, 5565043, 5993051]</td>\n",
       "      <td>[999999, 5978656, 5978648, 5565043, 5993051]</td>\n",
       "      <td>[5978656, 5978648, 5565043, 5993051, 5977100]</td>\n",
       "      <td>[5978656, 5978648, 5565043, 5993051]</td>\n",
       "      <td>[5978656, 5978648, 5565043, 5993051, 5977100]</td>\n",
       "      <td>[5978656, 5978648, 5565043, 5993051, 5977100]</td>\n",
       "      <td>[5978656, 5978648, 5565043, 5977100]</td>\n",
       "      <td>[5978656, 5978648, 5565043, 5977100, 5993051]</td>\n",
       "      <td>[5978656, 5978648, 5565043, 5977100, 5993051]</td>\n",
       "    </tr>\n",
       "    <tr>\n",
       "      <th>2</th>\n",
       "      <td>6</td>\n",
       "      <td>[920308, 926804, 946489, 1006718, 1017061, 107...</td>\n",
       "      <td>[950659, 934434, 142450, 1539953, 851676]</td>\n",
       "      <td>[1200891, 5995156, 13095123, 1055911, 9677672]</td>\n",
       "      <td>[6534178, 6533889, 1029743, 6534166, 1082185]</td>\n",
       "      <td>[9297519, 5581116, 6634442, 5666448, 6556663]</td>\n",
       "      <td>[5978656, 5978648, 5565043, 5993051, 6633416]</td>\n",
       "      <td>[999999, 5978656, 5978648, 5565043, 5993051]</td>\n",
       "      <td>[5978656, 5978648, 5565043, 5993051, 5126107]</td>\n",
       "      <td>[5978656, 5978648, 6633416, 5565043, 5993051]</td>\n",
       "      <td>[5978656, 5978648, 6633416, 5565043, 5993051]</td>\n",
       "      <td>[5978656, 5978648, 6633416, 5565043, 5993051]</td>\n",
       "      <td>[5978656, 5978648, 6633416, 5565043, 5993051]</td>\n",
       "      <td>[5978656, 5978648, 6633416, 5565043, 5993051]</td>\n",
       "      <td>[5978656, 5978648, 6633416, 5565043, 5993051]</td>\n",
       "    </tr>\n",
       "  </tbody>\n",
       "</table>\n",
       "</div>"
      ],
      "text/plain": [
       "   user_id                                             actual  \\\n",
       "0        1  [821867, 834484, 856942, 865456, 889248, 90795...   \n",
       "1        3  [835476, 851057, 872021, 878302, 879948, 90963...   \n",
       "2        6  [920308, 926804, 946489, 1006718, 1017061, 107...   \n",
       "\n",
       "                 weighted_random_recommendation  \\\n",
       "0  [9527185, 9803483, 822583, 1613178, 1062306]   \n",
       "1   [2495324, 936886, 883932, 1056212, 1132911]   \n",
       "2     [950659, 934434, 142450, 1539953, 851676]   \n",
       "\n",
       "                            random_recommendation  \\\n",
       "0     [9305404, 828052, 855326, 1836123, 1348931]   \n",
       "1  [15926887, 12131966, 1025399, 820518, 1076248]   \n",
       "2  [1200891, 5995156, 13095123, 1055911, 9677672]   \n",
       "\n",
       "                          popular_recommendation  \\\n",
       "0  [6534178, 6533889, 1029743, 6534166, 1082185]   \n",
       "1  [6534178, 6533889, 1029743, 6534166, 1082185]   \n",
       "2  [6534178, 6533889, 1029743, 6534166, 1082185]   \n",
       "\n",
       "                      random_recommendation_5000  \\\n",
       "0    [975852, 928254, 968415, 5750010, 13775036]   \n",
       "1   [6904451, 6553358, 6467736, 923144, 8293582]   \n",
       "2  [9297519, 5581116, 6634442, 5666448, 6556663]   \n",
       "\n",
       "                                   ItemItemRec_5  \\\n",
       "0  [5978656, 5978648, 5565043, 5993051, 6773032]   \n",
       "1           [5978656, 5978648, 5565043, 5993051]   \n",
       "2  [5978656, 5978648, 5565043, 5993051, 6633416]   \n",
       "\n",
       "                                 ItemItemRec_10  \\\n",
       "0  [999999, 5978656, 5978648, 5565043, 5993051]   \n",
       "1  [999999, 5978656, 5978648, 5565043, 5993051]   \n",
       "2  [999999, 5978656, 5978648, 5565043, 5993051]   \n",
       "\n",
       "                                  ItemItemRec_15  \\\n",
       "0  [5978656, 5978648, 5565043, 5993051, 5126107]   \n",
       "1  [5978656, 5978648, 5565043, 5993051, 5977100]   \n",
       "2  [5978656, 5978648, 5565043, 5993051, 5126107]   \n",
       "\n",
       "                                     CosineRec_5  \\\n",
       "0   [5564226, 6773032, 987073, 5978656, 5978648]   \n",
       "1           [5978656, 5978648, 5565043, 5993051]   \n",
       "2  [5978656, 5978648, 6633416, 5565043, 5993051]   \n",
       "\n",
       "                                    CosineRec_10  \\\n",
       "0   [987073, 6773032, 5564226, 5978656, 5978648]   \n",
       "1  [5978656, 5978648, 5565043, 5993051, 5977100]   \n",
       "2  [5978656, 5978648, 6633416, 5565043, 5993051]   \n",
       "\n",
       "                                    CosineRec_15  \\\n",
       "0   [5564226, 6773032, 987073, 5978656, 5978648]   \n",
       "1  [5978656, 5978648, 5565043, 5993051, 5977100]   \n",
       "2  [5978656, 5978648, 6633416, 5565043, 5993051]   \n",
       "\n",
       "                                      TFIDFRec_5  \\\n",
       "0   [6773032, 5564226, 987073, 5978656, 5978648]   \n",
       "1           [5978656, 5978648, 5565043, 5977100]   \n",
       "2  [5978656, 5978648, 6633416, 5565043, 5993051]   \n",
       "\n",
       "                                     TFIDFRec_10  \\\n",
       "0   [5564226, 6773032, 987073, 5978656, 5978648]   \n",
       "1  [5978656, 5978648, 5565043, 5977100, 5993051]   \n",
       "2  [5978656, 5978648, 6633416, 5565043, 5993051]   \n",
       "\n",
       "                                     TFIDFRec_15  \n",
       "0   [6773032, 5564226, 987073, 5978656, 5978648]  \n",
       "1  [5978656, 5978648, 5565043, 5977100, 5993051]  \n",
       "2  [5978656, 5978648, 6633416, 5565043, 5993051]  "
      ]
     },
     "execution_count": 48,
     "metadata": {},
     "output_type": "execute_result"
    }
   ],
   "source": [
    "result.head(3)"
   ]
  },
  {
   "cell_type": "markdown",
   "metadata": {},
   "source": [
    "Рассчитаем теперь precision@5 для всех имеющихся моделей"
   ]
  },
  {
   "cell_type": "code",
   "execution_count": 49,
   "metadata": {},
   "outputs": [
    {
     "name": "stdout",
     "output_type": "stream",
     "text": [
      "1.0:actual\n",
      "0.002:weighted_random_recommendation\n",
      "0.0009:random_recommendation\n",
      "0.1552:popular_recommendation\n",
      "0.0002:random_recommendation_5000\n",
      "0.0273:ItemItemRec_5\n",
      "0.0254:ItemItemRec_10\n",
      "0.0255:ItemItemRec_15\n",
      "0.0204:CosineRec_5\n",
      "0.02:CosineRec_10\n",
      "0.02:CosineRec_15\n",
      "0.0202:TFIDFRec_5\n",
      "0.02:TFIDFRec_10\n",
      "0.02:TFIDFRec_15\n"
     ]
    }
   ],
   "source": [
    "for col in result.columns[1:]:\n",
    "    print(f\"{round(result.apply(lambda row: precision_at_k(row[col], row['actual']), axis = 1).mean(),4)}:{col}\")"
   ]
  },
  {
   "cell_type": "markdown",
   "metadata": {},
   "source": [
    "Можно сделать вывод, что с увеличением количества соседей в моделях, метрики меняются несущественно, в целом находятся на одном уровне.  \n",
    "Наилучший результат дала модель ItemItemRecommender с наименьшим количеством соседей  \n",
    "Также все модели выдают одинаковые товары, возможно, увеличивая количества соседей, результаты будут различаться."
   ]
  },
  {
   "cell_type": "code",
   "execution_count": null,
   "metadata": {},
   "outputs": [],
   "source": []
  }
 ],
 "metadata": {
  "colab": {
   "name": "hw_webinar_2.ipynb",
   "provenance": []
  },
  "kernelspec": {
   "display_name": "Python 3",
   "language": "python",
   "name": "python3"
  },
  "language_info": {
   "codemirror_mode": {
    "name": "ipython",
    "version": 3
   },
   "file_extension": ".py",
   "mimetype": "text/x-python",
   "name": "python",
   "nbconvert_exporter": "python",
   "pygments_lexer": "ipython3",
   "version": "3.9.2"
  }
 },
 "nbformat": 4,
 "nbformat_minor": 1
}
