{
 "cells": [
  {
   "cell_type": "markdown",
   "id": "portable-bullet",
   "metadata": {},
   "source": [
    "### Домашнее задание к вебинару 3"
   ]
  },
  {
   "cell_type": "markdown",
   "id": "optional-absence",
   "metadata": {},
   "source": [
    "### 1) Попытаться ответить на вопросы/выдвинуть гипотезы по 5 товарам"
   ]
  },
  {
   "cell_type": "markdown",
   "id": "cloudy-accessory",
   "metadata": {},
   "source": [
    "**Ситуация**: Вы работает data scientist в крупном продуктовом российском ритейлере. Ваш конкурент сделал рекомендательную систему, и его продажи выросли. Ваш менеджмент тоже хочет увеличить продажи   \n",
    "**Задача со слов менеджера**: Сделайте рекомендательную систему топ-10 товаров для рассылки по e-mail"
   ]
  },
  {
   "cell_type": "markdown",
   "id": "rational-template",
   "metadata": {},
   "source": [
    "**В итоге договорились с менеджером, что:**\n",
    "- Хотим повысить выручку минимум на 6% за 4 месяца. Будем повышать за счет роста Retention минимум на  3% и среднего чека минимум на 3%\n",
    "- Топ-5 товаров, а не топ-10 (В e-mail 10 выглядят не красиво, в push и на чек больше 5 не влезает)\n",
    "- Рассылаем в e-mail (5% клиентов) и push-уведомлении (20% клиентов), печатаем на чеке (все оффлайн клиенты)"
   ]
  },
  {
   "cell_type": "markdown",
   "id": "parliamentary-gregory",
   "metadata": {},
   "source": [
    "**Итак, необходимо включить в рассылку 5 товаров:** \n",
    "  \n",
    "**3 товара** с акцией (Как это учесть? А если на товар была акция 10%, а потом 50%, что будет стоять в user-item матрице?)   \n",
    "  \n",
    "*Предполагаю, что нужно использовать акцию, актуальную на данный момент. Если на этой неделе скидка 50%, ее и учиываем при расчете.*"
   ]
  },
  {
   "cell_type": "markdown",
   "id": "individual-flush",
   "metadata": {},
   "source": [
    "**1 новый товар** (юзер никогда не покупал. Просто фильтруем аутпут ALS? А если у таких товаров очень маленькая вероятность покупки? Может, использовать другую логику/модель?)  \n",
    "  \n",
    "*Я предполагаю, что необходимо отфильтровать по вероятности покупки и выбрать товар, который пользователь не покупал раньше, у которого будет наибольшая вероятность покупки (возможно, исходя из покупок похожих пользователей (соседей)). То есть использовать пост-фильтрацию*\n"
   ]
  },
  {
   "cell_type": "markdown",
   "id": "celtic-milton",
   "metadata": {},
   "source": [
    "**1 товар** для роста среднего чека (товары минимум дороже чем обычно покупает юзер. Как это измерить? На сколько дороже?)  \n",
    "  \n",
    "*Эта дельта в стоимости должна быть адекватной для юзера, то есть необходимо максимально корректно и этично ее рассчитать, чтобы цена была адекватна сегменту покупателя. Предложив товар дороже более чем в 2 раза от обычной аналогичной покупки, мы рискуем оттолкнуть клиента.*  \n",
    "*Предполагаю, что лучше всего выбирать такой товар не радомно, а из категории, в котором у юзера есть покупки. То есть, если он часто покупает сыр, предложить ему сыр чуть выше стоимостью.*  \n",
    "\n",
    "*Дельту можно рассчитать исходя из среднего чека. Допустим, если клиент покупает сок по 100 руб, однако его средний чек 4000 руб, вполне допустимо предложить ему сок дороже, нежели клиенту, покупающему такой же сок, но со средним чеком 2000 руб. То есть возможно, второй клиент любит сок, но в целом тратит меньше денег в магазине*"
   ]
  },
  {
   "cell_type": "markdown",
   "id": "aggressive-charles",
   "metadata": {},
   "source": [
    "### 4) Поэкспериментировать с ALS (grid-search)"
   ]
  },
  {
   "cell_type": "code",
   "execution_count": 20,
   "id": "statistical-parker",
   "metadata": {},
   "outputs": [],
   "source": [
    "import pandas as pd\n",
    "import numpy as np\n",
    "import matplotlib.pyplot as plt\n",
    "%matplotlib inline\n",
    "\n",
    "# Для работы с матрицами\n",
    "from scipy.sparse import csr_matrix\n",
    "\n",
    "# Матричная факторизация\n",
    "from implicit.als import AlternatingLeastSquares\n",
    "from implicit.nearest_neighbours import bm25_weight, tfidf_weight\n",
    "\n",
    "from sklearn.model_selection import GridSearchCV, KFold\n",
    "\n",
    "# Функции из 1-ого вебинара\n",
    "import os, sys\n",
    "\n",
    "module_path = os.path.abspath(os.path.join(os.pardir))\n",
    "if module_path not in sys.path:\n",
    "    sys.path.append(module_path)\n",
    "    \n",
    "from src.metrics import precision_at_k, recall_at_k"
   ]
  },
  {
   "cell_type": "code",
   "execution_count": 21,
   "id": "interesting-allowance",
   "metadata": {},
   "outputs": [],
   "source": [
    "DATASET_PATH = './retail_train.csv'\n",
    "ITEMS_PATH = './product.csv'"
   ]
  },
  {
   "cell_type": "code",
   "execution_count": 86,
   "id": "realistic-paragraph",
   "metadata": {},
   "outputs": [],
   "source": [
    "data = pd.read_csv(DATASET_PATH)\n",
    "items_data = pd.read_csv(ITEMS_PATH)"
   ]
  },
  {
   "cell_type": "code",
   "execution_count": 23,
   "id": "harmful-nursery",
   "metadata": {},
   "outputs": [
    {
     "data": {
      "text/html": [
       "<div>\n",
       "<style scoped>\n",
       "    .dataframe tbody tr th:only-of-type {\n",
       "        vertical-align: middle;\n",
       "    }\n",
       "\n",
       "    .dataframe tbody tr th {\n",
       "        vertical-align: top;\n",
       "    }\n",
       "\n",
       "    .dataframe thead th {\n",
       "        text-align: right;\n",
       "    }\n",
       "</style>\n",
       "<table border=\"1\" class=\"dataframe\">\n",
       "  <thead>\n",
       "    <tr style=\"text-align: right;\">\n",
       "      <th></th>\n",
       "      <th>item_id</th>\n",
       "      <th>manufacturer</th>\n",
       "      <th>department</th>\n",
       "      <th>brand</th>\n",
       "      <th>commodity_desc</th>\n",
       "      <th>sub_commodity_desc</th>\n",
       "      <th>curr_size_of_product</th>\n",
       "    </tr>\n",
       "  </thead>\n",
       "  <tbody>\n",
       "    <tr>\n",
       "      <th>0</th>\n",
       "      <td>25671</td>\n",
       "      <td>2</td>\n",
       "      <td>GROCERY</td>\n",
       "      <td>National</td>\n",
       "      <td>FRZN ICE</td>\n",
       "      <td>ICE - CRUSHED/CUBED</td>\n",
       "      <td>22 LB</td>\n",
       "    </tr>\n",
       "    <tr>\n",
       "      <th>1</th>\n",
       "      <td>26081</td>\n",
       "      <td>2</td>\n",
       "      <td>MISC. TRANS.</td>\n",
       "      <td>National</td>\n",
       "      <td>NO COMMODITY DESCRIPTION</td>\n",
       "      <td>NO SUBCOMMODITY DESCRIPTION</td>\n",
       "      <td></td>\n",
       "    </tr>\n",
       "  </tbody>\n",
       "</table>\n",
       "</div>"
      ],
      "text/plain": [
       "   item_id  manufacturer    department     brand            commodity_desc  \\\n",
       "0    25671             2       GROCERY  National                  FRZN ICE   \n",
       "1    26081             2  MISC. TRANS.  National  NO COMMODITY DESCRIPTION   \n",
       "\n",
       "            sub_commodity_desc curr_size_of_product  \n",
       "0          ICE - CRUSHED/CUBED                22 LB  \n",
       "1  NO SUBCOMMODITY DESCRIPTION                       "
      ]
     },
     "execution_count": 23,
     "metadata": {},
     "output_type": "execute_result"
    }
   ],
   "source": [
    "items_data.columns = [col.lower() for col in items_data.columns]\n",
    "items_data.rename(columns = {'product_id':'item_id'}, inplace=True)\n",
    "items_data.head(2)"
   ]
  },
  {
   "cell_type": "code",
   "execution_count": 24,
   "id": "turned-password",
   "metadata": {},
   "outputs": [
    {
     "data": {
      "text/html": [
       "<div>\n",
       "<style scoped>\n",
       "    .dataframe tbody tr th:only-of-type {\n",
       "        vertical-align: middle;\n",
       "    }\n",
       "\n",
       "    .dataframe tbody tr th {\n",
       "        vertical-align: top;\n",
       "    }\n",
       "\n",
       "    .dataframe thead th {\n",
       "        text-align: right;\n",
       "    }\n",
       "</style>\n",
       "<table border=\"1\" class=\"dataframe\">\n",
       "  <thead>\n",
       "    <tr style=\"text-align: right;\">\n",
       "      <th></th>\n",
       "      <th>user_id</th>\n",
       "      <th>basket_id</th>\n",
       "      <th>day</th>\n",
       "      <th>item_id</th>\n",
       "      <th>quantity</th>\n",
       "      <th>sales_value</th>\n",
       "      <th>store_id</th>\n",
       "      <th>retail_disc</th>\n",
       "      <th>trans_time</th>\n",
       "      <th>week_no</th>\n",
       "      <th>coupon_disc</th>\n",
       "      <th>coupon_match_disc</th>\n",
       "    </tr>\n",
       "  </thead>\n",
       "  <tbody>\n",
       "    <tr>\n",
       "      <th>0</th>\n",
       "      <td>2375</td>\n",
       "      <td>26984851472</td>\n",
       "      <td>1</td>\n",
       "      <td>1004906</td>\n",
       "      <td>1</td>\n",
       "      <td>1.39</td>\n",
       "      <td>364</td>\n",
       "      <td>-0.6</td>\n",
       "      <td>1631</td>\n",
       "      <td>1</td>\n",
       "      <td>0.0</td>\n",
       "      <td>0.0</td>\n",
       "    </tr>\n",
       "    <tr>\n",
       "      <th>1</th>\n",
       "      <td>2375</td>\n",
       "      <td>26984851472</td>\n",
       "      <td>1</td>\n",
       "      <td>1033142</td>\n",
       "      <td>1</td>\n",
       "      <td>0.82</td>\n",
       "      <td>364</td>\n",
       "      <td>0.0</td>\n",
       "      <td>1631</td>\n",
       "      <td>1</td>\n",
       "      <td>0.0</td>\n",
       "      <td>0.0</td>\n",
       "    </tr>\n",
       "  </tbody>\n",
       "</table>\n",
       "</div>"
      ],
      "text/plain": [
       "   user_id    basket_id  day  item_id  quantity  sales_value  store_id  \\\n",
       "0     2375  26984851472    1  1004906         1         1.39       364   \n",
       "1     2375  26984851472    1  1033142         1         0.82       364   \n",
       "\n",
       "   retail_disc  trans_time  week_no  coupon_disc  coupon_match_disc  \n",
       "0         -0.6        1631        1          0.0                0.0  \n",
       "1          0.0        1631        1          0.0                0.0  "
      ]
     },
     "execution_count": 24,
     "metadata": {},
     "output_type": "execute_result"
    }
   ],
   "source": [
    "data.columns = [col.lower() for col in data.columns]\n",
    "data.rename(columns={'household_key': 'user_id',\n",
    "                    'product_id': 'item_id'},\n",
    "           inplace=True)\n",
    "\n",
    "\n",
    "test_size_weeks = 3\n",
    "\n",
    "data_train = data[data['week_no'] < data['week_no'].max() - test_size_weeks]\n",
    "data_test = data[data['week_no'] >= data['week_no'].max() - test_size_weeks]\n",
    "\n",
    "data_train.head(2)"
   ]
  },
  {
   "cell_type": "code",
   "execution_count": 25,
   "id": "fundamental-boxing",
   "metadata": {},
   "outputs": [
    {
     "data": {
      "text/html": [
       "<div>\n",
       "<style scoped>\n",
       "    .dataframe tbody tr th:only-of-type {\n",
       "        vertical-align: middle;\n",
       "    }\n",
       "\n",
       "    .dataframe tbody tr th {\n",
       "        vertical-align: top;\n",
       "    }\n",
       "\n",
       "    .dataframe thead th {\n",
       "        text-align: right;\n",
       "    }\n",
       "</style>\n",
       "<table border=\"1\" class=\"dataframe\">\n",
       "  <thead>\n",
       "    <tr style=\"text-align: right;\">\n",
       "      <th></th>\n",
       "      <th>user_id</th>\n",
       "      <th>actual</th>\n",
       "    </tr>\n",
       "  </thead>\n",
       "  <tbody>\n",
       "    <tr>\n",
       "      <th>0</th>\n",
       "      <td>1</td>\n",
       "      <td>[821867, 834484, 856942, 865456, 889248, 90795...</td>\n",
       "    </tr>\n",
       "    <tr>\n",
       "      <th>1</th>\n",
       "      <td>3</td>\n",
       "      <td>[835476, 851057, 872021, 878302, 879948, 90963...</td>\n",
       "    </tr>\n",
       "  </tbody>\n",
       "</table>\n",
       "</div>"
      ],
      "text/plain": [
       "   user_id                                             actual\n",
       "0        1  [821867, 834484, 856942, 865456, 889248, 90795...\n",
       "1        3  [835476, 851057, 872021, 878302, 879948, 90963..."
      ]
     },
     "execution_count": 25,
     "metadata": {},
     "output_type": "execute_result"
    }
   ],
   "source": [
    "result = data_test.groupby('user_id')['item_id'].unique().reset_index()\n",
    "result.columns=['user_id', 'actual']\n",
    "result.head(2)"
   ]
  },
  {
   "cell_type": "code",
   "execution_count": 26,
   "id": "billion-constraint",
   "metadata": {},
   "outputs": [],
   "source": [
    "popularity = data_train.groupby('item_id')['quantity'].sum().reset_index()\n",
    "popularity.rename(columns={'quantity': 'n_sold'}, inplace=True)\n",
    "\n",
    "top_5000 = popularity.sort_values('n_sold', ascending=False).head(5000).item_id.tolist()"
   ]
  },
  {
   "cell_type": "code",
   "execution_count": 27,
   "id": "aging-monster",
   "metadata": {
    "scrolled": true
   },
   "outputs": [
    {
     "name": "stderr",
     "output_type": "stream",
     "text": [
      "/Library/Frameworks/Python.framework/Versions/3.9/lib/python3.9/site-packages/pandas/core/indexing.py:1720: SettingWithCopyWarning: \n",
      "A value is trying to be set on a copy of a slice from a DataFrame.\n",
      "Try using .loc[row_indexer,col_indexer] = value instead\n",
      "\n",
      "See the caveats in the documentation: https://pandas.pydata.org/pandas-docs/stable/user_guide/indexing.html#returning-a-view-versus-a-copy\n",
      "  self._setitem_single_column(loc, value, pi)\n"
     ]
    }
   ],
   "source": [
    "# Заведем фиктивный item_id (если юзер покупал товары из топ-5000, то он \"купил\" такой товар)\n",
    "data_train.loc[~data_train['item_id'].isin(top_5000), 'item_id'] = 999999\n",
    "\n"
   ]
  },
  {
   "cell_type": "markdown",
   "id": "public-geography",
   "metadata": {},
   "source": [
    "**Создадим функцию для префильтрации данных**"
   ]
  },
  {
   "cell_type": "code",
   "execution_count": 28,
   "id": "technical-community",
   "metadata": {},
   "outputs": [
    {
     "data": {
      "text/html": [
       "<div>\n",
       "<style scoped>\n",
       "    .dataframe tbody tr th:only-of-type {\n",
       "        vertical-align: middle;\n",
       "    }\n",
       "\n",
       "    .dataframe tbody tr th {\n",
       "        vertical-align: top;\n",
       "    }\n",
       "\n",
       "    .dataframe thead th {\n",
       "        text-align: right;\n",
       "    }\n",
       "</style>\n",
       "<table border=\"1\" class=\"dataframe\">\n",
       "  <thead>\n",
       "    <tr style=\"text-align: right;\">\n",
       "      <th>item_id</th>\n",
       "      <th>202291</th>\n",
       "      <th>397896</th>\n",
       "      <th>420647</th>\n",
       "      <th>480014</th>\n",
       "      <th>545926</th>\n",
       "      <th>707683</th>\n",
       "      <th>731106</th>\n",
       "      <th>818980</th>\n",
       "      <th>819063</th>\n",
       "      <th>819227</th>\n",
       "      <th>...</th>\n",
       "      <th>15778533</th>\n",
       "      <th>15831255</th>\n",
       "      <th>15926712</th>\n",
       "      <th>15926775</th>\n",
       "      <th>15926844</th>\n",
       "      <th>15926886</th>\n",
       "      <th>15927403</th>\n",
       "      <th>15927661</th>\n",
       "      <th>15927850</th>\n",
       "      <th>16809471</th>\n",
       "    </tr>\n",
       "    <tr>\n",
       "      <th>user_id</th>\n",
       "      <th></th>\n",
       "      <th></th>\n",
       "      <th></th>\n",
       "      <th></th>\n",
       "      <th></th>\n",
       "      <th></th>\n",
       "      <th></th>\n",
       "      <th></th>\n",
       "      <th></th>\n",
       "      <th></th>\n",
       "      <th></th>\n",
       "      <th></th>\n",
       "      <th></th>\n",
       "      <th></th>\n",
       "      <th></th>\n",
       "      <th></th>\n",
       "      <th></th>\n",
       "      <th></th>\n",
       "      <th></th>\n",
       "      <th></th>\n",
       "      <th></th>\n",
       "    </tr>\n",
       "  </thead>\n",
       "  <tbody>\n",
       "    <tr>\n",
       "      <th>1</th>\n",
       "      <td>0.0</td>\n",
       "      <td>0.0</td>\n",
       "      <td>0.0</td>\n",
       "      <td>0.0</td>\n",
       "      <td>0.0</td>\n",
       "      <td>0.0</td>\n",
       "      <td>0.0</td>\n",
       "      <td>0.0</td>\n",
       "      <td>0.0</td>\n",
       "      <td>0.0</td>\n",
       "      <td>...</td>\n",
       "      <td>0.0</td>\n",
       "      <td>0.0</td>\n",
       "      <td>0.0</td>\n",
       "      <td>0.0</td>\n",
       "      <td>1.0</td>\n",
       "      <td>0.0</td>\n",
       "      <td>0.0</td>\n",
       "      <td>0.0</td>\n",
       "      <td>0.0</td>\n",
       "      <td>0.0</td>\n",
       "    </tr>\n",
       "    <tr>\n",
       "      <th>2</th>\n",
       "      <td>0.0</td>\n",
       "      <td>0.0</td>\n",
       "      <td>0.0</td>\n",
       "      <td>0.0</td>\n",
       "      <td>0.0</td>\n",
       "      <td>0.0</td>\n",
       "      <td>0.0</td>\n",
       "      <td>0.0</td>\n",
       "      <td>0.0</td>\n",
       "      <td>0.0</td>\n",
       "      <td>...</td>\n",
       "      <td>0.0</td>\n",
       "      <td>0.0</td>\n",
       "      <td>0.0</td>\n",
       "      <td>0.0</td>\n",
       "      <td>0.0</td>\n",
       "      <td>0.0</td>\n",
       "      <td>0.0</td>\n",
       "      <td>0.0</td>\n",
       "      <td>0.0</td>\n",
       "      <td>0.0</td>\n",
       "    </tr>\n",
       "    <tr>\n",
       "      <th>3</th>\n",
       "      <td>0.0</td>\n",
       "      <td>0.0</td>\n",
       "      <td>0.0</td>\n",
       "      <td>0.0</td>\n",
       "      <td>0.0</td>\n",
       "      <td>0.0</td>\n",
       "      <td>0.0</td>\n",
       "      <td>0.0</td>\n",
       "      <td>0.0</td>\n",
       "      <td>0.0</td>\n",
       "      <td>...</td>\n",
       "      <td>0.0</td>\n",
       "      <td>0.0</td>\n",
       "      <td>0.0</td>\n",
       "      <td>0.0</td>\n",
       "      <td>0.0</td>\n",
       "      <td>0.0</td>\n",
       "      <td>0.0</td>\n",
       "      <td>0.0</td>\n",
       "      <td>0.0</td>\n",
       "      <td>0.0</td>\n",
       "    </tr>\n",
       "  </tbody>\n",
       "</table>\n",
       "<p>3 rows × 5001 columns</p>\n",
       "</div>"
      ],
      "text/plain": [
       "item_id  202291    397896    420647    480014    545926    707683    731106    \\\n",
       "user_id                                                                         \n",
       "1             0.0       0.0       0.0       0.0       0.0       0.0       0.0   \n",
       "2             0.0       0.0       0.0       0.0       0.0       0.0       0.0   \n",
       "3             0.0       0.0       0.0       0.0       0.0       0.0       0.0   \n",
       "\n",
       "item_id  818980    819063    819227    ...  15778533  15831255  15926712  \\\n",
       "user_id                                ...                                 \n",
       "1             0.0       0.0       0.0  ...       0.0       0.0       0.0   \n",
       "2             0.0       0.0       0.0  ...       0.0       0.0       0.0   \n",
       "3             0.0       0.0       0.0  ...       0.0       0.0       0.0   \n",
       "\n",
       "item_id  15926775  15926844  15926886  15927403  15927661  15927850  16809471  \n",
       "user_id                                                                        \n",
       "1             0.0       1.0       0.0       0.0       0.0       0.0       0.0  \n",
       "2             0.0       0.0       0.0       0.0       0.0       0.0       0.0  \n",
       "3             0.0       0.0       0.0       0.0       0.0       0.0       0.0  \n",
       "\n",
       "[3 rows x 5001 columns]"
      ]
     },
     "execution_count": 28,
     "metadata": {},
     "output_type": "execute_result"
    }
   ],
   "source": [
    "# Создаем user_item matrix \n",
    "user_item_matrix = pd.pivot_table(data_train, \n",
    "                                  index='user_id', columns='item_id', \n",
    "                                  values='quantity', # необязательно использовать именно quantity\n",
    "                                  aggfunc='count', \n",
    "                                  fill_value=0\n",
    "                                 )\n",
    "\n",
    "user_item_matrix = user_item_matrix.astype(float) # необходимый тип матрицы для implicit\n",
    "\n",
    "# переведем в формат sparse matrix\n",
    "sparse_user_item = csr_matrix(user_item_matrix).tocsr()\n",
    "\n",
    "user_item_matrix.head(3)"
   ]
  },
  {
   "cell_type": "code",
   "execution_count": 29,
   "id": "labeled-headquarters",
   "metadata": {},
   "outputs": [],
   "source": [
    "#Создаем словари для перевода исходные индексы в матричные\n",
    "\n",
    "userids = user_item_matrix.index.values\n",
    "itemids = user_item_matrix.columns.values\n",
    "\n",
    "matrix_userids = np.arange(len(userids))\n",
    "matrix_itemids = np.arange(len(itemids))\n",
    "\n",
    "matrixid_to_itemid = dict(zip(matrix_itemids, itemids))\n",
    "matrixid_to_userid = dict(zip(matrix_userids, userids))\n",
    "\n",
    "itemid_to_matrixid = dict(zip(itemids, matrix_itemids))\n",
    "userid_to_matrixid = dict(zip(userids, matrix_userids))"
   ]
  },
  {
   "cell_type": "code",
   "execution_count": 30,
   "id": "certified-adobe",
   "metadata": {},
   "outputs": [
    {
     "data": {
      "application/vnd.jupyter.widget-view+json": {
       "model_id": "88681ff0b80e471996e7f411af1f3343",
       "version_major": 2,
       "version_minor": 0
      },
      "text/plain": [
       "  0%|          | 0/15 [00:00<?, ?it/s]"
      ]
     },
     "metadata": {},
     "output_type": "display_data"
    }
   ],
   "source": [
    "model = AlternatingLeastSquares(factors=100, \n",
    "                                regularization=0.001,\n",
    "                                iterations=15, \n",
    "                                calculate_training_loss=True, \n",
    "                                num_threads=4)\n",
    "\n",
    "model.fit(csr_matrix(user_item_matrix).T.tocsr(),  # На вход item-user matrix\n",
    "          show_progress=True)"
   ]
  },
  {
   "cell_type": "code",
   "execution_count": 31,
   "id": "fundamental-instruction",
   "metadata": {},
   "outputs": [],
   "source": [
    "\n",
    "#Создадим функцию для получения рекомендаций для всех пользователей\n",
    "def get_recommendations(user, model, N=5):\n",
    "    res = [matrixid_to_itemid[rec[0]] for rec in \n",
    "                    model.recommend(userid=userid_to_matrixid[user], \n",
    "                                    user_items=sparse_user_item,   # на вход user-item matrix\n",
    "                                    N=N, \n",
    "                                    filter_already_liked_items=False, \n",
    "                                    filter_items=[itemid_to_matrixid[999999]], \n",
    "                                    recalculate_user=True)]\n",
    "    return res"
   ]
  },
  {
   "cell_type": "code",
   "execution_count": 32,
   "id": "tender-syndrome",
   "metadata": {},
   "outputs": [],
   "source": [
    "result['als'] = result['user_id'].apply(lambda x: get_recommendations(x, model=model, N=5))"
   ]
  },
  {
   "cell_type": "code",
   "execution_count": 33,
   "id": "owned-america",
   "metadata": {},
   "outputs": [
    {
     "data": {
      "text/plain": [
       "0.1791380999020568"
      ]
     },
     "execution_count": 33,
     "metadata": {},
     "output_type": "execute_result"
    }
   ],
   "source": [
    "result.apply(lambda row: precision_at_k(row['als'], row['actual']), axis=1).mean()"
   ]
  },
  {
   "cell_type": "markdown",
   "id": "valid-probability",
   "metadata": {},
   "source": [
    "#### Попробуем подобрать лучшие гиперпараметры для модели"
   ]
  },
  {
   "cell_type": "code",
   "execution_count": 210,
   "id": "backed-absence",
   "metadata": {},
   "outputs": [],
   "source": [
    "params = {'factors':[35, 55],\n",
    "         'regularization':[0.01, 0.05, 0.1],\n",
    "         'iterations':[10, 15, 30]}\n",
    "\n",
    "# перебрала большое количество параметров, оставила лучшие"
   ]
  },
  {
   "cell_type": "code",
   "execution_count": 211,
   "id": "statutory-storage",
   "metadata": {},
   "outputs": [
    {
     "name": "stdout",
     "output_type": "stream",
     "text": [
      "factors=35, regularization=0.01, iterations=10: 0.190597.\n",
      "factors=35, regularization=0.01, iterations=15: 0.184427.\n",
      "factors=35, regularization=0.01, iterations=30: 0.185798.\n",
      "factors=35, regularization=0.05, iterations=10: 0.188345.\n",
      "factors=35, regularization=0.05, iterations=15: 0.187071.\n",
      "factors=35, regularization=0.05, iterations=30: 0.187365.\n",
      "factors=35, regularization=0.1, iterations=10: 0.190891.\n",
      "factors=35, regularization=0.1, iterations=15: 0.188541.\n",
      "factors=35, regularization=0.1, iterations=30: 0.188541.\n",
      "factors=55, regularization=0.01, iterations=10: 0.190010.\n",
      "factors=55, regularization=0.01, iterations=15: 0.184721.\n",
      "factors=55, regularization=0.01, iterations=30: 0.182860.\n",
      "factors=55, regularization=0.05, iterations=10: 0.188834.\n",
      "factors=55, regularization=0.05, iterations=15: 0.188443.\n",
      "factors=55, regularization=0.05, iterations=30: 0.185896.\n",
      "factors=55, regularization=0.1, iterations=10: 0.188737.\n",
      "factors=55, regularization=0.1, iterations=15: 0.184721.\n",
      "factors=55, regularization=0.1, iterations=30: 0.183839.\n",
      "CPU times: user 12min 36s, sys: 31min 29s, total: 44min 6s\n",
      "Wall time: 8min 8s\n"
     ]
    }
   ],
   "source": [
    "%%time\n",
    "\n",
    "for factor in params['factors']:\n",
    "    for reg in params['regularization']:\n",
    "        for itr in params['iterations']:\n",
    "            model = AlternatingLeastSquares(factors=factor, \n",
    "                                            regularization=reg,\n",
    "                                            iterations=itr, \n",
    "                                            calculate_training_loss=True, \n",
    "                                            num_threads=4)\n",
    "\n",
    "            model.fit(csr_matrix(user_item_matrix).T.tocsr(),  # На вход item-user matrix\n",
    "                      show_progress=False)\n",
    "            \n",
    "            result['als'] = result['user_id'].apply(lambda x: get_recommendations(x, model=model, N=5))\n",
    "            metric_value = result.apply(lambda row: precision_at_k(row['als'], row['actual']), axis=1).mean()\n",
    "            print(f'factors={factor}, regularization={reg}, iterations={itr}: {metric_value:.6f}.')"
   ]
  },
  {
   "cell_type": "markdown",
   "id": "flexible-morocco",
   "metadata": {},
   "source": [
    "**Вывод:** В целом, значения метрики достаточно неплохие.  \n",
    "Наибольший precision_at_k = 0.190891 достигается при параметрах:  \n",
    "factors = 35,  \n",
    "regularization = 0.1,  \n",
    "iterations = 10"
   ]
  },
  {
   "cell_type": "code",
   "execution_count": 212,
   "id": "beginning-edgar",
   "metadata": {},
   "outputs": [
    {
     "data": {
      "text/html": [
       "<div>\n",
       "<style scoped>\n",
       "    .dataframe tbody tr th:only-of-type {\n",
       "        vertical-align: middle;\n",
       "    }\n",
       "\n",
       "    .dataframe tbody tr th {\n",
       "        vertical-align: top;\n",
       "    }\n",
       "\n",
       "    .dataframe thead th {\n",
       "        text-align: right;\n",
       "    }\n",
       "</style>\n",
       "<table border=\"1\" class=\"dataframe\">\n",
       "  <thead>\n",
       "    <tr style=\"text-align: right;\">\n",
       "      <th></th>\n",
       "      <th>user_id</th>\n",
       "      <th>actual</th>\n",
       "      <th>als</th>\n",
       "    </tr>\n",
       "  </thead>\n",
       "  <tbody>\n",
       "    <tr>\n",
       "      <th>0</th>\n",
       "      <td>1</td>\n",
       "      <td>[821867, 834484, 856942, 865456, 889248, 90795...</td>\n",
       "      <td>[965766, 1033142, 5569374, 1005186, 832678]</td>\n",
       "    </tr>\n",
       "    <tr>\n",
       "      <th>1</th>\n",
       "      <td>3</td>\n",
       "      <td>[835476, 851057, 872021, 878302, 879948, 90963...</td>\n",
       "      <td>[951590, 1106523, 1133018, 1092026, 5568378]</td>\n",
       "    </tr>\n",
       "  </tbody>\n",
       "</table>\n",
       "</div>"
      ],
      "text/plain": [
       "   user_id                                             actual  \\\n",
       "0        1  [821867, 834484, 856942, 865456, 889248, 90795...   \n",
       "1        3  [835476, 851057, 872021, 878302, 879948, 90963...   \n",
       "\n",
       "                                            als  \n",
       "0   [965766, 1033142, 5569374, 1005186, 832678]  \n",
       "1  [951590, 1106523, 1133018, 1092026, 5568378]  "
      ]
     },
     "execution_count": 212,
     "metadata": {},
     "output_type": "execute_result"
    }
   ],
   "source": [
    "result.head(2)"
   ]
  },
  {
   "cell_type": "code",
   "execution_count": 36,
   "id": "banner-triumph",
   "metadata": {},
   "outputs": [
    {
     "data": {
      "text/html": [
       "<div>\n",
       "<style scoped>\n",
       "    .dataframe tbody tr th:only-of-type {\n",
       "        vertical-align: middle;\n",
       "    }\n",
       "\n",
       "    .dataframe tbody tr th {\n",
       "        vertical-align: top;\n",
       "    }\n",
       "\n",
       "    .dataframe thead th {\n",
       "        text-align: right;\n",
       "    }\n",
       "</style>\n",
       "<table border=\"1\" class=\"dataframe\">\n",
       "  <thead>\n",
       "    <tr style=\"text-align: right;\">\n",
       "      <th></th>\n",
       "      <th>model</th>\n",
       "      <th>precision@k_score</th>\n",
       "    </tr>\n",
       "  </thead>\n",
       "  <tbody>\n",
       "    <tr>\n",
       "      <th>0</th>\n",
       "      <td>als</td>\n",
       "      <td>0.190891</td>\n",
       "    </tr>\n",
       "  </tbody>\n",
       "</table>\n",
       "</div>"
      ],
      "text/plain": [
       "  model  precision@k_score\n",
       "0   als           0.190891"
      ]
     },
     "execution_count": 36,
     "metadata": {},
     "output_type": "execute_result"
    }
   ],
   "source": [
    "precision_scores = pd.DataFrame({'model' : ['als'],\n",
    "                         'precision@k_score': 0.190891})\n",
    "precision_scores"
   ]
  },
  {
   "cell_type": "markdown",
   "id": "designed-elements",
   "metadata": {},
   "source": [
    "#### Попробуем сделать взвешивание user_item_matrix"
   ]
  },
  {
   "cell_type": "code",
   "execution_count": 34,
   "id": "subjective-antarctica",
   "metadata": {},
   "outputs": [],
   "source": [
    "#Обновим нашу модель ALS\n",
    "\n",
    "model = AlternatingLeastSquares(factors = 35,\n",
    "                              regularization = 0.1,\n",
    "                              iterations = 10,\n",
    "                              calculate_training_loss = True,\n",
    "                              num_threads = 4,\n",
    "                              )"
   ]
  },
  {
   "cell_type": "markdown",
   "id": "empty-conservation",
   "metadata": {},
   "source": [
    "#### Сделаем TFIDF взвешивание user_item_matrix"
   ]
  },
  {
   "cell_type": "code",
   "execution_count": 47,
   "id": "considered-wells",
   "metadata": {},
   "outputs": [],
   "source": [
    "user_item_matrix_tfidfweighted = tfidf_weight(user_item_matrix.T).T\n",
    "sparse_user_item = csr_matrix(user_item_matrix_tfidfweighted).tocsr()"
   ]
  },
  {
   "cell_type": "code",
   "execution_count": 48,
   "id": "exciting-california",
   "metadata": {},
   "outputs": [
    {
     "data": {
      "application/vnd.jupyter.widget-view+json": {
       "model_id": "9930c374b1884c7892e60a970f27a6fe",
       "version_major": 2,
       "version_minor": 0
      },
      "text/plain": [
       "  0%|          | 0/10 [00:00<?, ?it/s]"
      ]
     },
     "metadata": {},
     "output_type": "display_data"
    }
   ],
   "source": [
    "# Обучим модель на новой взвешенной матрице\n",
    "model.fit(csr_matrix(user_item_matrix_tfidfweighted).T.tocsr(), \n",
    "         show_progress = True)"
   ]
  },
  {
   "cell_type": "code",
   "execution_count": 49,
   "id": "fuzzy-position",
   "metadata": {},
   "outputs": [],
   "source": [
    "result['als_with_tfidf'] = result['user_id'].apply(lambda x: get_recommendations(x, model=model, N=5))\n",
    "#result.apply(lambda row: precision_at_k(row['als_with_tfidf'], row['actual']), axis=1).mean()"
   ]
  },
  {
   "cell_type": "code",
   "execution_count": 50,
   "id": "previous-substitute",
   "metadata": {},
   "outputs": [],
   "source": [
    "precision_k_tfidf = result.apply(lambda row: precision_at_k(row['als_with_tfidf'], row['actual']), axis=1).mean()"
   ]
  },
  {
   "cell_type": "code",
   "execution_count": 51,
   "id": "severe-wisconsin",
   "metadata": {},
   "outputs": [],
   "source": [
    "precision_scores.loc[precision_scores.shape[0]] = ['als_with_tfidf', precision_k_tfidf]"
   ]
  },
  {
   "cell_type": "markdown",
   "id": "fifty-dress",
   "metadata": {},
   "source": [
    "#### Теперь сделаем BM25 взвешивание"
   ]
  },
  {
   "cell_type": "code",
   "execution_count": 52,
   "id": "worse-theory",
   "metadata": {},
   "outputs": [],
   "source": [
    "user_item_matrix_bm25weighted = bm25_weight(user_item_matrix.T).T\n",
    "sparse_user_item = csr_matrix(user_item_matrix_bm25weighted).tocsr()"
   ]
  },
  {
   "cell_type": "code",
   "execution_count": 53,
   "id": "cultural-cassette",
   "metadata": {},
   "outputs": [
    {
     "data": {
      "application/vnd.jupyter.widget-view+json": {
       "model_id": "ed31ecacf49246799e6e7c18237640d6",
       "version_major": 2,
       "version_minor": 0
      },
      "text/plain": [
       "  0%|          | 0/10 [00:00<?, ?it/s]"
      ]
     },
     "metadata": {},
     "output_type": "display_data"
    }
   ],
   "source": [
    "model.fit(csr_matrix(user_item_matrix_bm25weighted).T.tocsr(), \n",
    "         show_progress = True)"
   ]
  },
  {
   "cell_type": "code",
   "execution_count": 54,
   "id": "instant-wesley",
   "metadata": {},
   "outputs": [],
   "source": [
    "result['als_with_bm25'] = result['user_id'].apply(lambda x: get_recommendations(x, model = model, N=5))\n",
    "#result.apply(lambda row: precision_at_k(row['als_with_bm25'], row['actual']), axis = 1).mean()"
   ]
  },
  {
   "cell_type": "code",
   "execution_count": 55,
   "id": "incorporate-portfolio",
   "metadata": {},
   "outputs": [],
   "source": [
    "precision_k_bm25 = result.apply(lambda row: precision_at_k(row['als_with_bm25'], row['actual']), axis = 1).mean()"
   ]
  },
  {
   "cell_type": "code",
   "execution_count": 56,
   "id": "absolute-germany",
   "metadata": {},
   "outputs": [],
   "source": [
    "precision_scores.loc[precision_scores.shape[0]] = ['als_with_bm25', precision_k_bm25]"
   ]
  },
  {
   "cell_type": "code",
   "execution_count": 61,
   "id": "grave-ability",
   "metadata": {},
   "outputs": [
    {
     "data": {
      "text/html": [
       "<div>\n",
       "<style scoped>\n",
       "    .dataframe tbody tr th:only-of-type {\n",
       "        vertical-align: middle;\n",
       "    }\n",
       "\n",
       "    .dataframe tbody tr th {\n",
       "        vertical-align: top;\n",
       "    }\n",
       "\n",
       "    .dataframe thead th {\n",
       "        text-align: right;\n",
       "    }\n",
       "</style>\n",
       "<table border=\"1\" class=\"dataframe\">\n",
       "  <thead>\n",
       "    <tr style=\"text-align: right;\">\n",
       "      <th></th>\n",
       "      <th>model</th>\n",
       "      <th>precision@k_score</th>\n",
       "    </tr>\n",
       "  </thead>\n",
       "  <tbody>\n",
       "    <tr>\n",
       "      <th>2</th>\n",
       "      <td>als_with_bm25</td>\n",
       "      <td>0.198041</td>\n",
       "    </tr>\n",
       "    <tr>\n",
       "      <th>3</th>\n",
       "      <td>als_with_tfidf</td>\n",
       "      <td>0.173164</td>\n",
       "    </tr>\n",
       "    <tr>\n",
       "      <th>4</th>\n",
       "      <td>als_with_bm25</td>\n",
       "      <td>0.128991</td>\n",
       "    </tr>\n",
       "  </tbody>\n",
       "</table>\n",
       "</div>"
      ],
      "text/plain": [
       "            model  precision@k_score\n",
       "2   als_with_bm25           0.198041\n",
       "3  als_with_tfidf           0.173164\n",
       "4   als_with_bm25           0.128991"
      ]
     },
     "execution_count": 61,
     "metadata": {},
     "output_type": "execute_result"
    }
   ],
   "source": [
    "precision_scores"
   ]
  },
  {
   "cell_type": "markdown",
   "id": "systematic-blackjack",
   "metadata": {},
   "source": [
    "**Вывод:** делаем вывод, что взвешивание понизило результат"
   ]
  },
  {
   "cell_type": "markdown",
   "id": "difficult-physics",
   "metadata": {},
   "source": [
    "### Сделаем рекомендации с предварительной фильтрацией датасета"
   ]
  },
  {
   "cell_type": "code",
   "execution_count": 76,
   "id": "suburban-occasions",
   "metadata": {},
   "outputs": [],
   "source": [
    "#Переопределим датафрейм\n",
    "data_train = data[data['week_no'] < data['week_no'].max() - test_size_weeks]"
   ]
  },
  {
   "cell_type": "code",
   "execution_count": 77,
   "id": "romance-universe",
   "metadata": {},
   "outputs": [],
   "source": [
    "def prefilter_items(data):\n",
    "    \n",
    "    fake_id = 99999\n",
    "    \n",
    "    # 1. Уберем самые популярные товары (их и так купят)\n",
    "    #popularity = data.groupby('item_id')['user_id'].nunique().reset_index() / data['user_id'].nunique()\n",
    "    #popularity.rename(columns={'user_id': 'unique_buyers'}, inplace=True)\n",
    "    \n",
    "    #top_popular = popularity[popularity['unique_buyers'] > 0.4].item_id.tolist()\n",
    "    \n",
    "    #data = data[~data['item_id'].isin(top_popular)]\n",
    "    #data.loc[data['item_id'].isin(top_popular)] = fake_id\n",
    "    \n",
    "    # 2. Уберем самые НЕ популярные товары (их и так НЕ купят)\n",
    "    #top_notpopular = popularity[popularity['unique_buyers'] < 0.02].item_id.tolist()\n",
    "    \n",
    "    #data = data[~data['item_id'].isin(top_notpopular)]\n",
    "    #data.loc[data['item_id'].isin(top_popular)] = fake_id\n",
    "    \n",
    "    # 3. Уберем товары, которые не продавались за последние 12 месяцев\n",
    "    ''' 12 месяцев = 52 недели '''\n",
    "    \n",
    "    max_week = data['week_no'].max()\n",
    "    max_week_for_item = data_train.groupby('item_id')['week_no'].max().reset_index()\n",
    "    \n",
    "    '''Выделим товары, которые продавались последний раз менее года назад'''\n",
    "    new_items = max_week_for_item.loc[max_week_for_item['week_no'] > max_week - 52, 'item_id'].tolist()\n",
    "    \n",
    "    #data.loc[~data['item_id'].isin(new_items), 'item_id'] = fake_id\n",
    "    \n",
    "    data = data[data['item_id'].isin(new_items)]\n",
    "    \n",
    "    # 4. Уберем не интересные для рекоммендаций категории (department)\n",
    "    department_size = items_data.groupby('department')['item_id'].nunique().reset_index()\n",
    "    department_size.columns = ['department', 'n_items']\n",
    "    rare_departments = department_size[department_size['n_items'] < 150].department.tolist()\n",
    "    items_in_rare_departments = items_data[items_data['department'].isin(rare_departments)].item_id.unique().tolist()\n",
    "    data = data[~data['item_id'].isin(items_in_rare_departments)]\n",
    "    \n",
    "    \n",
    "    # 5. Уберем слишком дешевые и слишком дорогие товары (на них не заработаем). 1 покупка из рассылок стоит 60 руб. \n",
    "    \n",
    "    '''Найдем среднюю цену за товар, т.к. клиенты могли покупать по разным ценам'''\n",
    "                  \n",
    "    sales = data.groupby('item_id')[['sales_value', 'quantity']].sum().reset_index()\n",
    "    sales.rename(columns={'sales_value': 'total_revenue', 'quantity': 'n_sold'}, inplace=True)\n",
    "    sales['avg_price'] = np.where(sales['n_sold'] > 0, sales['total_revenue'] / sales['n_sold'], 0)\n",
    "    ids_for_rec = sales[(sales['avg_price'] > 2) & (sales['avg_price'] < 50)].item_id.tolist()\n",
    "    \n",
    "    data = data[data['item_id'].isin(ids_for_rec)]\n",
    "    #data.loc[~data['item_id'].isin(ids_for_rec), 'item_id'] = fake_id   \n",
    "\n",
    "    # 6. Отфильтруем топ 5000\n",
    "    popularity = data.groupby('item_id')['quantity'].sum().reset_index()\n",
    "    popularity.rename(columns={'quantity': 'n_sold'}, inplace=True)\n",
    "    top_5000 = popularity.sort_values('n_sold', ascending=False).head(5000).item_id.tolist()\n",
    "    \n",
    "    # заведем фиктивный товар - все товары, которые не попали в топ 5000, назовем 999999\n",
    "    data.loc[~data['item_id'].isin(top_5000), 'item_id'] = fake_id              \n",
    "                    \n",
    "    return data\n",
    "    \n",
    "def postfilter_items(user_id, recommendations):\n",
    "    pass"
   ]
  },
  {
   "cell_type": "code",
   "execution_count": 78,
   "id": "greek-pioneer",
   "metadata": {},
   "outputs": [],
   "source": [
    "# Сделаем префильтрацию \n",
    "\n",
    "data_train_ = prefilter_items(data_train)"
   ]
  },
  {
   "cell_type": "code",
   "execution_count": 79,
   "id": "possible-easter",
   "metadata": {},
   "outputs": [
    {
     "data": {
      "text/plain": [
       "{1984, 2259}"
      ]
     },
     "execution_count": 79,
     "metadata": {},
     "output_type": "execute_result"
    }
   ],
   "source": [
    "new_test_users = set(data_test['user_id']) - set(data_train_['user_id'])\n",
    "new_test_users"
   ]
  },
  {
   "cell_type": "code",
   "execution_count": 80,
   "id": "clean-people",
   "metadata": {},
   "outputs": [],
   "source": [
    "#Уберем из result юзеров, которых мы \"не знаем\" (не встречали в тренировочном датасете)\n",
    "\n",
    "result = result.loc[result['user_id'] != 1984]\n",
    "result = result.loc[result['user_id'] != 2259]"
   ]
  },
  {
   "cell_type": "code",
   "execution_count": 81,
   "id": "earned-responsibility",
   "metadata": {},
   "outputs": [
    {
     "data": {
      "text/html": [
       "<div>\n",
       "<style scoped>\n",
       "    .dataframe tbody tr th:only-of-type {\n",
       "        vertical-align: middle;\n",
       "    }\n",
       "\n",
       "    .dataframe tbody tr th {\n",
       "        vertical-align: top;\n",
       "    }\n",
       "\n",
       "    .dataframe thead th {\n",
       "        text-align: right;\n",
       "    }\n",
       "</style>\n",
       "<table border=\"1\" class=\"dataframe\">\n",
       "  <thead>\n",
       "    <tr style=\"text-align: right;\">\n",
       "      <th>item_id</th>\n",
       "      <th>99999</th>\n",
       "      <th>117847</th>\n",
       "      <th>818981</th>\n",
       "      <th>818996</th>\n",
       "      <th>819255</th>\n",
       "      <th>819308</th>\n",
       "      <th>819400</th>\n",
       "      <th>819487</th>\n",
       "      <th>819590</th>\n",
       "      <th>819845</th>\n",
       "      <th>...</th>\n",
       "      <th>15926863</th>\n",
       "      <th>15926886</th>\n",
       "      <th>15926887</th>\n",
       "      <th>15926927</th>\n",
       "      <th>15972074</th>\n",
       "      <th>15972298</th>\n",
       "      <th>15972565</th>\n",
       "      <th>15972790</th>\n",
       "      <th>16100266</th>\n",
       "      <th>16729415</th>\n",
       "    </tr>\n",
       "    <tr>\n",
       "      <th>user_id</th>\n",
       "      <th></th>\n",
       "      <th></th>\n",
       "      <th></th>\n",
       "      <th></th>\n",
       "      <th></th>\n",
       "      <th></th>\n",
       "      <th></th>\n",
       "      <th></th>\n",
       "      <th></th>\n",
       "      <th></th>\n",
       "      <th></th>\n",
       "      <th></th>\n",
       "      <th></th>\n",
       "      <th></th>\n",
       "      <th></th>\n",
       "      <th></th>\n",
       "      <th></th>\n",
       "      <th></th>\n",
       "      <th></th>\n",
       "      <th></th>\n",
       "      <th></th>\n",
       "    </tr>\n",
       "  </thead>\n",
       "  <tbody>\n",
       "    <tr>\n",
       "      <th>1</th>\n",
       "      <td>231.0</td>\n",
       "      <td>0.0</td>\n",
       "      <td>0.0</td>\n",
       "      <td>0.0</td>\n",
       "      <td>0.0</td>\n",
       "      <td>0.0</td>\n",
       "      <td>0.0</td>\n",
       "      <td>0.0</td>\n",
       "      <td>0.0</td>\n",
       "      <td>0.0</td>\n",
       "      <td>...</td>\n",
       "      <td>0.0</td>\n",
       "      <td>0.0</td>\n",
       "      <td>0.0</td>\n",
       "      <td>2.0</td>\n",
       "      <td>0.0</td>\n",
       "      <td>0.0</td>\n",
       "      <td>0.0</td>\n",
       "      <td>0.0</td>\n",
       "      <td>0.0</td>\n",
       "      <td>0.0</td>\n",
       "    </tr>\n",
       "    <tr>\n",
       "      <th>2</th>\n",
       "      <td>125.0</td>\n",
       "      <td>0.0</td>\n",
       "      <td>0.0</td>\n",
       "      <td>0.0</td>\n",
       "      <td>0.0</td>\n",
       "      <td>0.0</td>\n",
       "      <td>0.0</td>\n",
       "      <td>0.0</td>\n",
       "      <td>0.0</td>\n",
       "      <td>0.0</td>\n",
       "      <td>...</td>\n",
       "      <td>0.0</td>\n",
       "      <td>0.0</td>\n",
       "      <td>0.0</td>\n",
       "      <td>0.0</td>\n",
       "      <td>0.0</td>\n",
       "      <td>0.0</td>\n",
       "      <td>0.0</td>\n",
       "      <td>0.0</td>\n",
       "      <td>0.0</td>\n",
       "      <td>0.0</td>\n",
       "    </tr>\n",
       "    <tr>\n",
       "      <th>3</th>\n",
       "      <td>30.0</td>\n",
       "      <td>0.0</td>\n",
       "      <td>0.0</td>\n",
       "      <td>0.0</td>\n",
       "      <td>1.0</td>\n",
       "      <td>0.0</td>\n",
       "      <td>0.0</td>\n",
       "      <td>0.0</td>\n",
       "      <td>0.0</td>\n",
       "      <td>0.0</td>\n",
       "      <td>...</td>\n",
       "      <td>0.0</td>\n",
       "      <td>0.0</td>\n",
       "      <td>0.0</td>\n",
       "      <td>0.0</td>\n",
       "      <td>0.0</td>\n",
       "      <td>0.0</td>\n",
       "      <td>0.0</td>\n",
       "      <td>0.0</td>\n",
       "      <td>0.0</td>\n",
       "      <td>0.0</td>\n",
       "    </tr>\n",
       "  </tbody>\n",
       "</table>\n",
       "<p>3 rows × 5001 columns</p>\n",
       "</div>"
      ],
      "text/plain": [
       "item_id  99999     117847    818981    818996    819255    819308    819400    \\\n",
       "user_id                                                                         \n",
       "1           231.0       0.0       0.0       0.0       0.0       0.0       0.0   \n",
       "2           125.0       0.0       0.0       0.0       0.0       0.0       0.0   \n",
       "3            30.0       0.0       0.0       0.0       1.0       0.0       0.0   \n",
       "\n",
       "item_id  819487    819590    819845    ...  15926863  15926886  15926887  \\\n",
       "user_id                                ...                                 \n",
       "1             0.0       0.0       0.0  ...       0.0       0.0       0.0   \n",
       "2             0.0       0.0       0.0  ...       0.0       0.0       0.0   \n",
       "3             0.0       0.0       0.0  ...       0.0       0.0       0.0   \n",
       "\n",
       "item_id  15926927  15972074  15972298  15972565  15972790  16100266  16729415  \n",
       "user_id                                                                        \n",
       "1             2.0       0.0       0.0       0.0       0.0       0.0       0.0  \n",
       "2             0.0       0.0       0.0       0.0       0.0       0.0       0.0  \n",
       "3             0.0       0.0       0.0       0.0       0.0       0.0       0.0  \n",
       "\n",
       "[3 rows x 5001 columns]"
      ]
     },
     "execution_count": 81,
     "metadata": {},
     "output_type": "execute_result"
    }
   ],
   "source": [
    "# Создаем user_item matrix \n",
    "user_item_matrix = pd.pivot_table(data_train_, \n",
    "                                  index='user_id', columns='item_id', \n",
    "                                  values='quantity', # необязательно использовать именно quantity\n",
    "                                  aggfunc='count', \n",
    "                                  fill_value=0\n",
    "                                 )\n",
    "\n",
    "user_item_matrix = user_item_matrix.astype(float) # необходимый тип матрицы для implicit\n",
    "\n",
    "sparse_user_item = csr_matrix(user_item_matrix).tocsr()\n",
    "\n",
    "user_item_matrix.head(3)"
   ]
  },
  {
   "cell_type": "code",
   "execution_count": 82,
   "id": "domestic-wagon",
   "metadata": {},
   "outputs": [],
   "source": [
    "#Создаем словари для перевода исходные индексы в матричные\n",
    "\n",
    "userids = user_item_matrix.index.values\n",
    "itemids = user_item_matrix.columns.values\n",
    "\n",
    "matrix_userids = np.arange(len(userids))\n",
    "matrix_itemids = np.arange(len(itemids))\n",
    "\n",
    "matrixid_to_itemid = dict(zip(matrix_itemids, itemids))\n",
    "matrixid_to_userid = dict(zip(matrix_userids, userids))\n",
    "\n",
    "itemid_to_matrixid = dict(zip(itemids, matrix_itemids))\n",
    "userid_to_matrixid = dict(zip(userids, matrix_userids))"
   ]
  },
  {
   "cell_type": "code",
   "execution_count": 83,
   "id": "dimensional-discovery",
   "metadata": {},
   "outputs": [
    {
     "data": {
      "application/vnd.jupyter.widget-view+json": {
       "model_id": "6c64d9da4d4046dfae427e16a8fa9cfe",
       "version_major": 2,
       "version_minor": 0
      },
      "text/plain": [
       "  0%|          | 0/10 [00:00<?, ?it/s]"
      ]
     },
     "metadata": {},
     "output_type": "display_data"
    }
   ],
   "source": [
    "model = AlternatingLeastSquares(factors=35, \n",
    "                                regularization=0.1,\n",
    "                                iterations=10, \n",
    "                                calculate_training_loss=True, \n",
    "                                num_threads=4)\n",
    "\n",
    "model.fit(csr_matrix(user_item_matrix).T.tocsr(),  # На вход item-user matrix\n",
    "          show_progress=True)"
   ]
  },
  {
   "cell_type": "code",
   "execution_count": 84,
   "id": "billion-freedom",
   "metadata": {},
   "outputs": [],
   "source": [
    "#Создадим функцию для получения рекомендаций для всех пользователей\n",
    "\n",
    "def get_recommendations(user, model, N=5):\n",
    "    res = [matrixid_to_itemid[rec[0]] for rec in \n",
    "                    model.recommend(userid=userid_to_matrixid[user], \n",
    "                                    user_items=sparse_user_item,   # на вход user-item matrix\n",
    "                                    N=N, \n",
    "                                    filter_already_liked_items=False, \n",
    "                                    filter_items=[itemid_to_matrixid[99999]], \n",
    "                                    recalculate_user=True)]\n",
    "    return res"
   ]
  },
  {
   "cell_type": "code",
   "execution_count": 85,
   "id": "educated-franchise",
   "metadata": {},
   "outputs": [
    {
     "data": {
      "text/plain": [
       "0.13999999999999999"
      ]
     },
     "execution_count": 85,
     "metadata": {},
     "output_type": "execute_result"
    }
   ],
   "source": [
    "result['als_after_filter'] = result['user_id'].apply(lambda x: get_recommendations(x, model=model, N=5))\n",
    "result.apply(lambda row: precision_at_k(row['als_after_filter'], row['actual']), axis=1).mean()"
   ]
  },
  {
   "cell_type": "markdown",
   "id": "frank-wireless",
   "metadata": {},
   "source": [
    "**Вывод:** префильтрация понизила результат"
   ]
  },
  {
   "cell_type": "code",
   "execution_count": null,
   "id": "broadband-vertex",
   "metadata": {},
   "outputs": [],
   "source": []
  }
 ],
 "metadata": {
  "kernelspec": {
   "display_name": "Python 3",
   "language": "python",
   "name": "python3"
  },
  "language_info": {
   "codemirror_mode": {
    "name": "ipython",
    "version": 3
   },
   "file_extension": ".py",
   "mimetype": "text/x-python",
   "name": "python",
   "nbconvert_exporter": "python",
   "pygments_lexer": "ipython3",
   "version": "3.9.2"
  }
 },
 "nbformat": 4,
 "nbformat_minor": 5
}
