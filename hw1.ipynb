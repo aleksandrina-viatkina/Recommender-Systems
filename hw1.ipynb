{
 "cells": [
  {
   "cell_type": "markdown",
   "id": "equivalent-sally",
   "metadata": {},
   "source": [
    "### Домашнее задание к вебинару 1"
   ]
  },
  {
   "cell_type": "markdown",
   "id": "underlying-enemy",
   "metadata": {},
   "source": [
    "**1) Приведите еще примеры метрик для оценки рекомендаций/ранжирования (можно взять из интернета, или ваши знания)**"
   ]
  },
  {
   "cell_type": "markdown",
   "id": "permanent-australia",
   "metadata": {},
   "source": [
    "В качестве метрик для оценки ранжирования могут использоваться ранговые коэффициенты корреляции (Кенделла, Спирмена), которые учитывают порядок, а не сами значения.\n",
    "\n",
    "Также могут использоваться метрики, основанные на каскадной модели поведения пользователя, которая исходит из предпосылки, что первые $k$ предложений могут устроить клиента и он покинет сайт: ERR (Expected Reciprocal Rank), PFound. В них учитываются вероятности того, что пользователь прекратит просмотр на конкретном элементе."
   ]
  },
  {
   "cell_type": "markdown",
   "id": "anonymous-front",
   "metadata": {},
   "source": [
    "**2) Доделать все функции, где стоит комментарий \"сделать дома\"**  \n",
    "* hit_rate_at_k. \n",
    "* money_precision_at_k. \n",
    "* recall_at_k\n",
    "* money_recall_at_k  \n",
    "* map_k  \n",
    "* ndcg_at_k  "
   ]
  },
  {
   "cell_type": "code",
   "execution_count": 478,
   "id": "acceptable-finish",
   "metadata": {},
   "outputs": [],
   "source": [
    "import numpy as np\n",
    "import math"
   ]
  },
  {
   "cell_type": "code",
   "execution_count": 348,
   "id": "august-event",
   "metadata": {},
   "outputs": [],
   "source": [
    "# Пример рекомендованных и купленных товаров\n",
    "recommended_list = [143, 1134, 991, 27, 523, 1543, 3345, 533, 11, 43, 200, 173, 129, 568, 569] #id товаров\n",
    "bought_list = [143, 523, 15, 43, 100, 129] # id купленных товаров\n"
   ]
  },
  {
   "cell_type": "code",
   "execution_count": 349,
   "id": "reserved-accounting",
   "metadata": {},
   "outputs": [
    {
     "name": "stdout",
     "output_type": "stream",
     "text": [
      "Всего рекомендованных товаров - 15,  всего купленных товаров - 6 из них - 4 товара были в рекомендованных\n"
     ]
    }
   ],
   "source": [
    "print(f'Всего рекомендованных товаров - {len(recommended_list)},  всего купленных товаров - {len(bought_list)} \\\n",
    "из них - {np.isin(recommended_list, bought_list).sum()} товара были в рекомендованных')"
   ]
  },
  {
   "cell_type": "markdown",
   "id": "arctic-champagne",
   "metadata": {},
   "source": [
    "### Hit Rate"
   ]
  },
  {
   "cell_type": "code",
   "execution_count": 350,
   "id": "bronze-religious",
   "metadata": {},
   "outputs": [],
   "source": [
    "def hit_rate(recommended_list, bought_list):\n",
    "    \n",
    "    bought_list = np.array(bought_list)\n",
    "    recommended_list = np.array(recommended_list)\n",
    "    \n",
    "    flags = np.isin(bought_list, recommended_list)\n",
    "    \n",
    "    hit_rate = (flags.sum() > 0) * 1\n",
    "    \n",
    "    return hit_rate"
   ]
  },
  {
   "cell_type": "markdown",
   "id": "little-trademark",
   "metadata": {},
   "source": [
    "#### hit_rate_at_k"
   ]
  },
  {
   "cell_type": "code",
   "execution_count": 351,
   "id": "incorrect-helen",
   "metadata": {},
   "outputs": [],
   "source": [
    "def hit_rate_at_k(recommended_list, bought_list, k=5):\n",
    "    \n",
    "    bought_list = np.array(bought_list)\n",
    "    recommended_list = np.array(recommended_list)[:k]\n",
    "    \n",
    "    flags = np.isin(bought_list, recommended_list)\n",
    "    hit_rate_at_k = (flags.sum() > 0) * 1\n",
    "    \n",
    "    \n",
    "    return hit_rate_at_k"
   ]
  },
  {
   "cell_type": "code",
   "execution_count": 352,
   "id": "tested-monday",
   "metadata": {},
   "outputs": [
    {
     "data": {
      "text/plain": [
       "1"
      ]
     },
     "execution_count": 352,
     "metadata": {},
     "output_type": "execute_result"
    }
   ],
   "source": [
    "hit_rate_at_k(recommended_list, bought_list, k=10)"
   ]
  },
  {
   "cell_type": "markdown",
   "id": "quantitative-coach",
   "metadata": {},
   "source": [
    "### Precision"
   ]
  },
  {
   "cell_type": "code",
   "execution_count": 353,
   "id": "regulated-civilian",
   "metadata": {},
   "outputs": [],
   "source": [
    "def precision(recommended_list, bought_list):\n",
    "    \n",
    "    bought_list = np.array(bought_list)\n",
    "    recommended_list = np.array(recommended_list)\n",
    "    \n",
    "    flags = np.isin(bought_list, recommended_list)\n",
    "    \n",
    "    precision = flags.sum() / len(recommended_list)\n",
    "    \n",
    "    return precision\n",
    "\n",
    "\n",
    "def precision_at_k(recommended_list, bought_list, k=5):\n",
    "    \n",
    "    bought_list = np.array(bought_list)\n",
    "    recommended_list = np.array(recommended_list)\n",
    "    \n",
    "    bought_list = bought_list  # Тут нет [:k] !!\n",
    "    recommended_list = recommended_list[:k]\n",
    "    \n",
    "    flags = np.isin(bought_list, recommended_list)\n",
    "    \n",
    "    precision = flags.sum() / len(recommended_list)\n",
    "    \n",
    "    \n",
    "    return precision"
   ]
  },
  {
   "cell_type": "markdown",
   "id": "dramatic-pound",
   "metadata": {},
   "source": [
    "#### money_precision_at_k"
   ]
  },
  {
   "cell_type": "code",
   "execution_count": 354,
   "id": "middle-return",
   "metadata": {},
   "outputs": [],
   "source": [
    "# Добавим цены на рекомендованные товары\n",
    "prices_for_recommended = [350, 40, 100, 240, 25, 500, 180, 110, 220, 55, 190, 300, 80, 140, 340]"
   ]
  },
  {
   "cell_type": "code",
   "execution_count": 355,
   "id": "champion-intent",
   "metadata": {},
   "outputs": [
    {
     "data": {
      "text/plain": [
       "True"
      ]
     },
     "execution_count": 355,
     "metadata": {},
     "output_type": "execute_result"
    }
   ],
   "source": [
    "len(recommended_list) == len(prices_for_recommended)"
   ]
  },
  {
   "cell_type": "code",
   "execution_count": 356,
   "id": "private-people",
   "metadata": {},
   "outputs": [],
   "source": [
    "def money_precision_at_k(recommended_list, bought_list, prices_list, k=5):\n",
    "\n",
    "    bought_list = np.array(bought_list)\n",
    "    recommended_list = np.array(recommended_list)[:k]\n",
    "    prices_list = np.array(prices_list)[:k]\n",
    "    \n",
    "    # определяем метки купленных товаров среди рекомендованных\n",
    "    flags = np.where(np.isin(recommended_list, bought_list), 1, 0)\n",
    "    \n",
    "    # рассчитаем revenue от рекомендованных релеватных товаров скалярным произведением\n",
    "    recommended_relevant_rev = np.dot(flags, prices_list)\n",
    "    \n",
    "    precision_at_k = recommended_relevant_rev/sum(prices_list)\n",
    "    \n",
    "    return precision_at_k\n",
    "    "
   ]
  },
  {
   "cell_type": "code",
   "execution_count": 357,
   "id": "departmental-pound",
   "metadata": {},
   "outputs": [
    {
     "data": {
      "text/plain": [
       "0.4966887417218543"
      ]
     },
     "execution_count": 357,
     "metadata": {},
     "output_type": "execute_result"
    }
   ],
   "source": [
    "money_precision_at_k(recommended_list, bought_list, prices_for_recommended, k=5)"
   ]
  },
  {
   "cell_type": "markdown",
   "id": "instrumental-wallace",
   "metadata": {},
   "source": [
    "### Recall"
   ]
  },
  {
   "cell_type": "code",
   "execution_count": 358,
   "id": "tamil-accordance",
   "metadata": {},
   "outputs": [],
   "source": [
    "def recall(recommended_list, bought_list):\n",
    "    \n",
    "    bought_list = np.array(bought_list)\n",
    "    recommended_list = np.array(recommended_list)\n",
    "    \n",
    "    flags = np.isin(bought_list, recommended_list)\n",
    "    \n",
    "    recall = flags.sum() / len(bought_list)\n",
    "    \n",
    "    return recall\n",
    "\n"
   ]
  },
  {
   "cell_type": "code",
   "execution_count": 359,
   "id": "respective-computer",
   "metadata": {},
   "outputs": [
    {
     "data": {
      "text/plain": [
       "0.6666666666666666"
      ]
     },
     "execution_count": 359,
     "metadata": {},
     "output_type": "execute_result"
    }
   ],
   "source": [
    "recall(recommended_list, bought_list)"
   ]
  },
  {
   "cell_type": "markdown",
   "id": "fifty-beijing",
   "metadata": {},
   "source": [
    "#### recall_at_k"
   ]
  },
  {
   "cell_type": "code",
   "execution_count": 360,
   "id": "serial-mirror",
   "metadata": {},
   "outputs": [],
   "source": [
    "def recall_at_k(recommended_list, bought_list, k=5):\n",
    "    \n",
    "    bought_list = np.array(bought_list)\n",
    "    recommended_list = np.array(recommended_list)[:k]\n",
    "    \n",
    "    flags = np.where(np.isin(recommended_list, bought_list), 1, 0)\n",
    "    \n",
    "    recall_at_k = sum(flags)/len(bought_list)\n",
    "    \n",
    "    return recall_at_k"
   ]
  },
  {
   "cell_type": "code",
   "execution_count": 361,
   "id": "american-stations",
   "metadata": {},
   "outputs": [
    {
     "data": {
      "text/plain": [
       "0.3333333333333333"
      ]
     },
     "execution_count": 361,
     "metadata": {},
     "output_type": "execute_result"
    }
   ],
   "source": [
    "recall_at_k(recommended_list, bought_list, k=7)"
   ]
  },
  {
   "cell_type": "markdown",
   "id": "professional-tablet",
   "metadata": {},
   "source": [
    "#### money_recall_at_k"
   ]
  },
  {
   "cell_type": "code",
   "execution_count": 362,
   "id": "cosmetic-milton",
   "metadata": {},
   "outputs": [],
   "source": [
    "# Добавим цены на купленные товары\n",
    "prices_for_bought = list(np.random.randint(20,500,len(bought_list)))"
   ]
  },
  {
   "cell_type": "code",
   "execution_count": 363,
   "id": "printable-format",
   "metadata": {},
   "outputs": [],
   "source": [
    "# Заменим значения релевантных рекомедованных товаров на уже известные цены этих рекомендованных товаров\n",
    "for i in np.where(np.isin(bought_list, recommended_list))[0]:  #возвращаем индексы релеватных рекомендованных элементов\n",
    "    prices_for_bought[i] = prices_for_recommended[i]"
   ]
  },
  {
   "cell_type": "code",
   "execution_count": 364,
   "id": "capital-watts",
   "metadata": {},
   "outputs": [
    {
     "data": {
      "text/plain": [
       "[350, 40, 331, 240, 137, 500]"
      ]
     },
     "execution_count": 364,
     "metadata": {},
     "output_type": "execute_result"
    }
   ],
   "source": [
    "prices_for_bought"
   ]
  },
  {
   "cell_type": "code",
   "execution_count": 365,
   "id": "finnish-triple",
   "metadata": {},
   "outputs": [
    {
     "data": {
      "text/plain": [
       "[350, 40, 100, 240, 25, 500, 180, 110, 220, 55, 190, 300, 80, 140, 340]"
      ]
     },
     "execution_count": 365,
     "metadata": {},
     "output_type": "execute_result"
    }
   ],
   "source": [
    "prices_for_recommended"
   ]
  },
  {
   "cell_type": "code",
   "execution_count": 366,
   "id": "annual-universal",
   "metadata": {},
   "outputs": [],
   "source": [
    "def money_recall_at_k(recommended_list, bought_list, prices_recommended, prices_bought, k = 5):\n",
    "    \n",
    "    bought_list = np.array(bought_list)\n",
    "    recommended_list = np.array(recommended_list)[:k]\n",
    "    prices_recommended = np.array(prices_recommended)[:k]\n",
    "    \n",
    "    flags = np.where(np.isin(recommended_list, bought_list), 1, 0)\n",
    "    \n",
    "    recommended_relevant_rev = np.dot(flags, prices_recommended)\n",
    "    \n",
    "    money_recall_at_k = recommended_relevant_rev/sum(prices_bought)\n",
    "    \n",
    "    return money_recall_at_k"
   ]
  },
  {
   "cell_type": "code",
   "execution_count": 367,
   "id": "mathematical-execution",
   "metadata": {},
   "outputs": [
    {
     "data": {
      "text/plain": [
       "0.2346683354192741"
      ]
     },
     "execution_count": 367,
     "metadata": {},
     "output_type": "execute_result"
    }
   ],
   "source": [
    "money_recall_at_k(recommended_list, bought_list, prices_for_recommended, prices_for_bought, k=5)"
   ]
  },
  {
   "cell_type": "markdown",
   "id": "comprehensive-application",
   "metadata": {},
   "source": [
    "### AP@K"
   ]
  },
  {
   "cell_type": "code",
   "execution_count": 368,
   "id": "oriented-republic",
   "metadata": {},
   "outputs": [],
   "source": [
    "def ap_k(recommended_list, bought_list, k=5):\n",
    "    \n",
    "    bought_list = np.array(bought_list)\n",
    "    recommended_list = np.array(recommended_list)[:k]\n",
    "    \n",
    "    relevant_indexes = np.nonzero(np.isin(recommended_list, bought_list))[0]\n",
    "    \n",
    "    if len(relevant_indexes) == 0:\n",
    "        return 0\n",
    "    \n",
    "    amount_relevant = len(relevant_indexes)\n",
    "    \n",
    "    sum_ = sum([precision_at_k(recommended_list, bought_list, k=index_relevant+1) for index_relevant in relevant_indexes])\n",
    "    return sum_/amount_relevant\n",
    "  \n",
    "    "
   ]
  },
  {
   "cell_type": "code",
   "execution_count": 369,
   "id": "framed-laundry",
   "metadata": {},
   "outputs": [
    {
     "data": {
      "text/plain": [
       "0.7"
      ]
     },
     "execution_count": 369,
     "metadata": {},
     "output_type": "execute_result"
    }
   ],
   "source": [
    "ap_k(recommended_list, bought_list, k=5)"
   ]
  },
  {
   "cell_type": "markdown",
   "id": "modular-grammar",
   "metadata": {},
   "source": [
    "### MAP@K|"
   ]
  },
  {
   "cell_type": "code",
   "execution_count": 370,
   "id": "unique-section",
   "metadata": {},
   "outputs": [],
   "source": [
    "# теперь список из 3 пользователей\n",
    "recommended_list_3_users = [[143, 156, 1134, 991, 27, 1543, 3345, 533, 11, 43], \n",
    "                            [1134, 533, 14, 4, 15, 1543, 1, 99, 27, 3345],\n",
    "                            [991, 3345, 27, 533, 43, 143, 1543, 156, 1134, 11]\n",
    "                    ]\n",
    "\n",
    "bought_list_3_users = [[521, 32, 143],  # юзер 1\n",
    "                       [143, 156, 991, 43, 11], # юзер 2\n",
    "                       [1, 2]\n",
    "                      ] # юзер 3"
   ]
  },
  {
   "cell_type": "code",
   "execution_count": 371,
   "id": "secondary-police",
   "metadata": {},
   "outputs": [],
   "source": [
    "# Используя имеющиеся функции\n",
    "def map_k(recommended_list, bought_list, k=5):\n",
    "    \n",
    "    num_users = len(bought_list)\n",
    "    result = np.average([ap_k(recommended_list[i], bought_list[i], k) for i in range(num_users)])\n",
    "    \n",
    "    return result"
   ]
  },
  {
   "cell_type": "code",
   "execution_count": 372,
   "id": "blind-reverse",
   "metadata": {},
   "outputs": [
    {
     "data": {
      "text/plain": [
       "0.3333333333333333"
      ]
     },
     "execution_count": 372,
     "metadata": {},
     "output_type": "execute_result"
    }
   ],
   "source": [
    "map_k(recommended_list_3_users, bought_list_3_users)"
   ]
  },
  {
   "cell_type": "markdown",
   "id": "relative-picnic",
   "metadata": {},
   "source": [
    "### NDCG@K"
   ]
  },
  {
   "cell_type": "code",
   "execution_count": 373,
   "id": "royal-timber",
   "metadata": {},
   "outputs": [],
   "source": [
    "import math"
   ]
  },
  {
   "cell_type": "code",
   "execution_count": 429,
   "id": "concerned-cotton",
   "metadata": {},
   "outputs": [],
   "source": [
    "def dcg_at_k(recommended_list, bought_list, k=5):\n",
    "    \n",
    "    flags = np.isin(recommended_list[:k], bought_list)\n",
    "    \n",
    "    norm_coeffs = [1/(i + 1) if i <= 2 else 1/math.log2(i + 1) for i in range(k)]\n",
    "    \n",
    "    return np.dot(flags, norm_coeffs) /k\n",
    "\n",
    "\n",
    "def ndcg_at_k(recommended_list, bought_list, k=5):\n",
    "    \n",
    "    ideal_dcg = dcg_at_k(recommended_list, recommended_list[:k], k)\n",
    "    return dcg_at_k(recommended_list, bought_list, k) / ideal_dcg "
   ]
  },
  {
   "cell_type": "code",
   "execution_count": 430,
   "id": "assumed-gravity",
   "metadata": {},
   "outputs": [
    {
     "data": {
      "text/plain": [
       "0.5176090586800538"
      ]
     },
     "execution_count": 430,
     "metadata": {},
     "output_type": "execute_result"
    }
   ],
   "source": [
    "ndcg_at_k(recommended_list, bought_list, k=5)"
   ]
  },
  {
   "cell_type": "code",
   "execution_count": 433,
   "id": "subject-preserve",
   "metadata": {},
   "outputs": [],
   "source": [
    "#  Общая функция для расчета\n",
    "\n",
    "def ndcg_k(recommended_list, bought_list, k=5):\n",
    "\n",
    "    flags = np.isin(recommended_list[:k], bought_list)\n",
    "    \n",
    "    #рассчитаем DCG    \n",
    "    coeffs = [1/(i + 1) if i <= 2 else 1/math.log2(i + 1) for i in range(k)]\n",
    "    \n",
    "    dcg = np.dot(flags, coeffs)\n",
    "    \n",
    "    #Рассчитаем идеальный DCG\n",
    "    ideal_dcg = sum([1/(i+1) if i<=2 else 1/math.log2(i+1) for i in range(k)])\n",
    "    \n",
    "    ndcg = dcg/ideal_dcg\n",
    "    \n",
    "    return ndcg"
   ]
  },
  {
   "cell_type": "code",
   "execution_count": 434,
   "id": "tropical-turner",
   "metadata": {},
   "outputs": [
    {
     "data": {
      "text/plain": [
       "0.5176090586800538"
      ]
     },
     "execution_count": 434,
     "metadata": {},
     "output_type": "execute_result"
    }
   ],
   "source": [
    "ndcg_k(recommended_list, bought_list)"
   ]
  },
  {
   "cell_type": "markdown",
   "id": "straight-permit",
   "metadata": {},
   "source": [
    "### Mean Reciprocal Rank ( MRR@k )"
   ]
  },
  {
   "cell_type": "code",
   "execution_count": 474,
   "id": "random-sussex",
   "metadata": {},
   "outputs": [],
   "source": [
    "def reciprocal_rank(recommended_list, bought_list, k=5):\n",
    "    rec_relevant_indices = np.nonzero(np.isin(recommended_list[:k], bought_list))[0]\n",
    "    if len(rec_relevant_indices) == 0:\n",
    "        return 0\n",
    "    rr = 1/(rec_relevant_indices[0]+1) #т к расчет идет с 1 (в отличии от индексов, которые с нуля)\n",
    "    return rr\n",
    "\n",
    "def mean_reciprocal_rank(recommended_list, bought_list, k=5):\n",
    "    \n",
    "    num_users = len(bought_list)\n",
    "    mrr = np.average([reciprocal_rank(recommended_list[i], bought_list[i], k) for i in range(num_users)])\n",
    "    \n",
    "    return mrr"
   ]
  },
  {
   "cell_type": "code",
   "execution_count": 475,
   "id": "alone-escape",
   "metadata": {},
   "outputs": [
    {
     "data": {
      "text/plain": [
       "1.0"
      ]
     },
     "execution_count": 475,
     "metadata": {},
     "output_type": "execute_result"
    }
   ],
   "source": [
    "reciprocal_rank(recommended_list, bought_list)"
   ]
  },
  {
   "cell_type": "code",
   "execution_count": 476,
   "id": "suitable-export",
   "metadata": {},
   "outputs": [],
   "source": [
    "# теперь список из 3 пользователей\n",
    "recommended_list_3_users = [[143, 156, 1134, 991, 27, 1543, 3345, 533, 11, 43], \n",
    "                            [1134, 533, 14, 4, 15, 1543, 1, 99, 27, 3345],\n",
    "                            [991, 3345, 27, 533, 43, 143, 1543, 156, 1134, 11]\n",
    "                    ]\n",
    "\n",
    "bought_list_3_users = [[521, 32, 143],  # юзер 1\n",
    "                       [143, 156, 991, 43, 11], # юзер 2\n",
    "                       [1, 2]\n",
    "                      ] # юзер 3"
   ]
  },
  {
   "cell_type": "code",
   "execution_count": 477,
   "id": "toxic-myrtle",
   "metadata": {},
   "outputs": [
    {
     "data": {
      "text/plain": [
       "0.3333333333333333"
      ]
     },
     "execution_count": 477,
     "metadata": {},
     "output_type": "execute_result"
    }
   ],
   "source": [
    "mean_reciprocal_rank(recommended_list_3_users, bought_list_3_users)"
   ]
  }
 ],
 "metadata": {
  "kernelspec": {
   "display_name": "Python 3",
   "language": "python",
   "name": "python3"
  },
  "language_info": {
   "codemirror_mode": {
    "name": "ipython",
    "version": 3
   },
   "file_extension": ".py",
   "mimetype": "text/x-python",
   "name": "python",
   "nbconvert_exporter": "python",
   "pygments_lexer": "ipython3",
   "version": "3.9.2"
  }
 },
 "nbformat": 4,
 "nbformat_minor": 5
}
