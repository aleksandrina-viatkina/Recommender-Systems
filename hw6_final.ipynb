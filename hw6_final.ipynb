{
 "cells": [
  {
   "cell_type": "markdown",
   "metadata": {},
   "source": [
    "### Домашнее задание к вебинару 6"
   ]
  },
  {
   "cell_type": "markdown",
   "metadata": {},
   "source": [
    "#### Импорт библиотек"
   ]
  },
  {
   "cell_type": "code",
   "execution_count": 11,
   "metadata": {},
   "outputs": [],
   "source": [
    "import pandas as pd\n",
    "import numpy as np\n",
    "import matplotlib.pyplot as plt\n",
    "%matplotlib inline\n",
    "\n",
    "# Для работы с матрицами\n",
    "from scipy.sparse import csr_matrix\n",
    "\n",
    "# Матричная факторизация\n",
    "from implicit import als\n",
    "\n",
    "# Модель второго уровня\n",
    "from lightgbm import LGBMClassifier\n",
    "from catboost import CatBoostClassifier\n",
    "\n",
    "#import os, sys\n",
    "#module_path = os.path.abspath(os.path.join(os.pardir))\n",
    "#if module_path not in sys.path:\n",
    "#    sys.path.append(module_path)\n",
    "\n",
    "# Написанные нами функции\n",
    "from src.metrics import precision_at_k, recall_at_k\n",
    "#from src.utils1 import prefilter_items\n",
    "from src.utils import prefilter_items\n",
    "from src.recommenders1 import MainRecommender"
   ]
  },
  {
   "cell_type": "markdown",
   "metadata": {},
   "source": [
    "### Загрузка данных"
   ]
  },
  {
   "cell_type": "code",
   "execution_count": 12,
   "metadata": {},
   "outputs": [],
   "source": [
    "data = pd.read_csv('../retail_train.csv')\n",
    "item_features = pd.read_csv('../product.csv')\n",
    "user_features = pd.read_csv('../hh_demographic.csv')"
   ]
  },
  {
   "cell_type": "markdown",
   "metadata": {},
   "source": [
    "### Process features dataset"
   ]
  },
  {
   "cell_type": "code",
   "execution_count": 13,
   "metadata": {},
   "outputs": [],
   "source": [
    "# column processing\n",
    "item_features.columns = [col.lower() for col in item_features.columns]\n",
    "user_features.columns = [col.lower() for col in user_features.columns]\n",
    "\n",
    "item_features.rename(columns={'product_id': 'item_id'}, inplace=True)\n",
    "user_features.rename(columns={'household_key': 'user_id'}, inplace=True)"
   ]
  },
  {
   "cell_type": "markdown",
   "metadata": {},
   "source": [
    "### Разделим датасет на 3 части - тренировочный, тестовый и валидационный"
   ]
  },
  {
   "cell_type": "code",
   "execution_count": 14,
   "metadata": {},
   "outputs": [],
   "source": [
    "# Важна схема обучения и валидации!\n",
    "# -- давние покупки -- | -- 6 недель -- | -- 3 недель -- \n",
    "# подобрать размер 2-ого датасета (6 недель) --> learning curve (зависимость метрики recall@k от размера датасета)\n",
    "\n",
    "# модель 1 уровня - обучается на давних покупках, валидируется на промежуточных 6 неделях\n",
    "# модель 2 уровня - обучается на промежуточных 6 неделях, валидируется на последних 3 неделях\n",
    "\n",
    "\n",
    "VAL_LVL1_WEEKS = 6\n",
    "VAL_LVL2_WEEKS = 3"
   ]
  },
  {
   "cell_type": "code",
   "execution_count": 15,
   "metadata": {
    "scrolled": true
   },
   "outputs": [],
   "source": [
    "# берем данные для тренировки модели 1 уровня\n",
    "data_train_lvl1 = data[data['week_no'] < data['week_no'].max() - (VAL_LVL1_WEEKS + VAL_LVL2_WEEKS)]\n",
    "\n",
    "# берем данные для валидации matching модели\n",
    "data_val_lvl1 = data[(data['week_no'] >= data['week_no'].max() - (VAL_LVL1_WEEKS + VAL_LVL2_WEEKS)) &\n",
    "                      (data['week_no'] < data['week_no'].max() - (VAL_LVL2_WEEKS))]\n",
    "\n",
    "\n",
    "# берем данные для тренировки модели 2 уровня\n",
    "data_train_lvl2 = data_val_lvl1.copy()  # Для наглядности. Далее мы добавим изменения, и они будут отличаться\n",
    "\n",
    "# берем данные для теста ranking, matching модели\n",
    "data_val_lvl2 = data[data['week_no'] >= data['week_no'].max() - VAL_LVL2_WEEKS]"
   ]
  },
  {
   "cell_type": "code",
   "execution_count": 16,
   "metadata": {},
   "outputs": [],
   "source": [
    "def print_stats_data(df_data, name_df):\n",
    "    print(name_df)\n",
    "    print(f\"Shape: {df_data.shape} Users: {df_data['user_id'].nunique()} Items: {df_data['item_id'].nunique()}\")"
   ]
  },
  {
   "cell_type": "code",
   "execution_count": 17,
   "metadata": {
    "scrolled": true
   },
   "outputs": [
    {
     "name": "stdout",
     "output_type": "stream",
     "text": [
      "train_matcher - data lvl1\n",
      "Shape: (2108779, 12) Users: 2498 Items: 83685\n",
      "val_matcher - data lvl1\n",
      "Shape: (169711, 12) Users: 2154 Items: 27649\n",
      "train_ranker - data lvl2\n",
      "Shape: (169711, 12) Users: 2154 Items: 27649\n",
      "val_ranker - data lvl2\n",
      "Shape: (118314, 12) Users: 2042 Items: 24329\n"
     ]
    }
   ],
   "source": [
    "print_stats_data(data_train_lvl1,'train_matcher - data lvl1')\n",
    "print_stats_data(data_val_lvl1,'val_matcher - data lvl1')\n",
    "print_stats_data(data_train_lvl2,'train_ranker - data lvl2')\n",
    "print_stats_data(data_val_lvl2,'val_ranker - data lvl2')"
   ]
  },
  {
   "cell_type": "code",
   "execution_count": 18,
   "metadata": {},
   "outputs": [],
   "source": [
    "# выше видим разброс по пользователям и товарам"
   ]
  },
  {
   "cell_type": "code",
   "execution_count": 19,
   "metadata": {},
   "outputs": [
    {
     "data": {
      "text/html": [
       "<div>\n",
       "<style scoped>\n",
       "    .dataframe tbody tr th:only-of-type {\n",
       "        vertical-align: middle;\n",
       "    }\n",
       "\n",
       "    .dataframe tbody tr th {\n",
       "        vertical-align: top;\n",
       "    }\n",
       "\n",
       "    .dataframe thead th {\n",
       "        text-align: right;\n",
       "    }\n",
       "</style>\n",
       "<table border=\"1\" class=\"dataframe\">\n",
       "  <thead>\n",
       "    <tr style=\"text-align: right;\">\n",
       "      <th></th>\n",
       "      <th>user_id</th>\n",
       "      <th>basket_id</th>\n",
       "      <th>day</th>\n",
       "      <th>item_id</th>\n",
       "      <th>quantity</th>\n",
       "      <th>sales_value</th>\n",
       "      <th>store_id</th>\n",
       "      <th>retail_disc</th>\n",
       "      <th>trans_time</th>\n",
       "      <th>week_no</th>\n",
       "      <th>coupon_disc</th>\n",
       "      <th>coupon_match_disc</th>\n",
       "    </tr>\n",
       "  </thead>\n",
       "  <tbody>\n",
       "    <tr>\n",
       "      <th>0</th>\n",
       "      <td>2375</td>\n",
       "      <td>26984851472</td>\n",
       "      <td>1</td>\n",
       "      <td>1004906</td>\n",
       "      <td>1</td>\n",
       "      <td>1.39</td>\n",
       "      <td>364</td>\n",
       "      <td>-0.6</td>\n",
       "      <td>1631</td>\n",
       "      <td>1</td>\n",
       "      <td>0.0</td>\n",
       "      <td>0.0</td>\n",
       "    </tr>\n",
       "    <tr>\n",
       "      <th>1</th>\n",
       "      <td>2375</td>\n",
       "      <td>26984851472</td>\n",
       "      <td>1</td>\n",
       "      <td>1033142</td>\n",
       "      <td>1</td>\n",
       "      <td>0.82</td>\n",
       "      <td>364</td>\n",
       "      <td>0.0</td>\n",
       "      <td>1631</td>\n",
       "      <td>1</td>\n",
       "      <td>0.0</td>\n",
       "      <td>0.0</td>\n",
       "    </tr>\n",
       "  </tbody>\n",
       "</table>\n",
       "</div>"
      ],
      "text/plain": [
       "   user_id    basket_id  day  item_id  quantity  sales_value  store_id  \\\n",
       "0     2375  26984851472    1  1004906         1         1.39       364   \n",
       "1     2375  26984851472    1  1033142         1         0.82       364   \n",
       "\n",
       "   retail_disc  trans_time  week_no  coupon_disc  coupon_match_disc  \n",
       "0         -0.6        1631        1          0.0                0.0  \n",
       "1          0.0        1631        1          0.0                0.0  "
      ]
     },
     "execution_count": 19,
     "metadata": {},
     "output_type": "execute_result"
    }
   ],
   "source": [
    "data_train_lvl1.head(2)"
   ]
  },
  {
   "cell_type": "markdown",
   "metadata": {},
   "source": [
    "### Префильтрация items"
   ]
  },
  {
   "cell_type": "code",
   "execution_count": 20,
   "metadata": {},
   "outputs": [
    {
     "name": "stdout",
     "output_type": "stream",
     "text": [
      "Decreased # items from 83685 to 5001\n"
     ]
    }
   ],
   "source": [
    "n_items_before = data_train_lvl1['item_id'].nunique()\n",
    "\n",
    "data_train_lvl1 = prefilter_items(data_train_lvl1, item_features=item_features, take_n_popular=5000)\n",
    "\n",
    "n_items_after = data_train_lvl1['item_id'].nunique()\n",
    "print('Decreased # items from {} to {}'.format(n_items_before, n_items_after))"
   ]
  },
  {
   "cell_type": "markdown",
   "metadata": {},
   "source": [
    "### Избавляемся от \"холодного старта\", осталвяем только \"теплый старт\""
   ]
  },
  {
   "cell_type": "code",
   "execution_count": 21,
   "metadata": {},
   "outputs": [
    {
     "data": {
      "text/plain": [
       "array([1285, 1285, 1285, ...,  856,  856,  856])"
      ]
     },
     "execution_count": 21,
     "metadata": {},
     "output_type": "execute_result"
    }
   ],
   "source": [
    "data_train_lvl1.user_id.values"
   ]
  },
  {
   "cell_type": "code",
   "execution_count": 22,
   "metadata": {},
   "outputs": [
    {
     "name": "stdout",
     "output_type": "stream",
     "text": [
      "train_matcher - data lvl1\n",
      "Shape: (550491, 13) Users: 1909 Items: 5000\n",
      "val_matcher - data lvl1\n",
      "Shape: (163158, 12) Users: 1909 Items: 27115\n",
      "train_ranker - data lvl2\n",
      "Shape: (163158, 12) Users: 1909 Items: 27115\n",
      "val_ranker - data lvl2\n",
      "Shape: (115790, 12) Users: 1909 Items: 24032\n"
     ]
    }
   ],
   "source": [
    "# ищем общих пользователей\n",
    "common_users = list(set(data_train_lvl1.user_id.values)&(set(data_val_lvl1.user_id.values))\\\n",
    "                    &set(data_val_lvl2.user_id.values))\n",
    "\n",
    "data_train_lvl1 = data_train_lvl1[data_train_lvl1.user_id.isin(common_users)]\n",
    "data_val_lvl1 = data_val_lvl1[data_val_lvl1.user_id.isin(common_users)]\n",
    "data_train_lvl2 = data_train_lvl2[data_train_lvl2.user_id.isin(common_users)]\n",
    "data_val_lvl2 = data_val_lvl2[data_val_lvl2.user_id.isin(common_users)]\n",
    "\n",
    "print_stats_data(data_train_lvl1,'train_matcher - data lvl1')\n",
    "print_stats_data(data_val_lvl1,'val_matcher - data lvl1')\n",
    "print_stats_data(data_train_lvl2,'train_ranker - data lvl2')\n",
    "print_stats_data(data_val_lvl2,'val_ranker - data lvl2')"
   ]
  },
  {
   "cell_type": "code",
   "execution_count": 23,
   "metadata": {},
   "outputs": [],
   "source": [
    "# Теперь warm-start по пользователям"
   ]
  },
  {
   "cell_type": "markdown",
   "metadata": {},
   "source": [
    "### Инициализируем класс Main Recommender\n",
    "\n",
    "В нем предусмотрено сразу обучение на обучающей выборке модели 1 уровня (ALS модель)"
   ]
  },
  {
   "cell_type": "code",
   "execution_count": 24,
   "metadata": {},
   "outputs": [
    {
     "name": "stderr",
     "output_type": "stream",
     "text": [
      "WARNING:root:OpenBLAS detected. Its highly recommend to set the environment variable 'export OPENBLAS_NUM_THREADS=1' to disable its internal multithreading\n"
     ]
    },
    {
     "data": {
      "application/vnd.jupyter.widget-view+json": {
       "model_id": "b5351a6aa1b14cc099e20e7130bfe529",
       "version_major": 2,
       "version_minor": 0
      },
      "text/plain": [
       "  0%|          | 0/15 [00:00<?, ?it/s]"
      ]
     },
     "metadata": {},
     "output_type": "display_data"
    },
    {
     "data": {
      "application/vnd.jupyter.widget-view+json": {
       "model_id": "1afdd4a3e1e24e8aa3c13a25b88054b5",
       "version_major": 2,
       "version_minor": 0
      },
      "text/plain": [
       "  0%|          | 0/5000 [00:00<?, ?it/s]"
      ]
     },
     "metadata": {},
     "output_type": "display_data"
    }
   ],
   "source": [
    "recommender = MainRecommender(data_train_lvl1)"
   ]
  },
  {
   "cell_type": "markdown",
   "metadata": {},
   "source": [
    "### Задание 1 - Измеряем recall@k\n",
    "\n",
    "A) Попробуйте различные варианты генерации кандидатов. Какие из них дают наибольший recall@k ?\n",
    "- Пока пробуем отобрать 50 кандидатов (k=50)\n",
    "- Качество измеряем на data_val_lvl_1: следующие 6 недель после трейна\n",
    "\n",
    "Дают ли own recommendtions + top-popular лучший recall?  \n",
    "\n",
    "B)* Как зависит recall@k от k? Постройте для одной схемы генерации кандидатов эту зависимость для k = {20, 50, 100, 200, 500}  \n",
    "C)* Исходя из прошлого вопроса, как вы думаете, какое значение k является наиболее разумным?\n",
    "\n"
   ]
  },
  {
   "cell_type": "code",
   "execution_count": 25,
   "metadata": {},
   "outputs": [],
   "source": [
    "# Опишем функции, в которые будут оборачиваться будущие вычисления\n",
    "\n",
    "ACTUAL_COL = 'actual'\n",
    "\n",
    "# Функция для получение рекомендаций\n",
    "def make_recommendations(df_result, recommend_model, N=50, user_col='user_id'):\n",
    "    return df_result[user_col].apply(lambda x: recommend_model(x, N=N))\n",
    "\n",
    "# Функция для расчета recall@k\n",
    "def calc_recall_at_k(df_data, top_k):\n",
    "    for col_name in df_data.columns[2:]:\n",
    "        yield col_name, round((df_data.apply(lambda row: recall_at_k(row[col_name], row[ACTUAL_COL], k=top_k), axis=1).mean()), 4)\n",
    "\n",
    "# Фнукция для расчета precision@k\n",
    "def calc_precision_at_k(df_data, top_k):\n",
    "    for col_name in df_data.columns[2:]:\n",
    "        yield col_name, df_data.apply(lambda row: precision_at_k(row[col_name], row[ACTUAL_COL], k=top_k), axis=1).mean()"
   ]
  },
  {
   "cell_type": "code",
   "execution_count": 26,
   "metadata": {},
   "outputs": [
    {
     "data": {
      "text/html": [
       "<div>\n",
       "<style scoped>\n",
       "    .dataframe tbody tr th:only-of-type {\n",
       "        vertical-align: middle;\n",
       "    }\n",
       "\n",
       "    .dataframe tbody tr th {\n",
       "        vertical-align: top;\n",
       "    }\n",
       "\n",
       "    .dataframe thead th {\n",
       "        text-align: right;\n",
       "    }\n",
       "</style>\n",
       "<table border=\"1\" class=\"dataframe\">\n",
       "  <thead>\n",
       "    <tr style=\"text-align: right;\">\n",
       "      <th></th>\n",
       "      <th>user_id</th>\n",
       "      <th>actual</th>\n",
       "    </tr>\n",
       "  </thead>\n",
       "  <tbody>\n",
       "    <tr>\n",
       "      <th>0</th>\n",
       "      <td>1</td>\n",
       "      <td>[853529, 865456, 867607, 872137, 874905, 87524...</td>\n",
       "    </tr>\n",
       "    <tr>\n",
       "      <th>1</th>\n",
       "      <td>6</td>\n",
       "      <td>[1024306, 1102949, 6548453, 835394, 940804, 96...</td>\n",
       "    </tr>\n",
       "  </tbody>\n",
       "</table>\n",
       "</div>"
      ],
      "text/plain": [
       "   user_id                                             actual\n",
       "0        1  [853529, 865456, 867607, 872137, 874905, 87524...\n",
       "1        6  [1024306, 1102949, 6548453, 835394, 940804, 96..."
      ]
     },
     "execution_count": 26,
     "metadata": {},
     "output_type": "execute_result"
    }
   ],
   "source": [
    "# Создаем результиующий датафрейм для расчета результата метрики на тестовых данных\n",
    "# Для 1 уровня тестовый набор данных - промежуточные 6 недель - data_val_lvl1\n",
    "\n",
    "result_eval_lvl1 = data_val_lvl1.groupby('user_id')['item_id'].unique().reset_index()\n",
    "result_eval_lvl1.columns=['user_id', 'actual']\n",
    "result_eval_lvl1.head(2)"
   ]
  },
  {
   "cell_type": "code",
   "execution_count": 27,
   "metadata": {},
   "outputs": [
    {
     "name": "stdout",
     "output_type": "stream",
     "text": [
      "CPU times: user 2min 10s, sys: 4min 56s, total: 7min 7s\n",
      "Wall time: 1min 16s\n"
     ]
    }
   ],
   "source": [
    "%%time\n",
    "\n",
    "models = {'als_rec': recommender.get_als_recommendations,\n",
    "          'own_rec': recommender.get_own_recommendations, \n",
    "          'similar_item_rec': recommender.get_similar_items_recommendation, \n",
    "          'similar_user_rec': recommender.get_similar_users_recommendation}\n",
    "\n",
    "for col_name, model in models.items():\n",
    "    result_eval_lvl1[col_name] = make_recommendations(result_eval_lvl1, model)"
   ]
  },
  {
   "cell_type": "code",
   "execution_count": 28,
   "metadata": {},
   "outputs": [
    {
     "data": {
      "text/html": [
       "<div>\n",
       "<style scoped>\n",
       "    .dataframe tbody tr th:only-of-type {\n",
       "        vertical-align: middle;\n",
       "    }\n",
       "\n",
       "    .dataframe tbody tr th {\n",
       "        vertical-align: top;\n",
       "    }\n",
       "\n",
       "    .dataframe thead th {\n",
       "        text-align: right;\n",
       "    }\n",
       "</style>\n",
       "<table border=\"1\" class=\"dataframe\">\n",
       "  <thead>\n",
       "    <tr style=\"text-align: right;\">\n",
       "      <th></th>\n",
       "      <th>user_id</th>\n",
       "      <th>actual</th>\n",
       "      <th>als_rec</th>\n",
       "      <th>own_rec</th>\n",
       "      <th>similar_item_rec</th>\n",
       "      <th>similar_user_rec</th>\n",
       "    </tr>\n",
       "  </thead>\n",
       "  <tbody>\n",
       "    <tr>\n",
       "      <th>0</th>\n",
       "      <td>1</td>\n",
       "      <td>[853529, 865456, 867607, 872137, 874905, 87524...</td>\n",
       "      <td>[856942, 1037332, 5577022, 1002850, 1077133, 9...</td>\n",
       "      <td>[856942, 896666, 877391, 5577022, 1088462, 888...</td>\n",
       "      <td>[13417587, 1087955, 974177, 929341, 1088462, 9...</td>\n",
       "      <td>[6552318, 925350, 1061394, 949257, 6633167, 89...</td>\n",
       "    </tr>\n",
       "    <tr>\n",
       "      <th>1</th>\n",
       "      <td>6</td>\n",
       "      <td>[1024306, 1102949, 6548453, 835394, 940804, 96...</td>\n",
       "      <td>[1026118, 930118, 857006, 1084036, 878996, 854...</td>\n",
       "      <td>[13003092, 972416, 995598, 9831557, 876626, 10...</td>\n",
       "      <td>[5569845, 819308, 5569230, 878996, 948650, 141...</td>\n",
       "      <td>[970160, 949257, 1005456, 957080, 823031, 9701...</td>\n",
       "    </tr>\n",
       "    <tr>\n",
       "      <th>2</th>\n",
       "      <td>7</td>\n",
       "      <td>[836281, 843306, 845294, 914190, 920456, 93886...</td>\n",
       "      <td>[1126899, 1098694, 9338009, 9803591, 6396558, ...</td>\n",
       "      <td>[894360, 998519, 896666, 5570590, 1136033, 942...</td>\n",
       "      <td>[893018, 9836106, 6602697, 903800, 1029743, 12...</td>\n",
       "      <td>[1057168, 8118500, 924004, 877310, 9677052, 83...</td>\n",
       "    </tr>\n",
       "    <tr>\n",
       "      <th>3</th>\n",
       "      <td>8</td>\n",
       "      <td>[868075, 886787, 945611, 1005186, 1008787, 101...</td>\n",
       "      <td>[1075368, 916122, 1034176, 12810393, 12811532,...</td>\n",
       "      <td>[12808385, 981660, 5577022, 6463874, 886103, 8...</td>\n",
       "      <td>[5569845, 978332, 909714, 1044078, 1109136, 98...</td>\n",
       "      <td>[908314, 958023, 5577022, 1108055, 1133850, 95...</td>\n",
       "    </tr>\n",
       "    <tr>\n",
       "      <th>4</th>\n",
       "      <td>9</td>\n",
       "      <td>[883616, 1029743, 1039126, 1051323, 1082772, 1...</td>\n",
       "      <td>[1029743, 960732, 899624, 893018, 1042942, 948...</td>\n",
       "      <td>[918046, 9655676, 936830, 6632283, 1098910, 80...</td>\n",
       "      <td>[5569230, 1008032, 1015785, 7138817, 1111786, ...</td>\n",
       "      <td>[962967, 9831557, 42346, 1110743, 1129610, 103...</td>\n",
       "    </tr>\n",
       "    <tr>\n",
       "      <th>5</th>\n",
       "      <td>13</td>\n",
       "      <td>[6544236, 822407, 908317, 1056775, 1066289, 11...</td>\n",
       "      <td>[8090541, 879699, 5569376, 862070, 872177, 135...</td>\n",
       "      <td>[9488065, 965772, 1038985, 862070, 6554400, 10...</td>\n",
       "      <td>[5569230, 6979191, 1103705, 9673266, 824072, 9...</td>\n",
       "      <td>[8090612, 1131382, 1108055, 6534078, 1102003, ...</td>\n",
       "    </tr>\n",
       "    <tr>\n",
       "      <th>6</th>\n",
       "      <td>14</td>\n",
       "      <td>[917277, 981760, 878234, 925514, 986394, 10220...</td>\n",
       "      <td>[1106523, 910673, 1127758, 972143, 1025611, 87...</td>\n",
       "      <td>[822161, 1026439, 894360, 8090610, 902377, 874...</td>\n",
       "      <td>[5569230, 990335, 1025611, 863762, 910673, 901...</td>\n",
       "      <td>[962967, 875089, 841365, 5570147, 911311, 9019...</td>\n",
       "    </tr>\n",
       "    <tr>\n",
       "      <th>7</th>\n",
       "      <td>15</td>\n",
       "      <td>[996016, 1014509, 1044404, 1087353, 976199, 10...</td>\n",
       "      <td>[12523928, 863632, 866211, 1001827, 1042616, 1...</td>\n",
       "      <td>[823576, 1053530, 1052975, 9526159, 901656, 10...</td>\n",
       "      <td>[901062, 5569230, 1135476, 999999, 5564906, 86...</td>\n",
       "      <td>[12523928, 953180, 823031, 1032703, 5578856, 7...</td>\n",
       "    </tr>\n",
       "  </tbody>\n",
       "</table>\n",
       "</div>"
      ],
      "text/plain": [
       "   user_id                                             actual  \\\n",
       "0        1  [853529, 865456, 867607, 872137, 874905, 87524...   \n",
       "1        6  [1024306, 1102949, 6548453, 835394, 940804, 96...   \n",
       "2        7  [836281, 843306, 845294, 914190, 920456, 93886...   \n",
       "3        8  [868075, 886787, 945611, 1005186, 1008787, 101...   \n",
       "4        9  [883616, 1029743, 1039126, 1051323, 1082772, 1...   \n",
       "5       13  [6544236, 822407, 908317, 1056775, 1066289, 11...   \n",
       "6       14  [917277, 981760, 878234, 925514, 986394, 10220...   \n",
       "7       15  [996016, 1014509, 1044404, 1087353, 976199, 10...   \n",
       "\n",
       "                                             als_rec  \\\n",
       "0  [856942, 1037332, 5577022, 1002850, 1077133, 9...   \n",
       "1  [1026118, 930118, 857006, 1084036, 878996, 854...   \n",
       "2  [1126899, 1098694, 9338009, 9803591, 6396558, ...   \n",
       "3  [1075368, 916122, 1034176, 12810393, 12811532,...   \n",
       "4  [1029743, 960732, 899624, 893018, 1042942, 948...   \n",
       "5  [8090541, 879699, 5569376, 862070, 872177, 135...   \n",
       "6  [1106523, 910673, 1127758, 972143, 1025611, 87...   \n",
       "7  [12523928, 863632, 866211, 1001827, 1042616, 1...   \n",
       "\n",
       "                                             own_rec  \\\n",
       "0  [856942, 896666, 877391, 5577022, 1088462, 888...   \n",
       "1  [13003092, 972416, 995598, 9831557, 876626, 10...   \n",
       "2  [894360, 998519, 896666, 5570590, 1136033, 942...   \n",
       "3  [12808385, 981660, 5577022, 6463874, 886103, 8...   \n",
       "4  [918046, 9655676, 936830, 6632283, 1098910, 80...   \n",
       "5  [9488065, 965772, 1038985, 862070, 6554400, 10...   \n",
       "6  [822161, 1026439, 894360, 8090610, 902377, 874...   \n",
       "7  [823576, 1053530, 1052975, 9526159, 901656, 10...   \n",
       "\n",
       "                                    similar_item_rec  \\\n",
       "0  [13417587, 1087955, 974177, 929341, 1088462, 9...   \n",
       "1  [5569845, 819308, 5569230, 878996, 948650, 141...   \n",
       "2  [893018, 9836106, 6602697, 903800, 1029743, 12...   \n",
       "3  [5569845, 978332, 909714, 1044078, 1109136, 98...   \n",
       "4  [5569230, 1008032, 1015785, 7138817, 1111786, ...   \n",
       "5  [5569230, 6979191, 1103705, 9673266, 824072, 9...   \n",
       "6  [5569230, 990335, 1025611, 863762, 910673, 901...   \n",
       "7  [901062, 5569230, 1135476, 999999, 5564906, 86...   \n",
       "\n",
       "                                    similar_user_rec  \n",
       "0  [6552318, 925350, 1061394, 949257, 6633167, 89...  \n",
       "1  [970160, 949257, 1005456, 957080, 823031, 9701...  \n",
       "2  [1057168, 8118500, 924004, 877310, 9677052, 83...  \n",
       "3  [908314, 958023, 5577022, 1108055, 1133850, 95...  \n",
       "4  [962967, 9831557, 42346, 1110743, 1129610, 103...  \n",
       "5  [8090612, 1131382, 1108055, 6534078, 1102003, ...  \n",
       "6  [962967, 875089, 841365, 5570147, 911311, 9019...  \n",
       "7  [12523928, 953180, 823031, 1032703, 5578856, 7...  "
      ]
     },
     "execution_count": 28,
     "metadata": {},
     "output_type": "execute_result"
    }
   ],
   "source": [
    "result_eval_lvl1.head(8)"
   ]
  },
  {
   "cell_type": "markdown",
   "metadata": {},
   "source": [
    "Переходим к расчету recall@k"
   ]
  },
  {
   "cell_type": "markdown",
   "metadata": {},
   "source": [
    "### Recall@50"
   ]
  },
  {
   "cell_type": "code",
   "execution_count": 29,
   "metadata": {},
   "outputs": [],
   "source": [
    "top_k_recall = 50"
   ]
  },
  {
   "cell_type": "code",
   "execution_count": 30,
   "metadata": {
    "scrolled": false
   },
   "outputs": [
    {
     "data": {
      "text/plain": [
       "[('own_rec', 0.0638),\n",
       " ('als_rec', 0.0492),\n",
       " ('similar_item_rec', 0.0321),\n",
       " ('similar_user_rec', 0.0061)]"
      ]
     },
     "execution_count": 30,
     "metadata": {},
     "output_type": "execute_result"
    }
   ],
   "source": [
    "sorted(calc_recall_at_k(result_eval_lvl1, top_k_recall), key=lambda x: x[1],reverse=True)"
   ]
  },
  {
   "cell_type": "code",
   "execution_count": 31,
   "metadata": {},
   "outputs": [
    {
     "data": {
      "text/plain": [
       "[('own_rec', 0.0638),\n",
       " ('als_rec', 0.0492),\n",
       " ('similar_item_rec', 0.0321),\n",
       " ('similar_user_rec', 0.0061)]"
      ]
     },
     "execution_count": 31,
     "metadata": {},
     "output_type": "execute_result"
    }
   ],
   "source": [
    "sorted(calc_recall_at_k(result_eval_lvl1, top_k_recall), key=lambda x: x[1],reverse=True)"
   ]
  },
  {
   "cell_type": "markdown",
   "metadata": {},
   "source": [
    "**Вывод:** Наибольший recall при k=50 кандидатов в рекомендацию дает модель own_recommendations"
   ]
  },
  {
   "cell_type": "markdown",
   "metadata": {},
   "source": [
    "**Изучим, как будет меняться метрика в зависимости от количества кандидатов**"
   ]
  },
  {
   "cell_type": "code",
   "execution_count": 32,
   "metadata": {},
   "outputs": [],
   "source": [
    "top_k_list = [20, 50, 100, 200, 500]"
   ]
  },
  {
   "cell_type": "code",
   "execution_count": 33,
   "metadata": {},
   "outputs": [
    {
     "name": "stdout",
     "output_type": "stream",
     "text": [
      "20 кандидатов: \n",
      "[('own_rec', 0.037), ('als_rec', 0.0309), ('similar_item_rec', 0.0168), ('similar_user_rec', 0.0038)]\n",
      "50 кандидатов: \n",
      "[('own_rec', 0.0638), ('als_rec', 0.0492), ('similar_item_rec', 0.0321), ('similar_user_rec', 0.0061)]\n",
      "100 кандидатов: \n",
      "[('own_rec', 0.0948), ('als_rec', 0.0688), ('similar_item_rec', 0.0523), ('similar_user_rec', 0.0101)]\n",
      "200 кандидатов: \n",
      "[('own_rec', 0.1337), ('als_rec', 0.0966), ('similar_item_rec', 0.0846), ('similar_user_rec', 0.0139)]\n",
      "500 кандидатов: \n",
      "[('own_rec', 0.1784), ('als_rec', 0.1457), ('similar_item_rec', 0.1343), ('similar_user_rec', 0.0209)]\n"
     ]
    }
   ],
   "source": [
    "for k in top_k_list:\n",
    "    result_eval_lvl1 = data_val_lvl1.groupby('user_id')['item_id'].unique().reset_index()\n",
    "    result_eval_lvl1.columns=['user_id', ACTUAL_COL]\n",
    "    \n",
    "    for column_name, model in models.items():\n",
    "        result_eval_lvl1[column_name] = make_recommendations(result_eval_lvl1, model, N=k)\n",
    "        \n",
    "    print(f'{k} кандидатов: \\n{sorted(calc_recall_at_k(result_eval_lvl1, k), key=lambda x: x[1],reverse=True)}')"
   ]
  },
  {
   "cell_type": "markdown",
   "metadata": {},
   "source": [
    "**Вывод:** очевидно, что с увеличением количества кандидатов метрика пропорционально растет. Градация по убываю метрики среди моделей сохраняется (лучший результат показывает модель own_recommenders (однако не будем забывать, что она не совсем \"правильная\" на практике, т.к. часто рекомендует товары, которые пользователь и так купит), самый слабый результат - модель similar_user_rec).  \n",
    "  \n",
    "  \n",
    "Однако, чем больше кандидатов, тем сложнее модель и тем дольше она обучается, а также это отражается на модели следующего уровня. Остановимся пока на количестве кандидатов - 100"
   ]
  },
  {
   "cell_type": "markdown",
   "metadata": {},
   "source": [
    "### Ranking part"
   ]
  },
  {
   "cell_type": "markdown",
   "metadata": {},
   "source": [
    "### Обучаем модель 2-ого уровня на выбранных кандидатах\n",
    "\n",
    "**Задание 2.**\n",
    "\n",
    "Обучите модель 2-ого уровня, при этом:\n",
    "\n",
    "- Добавьте минимум по 2 фичи для юзера, товара и пары юзер-товар\n",
    "\n",
    "- Измерьте отдельно precision@5 модели 1-ого уровня и двухуровневой модели на data_val_ranker\n",
    "\n",
    "- Вырос ли precision@5 при использовании двухуровневой модели?"
   ]
  },
  {
   "cell_type": "code",
   "execution_count": 63,
   "metadata": {},
   "outputs": [],
   "source": [
    "# Наши периоды:\n",
    "# -- давние покупки -- | -- 6 недель -- | -- 3 недель -- "
   ]
  },
  {
   "cell_type": "markdown",
   "metadata": {},
   "source": [
    "### Подготовка данных для трейна"
   ]
  },
  {
   "cell_type": "code",
   "execution_count": 64,
   "metadata": {},
   "outputs": [],
   "source": [
    "#Оставляем количество кандидатов = 100 и own_recommendations\n",
    "N_PREDICT = 100\n",
    "\n",
    "#  Пробовала также 200  -разницы в метрике не было"
   ]
  },
  {
   "cell_type": "code",
   "execution_count": 65,
   "metadata": {},
   "outputs": [],
   "source": [
    "# взяли пользователей из трейна для ранжирования\n",
    "\n",
    "USER_COL = 'user_id'\n",
    "ITEM_COL = 'item_id'\n",
    "\n",
    "#начинам собирать таблицу с юзерами и их кандидатами в рекомендацию (рекомендуемыми товарами)\n",
    "df_lvl2_candidates = pd.DataFrame(data_train_lvl2[USER_COL].unique())\n",
    "df_lvl2_candidates.columns = [USER_COL]"
   ]
  },
  {
   "cell_type": "code",
   "execution_count": 66,
   "metadata": {},
   "outputs": [],
   "source": [
    "# собираем кандитатов с первого этапа (matcher)\n",
    "df_lvl2_candidates['candidates'] = df_lvl2_candidates[USER_COL].apply(lambda x: recommender.get_own_recommendations(x, N=N_PREDICT))"
   ]
  },
  {
   "cell_type": "code",
   "execution_count": 67,
   "metadata": {},
   "outputs": [],
   "source": [
    "df_items = df_lvl2_candidates.apply(lambda x: pd.Series(x['candidates']), axis=1).stack().reset_index(level=1, drop=True)\n",
    "df_items.name = 'item_id'"
   ]
  },
  {
   "cell_type": "code",
   "execution_count": 68,
   "metadata": {},
   "outputs": [
    {
     "data": {
      "text/html": [
       "<div>\n",
       "<style scoped>\n",
       "    .dataframe tbody tr th:only-of-type {\n",
       "        vertical-align: middle;\n",
       "    }\n",
       "\n",
       "    .dataframe tbody tr th {\n",
       "        vertical-align: top;\n",
       "    }\n",
       "\n",
       "    .dataframe thead th {\n",
       "        text-align: right;\n",
       "    }\n",
       "</style>\n",
       "<table border=\"1\" class=\"dataframe\">\n",
       "  <thead>\n",
       "    <tr style=\"text-align: right;\">\n",
       "      <th></th>\n",
       "      <th>user_id</th>\n",
       "      <th>candidates</th>\n",
       "    </tr>\n",
       "  </thead>\n",
       "  <tbody>\n",
       "    <tr>\n",
       "      <th>0</th>\n",
       "      <td>2070</td>\n",
       "      <td>[1105426, 1097350, 879194, 948640, 928263, 944...</td>\n",
       "    </tr>\n",
       "    <tr>\n",
       "      <th>1</th>\n",
       "      <td>2021</td>\n",
       "      <td>[950935, 1119454, 835578, 863762, 1097398, 101...</td>\n",
       "    </tr>\n",
       "  </tbody>\n",
       "</table>\n",
       "</div>"
      ],
      "text/plain": [
       "   user_id                                         candidates\n",
       "0     2070  [1105426, 1097350, 879194, 948640, 928263, 944...\n",
       "1     2021  [950935, 1119454, 835578, 863762, 1097398, 101..."
      ]
     },
     "execution_count": 68,
     "metadata": {},
     "output_type": "execute_result"
    }
   ],
   "source": [
    "df_lvl2_candidates.head(2)"
   ]
  },
  {
   "cell_type": "code",
   "execution_count": 69,
   "metadata": {},
   "outputs": [],
   "source": [
    "df_lvl2_candidates = df_lvl2_candidates.drop('candidates', axis=1).join(df_items)"
   ]
  },
  {
   "cell_type": "code",
   "execution_count": 70,
   "metadata": {},
   "outputs": [
    {
     "data": {
      "text/html": [
       "<div>\n",
       "<style scoped>\n",
       "    .dataframe tbody tr th:only-of-type {\n",
       "        vertical-align: middle;\n",
       "    }\n",
       "\n",
       "    .dataframe tbody tr th {\n",
       "        vertical-align: top;\n",
       "    }\n",
       "\n",
       "    .dataframe thead th {\n",
       "        text-align: right;\n",
       "    }\n",
       "</style>\n",
       "<table border=\"1\" class=\"dataframe\">\n",
       "  <thead>\n",
       "    <tr style=\"text-align: right;\">\n",
       "      <th></th>\n",
       "      <th>user_id</th>\n",
       "      <th>item_id</th>\n",
       "    </tr>\n",
       "  </thead>\n",
       "  <tbody>\n",
       "    <tr>\n",
       "      <th>1914</th>\n",
       "      <td>1745</td>\n",
       "      <td>844179</td>\n",
       "    </tr>\n",
       "    <tr>\n",
       "      <th>1914</th>\n",
       "      <td>1745</td>\n",
       "      <td>1126899</td>\n",
       "    </tr>\n",
       "    <tr>\n",
       "      <th>1914</th>\n",
       "      <td>1745</td>\n",
       "      <td>1044078</td>\n",
       "    </tr>\n",
       "    <tr>\n",
       "      <th>1914</th>\n",
       "      <td>1745</td>\n",
       "      <td>1127831</td>\n",
       "    </tr>\n",
       "    <tr>\n",
       "      <th>1914</th>\n",
       "      <td>1745</td>\n",
       "      <td>866211</td>\n",
       "    </tr>\n",
       "  </tbody>\n",
       "</table>\n",
       "</div>"
      ],
      "text/plain": [
       "      user_id  item_id\n",
       "1914     1745   844179\n",
       "1914     1745  1126899\n",
       "1914     1745  1044078\n",
       "1914     1745  1127831\n",
       "1914     1745   866211"
      ]
     },
     "execution_count": 70,
     "metadata": {},
     "output_type": "execute_result"
    }
   ],
   "source": [
    "df_lvl2_candidates.tail(5)"
   ]
  },
  {
   "cell_type": "markdown",
   "metadata": {},
   "source": [
    "Датасет df_lvl2_candidates содержит user_id и топ-200 рекомендаций для каждого userа - результат модели ALS"
   ]
  },
  {
   "cell_type": "markdown",
   "metadata": {},
   "source": [
    "#### Создаем трейн датасет для ранжирования с учетом результаа (кандидатов) с этапа 1 "
   ]
  },
  {
   "cell_type": "code",
   "execution_count": 71,
   "metadata": {},
   "outputs": [],
   "source": [
    "# В изначальном датасете даны только фактические покупки юзеров, значит их можно заменить на target = 1\n",
    "# в df_train_lvl2 будет содержаться тренировочный набор данных для обучения модели 2 уровня\n",
    "\n",
    "df_train_lvl2 = data_train_lvl2[[USER_COL, ITEM_COL]].copy()\n",
    "df_train_lvl2['target'] = 1  # тут только покупки "
   ]
  },
  {
   "cell_type": "code",
   "execution_count": 72,
   "metadata": {},
   "outputs": [
    {
     "data": {
      "text/html": [
       "<div>\n",
       "<style scoped>\n",
       "    .dataframe tbody tr th:only-of-type {\n",
       "        vertical-align: middle;\n",
       "    }\n",
       "\n",
       "    .dataframe tbody tr th {\n",
       "        vertical-align: top;\n",
       "    }\n",
       "\n",
       "    .dataframe thead th {\n",
       "        text-align: right;\n",
       "    }\n",
       "</style>\n",
       "<table border=\"1\" class=\"dataframe\">\n",
       "  <thead>\n",
       "    <tr style=\"text-align: right;\">\n",
       "      <th></th>\n",
       "      <th>user_id</th>\n",
       "      <th>item_id</th>\n",
       "      <th>target</th>\n",
       "    </tr>\n",
       "  </thead>\n",
       "  <tbody>\n",
       "    <tr>\n",
       "      <th>2104867</th>\n",
       "      <td>2070</td>\n",
       "      <td>1019940</td>\n",
       "      <td>1</td>\n",
       "    </tr>\n",
       "    <tr>\n",
       "      <th>2107468</th>\n",
       "      <td>2021</td>\n",
       "      <td>840361</td>\n",
       "      <td>1</td>\n",
       "    </tr>\n",
       "    <tr>\n",
       "      <th>2107469</th>\n",
       "      <td>2021</td>\n",
       "      <td>856060</td>\n",
       "      <td>1</td>\n",
       "    </tr>\n",
       "  </tbody>\n",
       "</table>\n",
       "</div>"
      ],
      "text/plain": [
       "         user_id  item_id  target\n",
       "2104867     2070  1019940       1\n",
       "2107468     2021   840361       1\n",
       "2107469     2021   856060       1"
      ]
     },
     "execution_count": 72,
     "metadata": {},
     "output_type": "execute_result"
    }
   ],
   "source": [
    "df_train_lvl2.head(3)\n",
    "\n"
   ]
  },
  {
   "cell_type": "code",
   "execution_count": 73,
   "metadata": {},
   "outputs": [],
   "source": [
    "#Присоединим к df_lvl2_candidates пары user-item из тренировочного датасета (из исходных данных)\n",
    "\n",
    "df_train_lvl2 = df_lvl2_candidates.merge(df_train_lvl2, on=[USER_COL, ITEM_COL], how='left')\n",
    "\n",
    "# чистим дубликаты\n",
    "df_train_lvl2 = df_train_lvl2.drop_duplicates(subset=[USER_COL, ITEM_COL])\n",
    "\n",
    "# Заполняем пропущенные значения таргета 0 - значит пользователь не совершал такие покупки раньше\n",
    "df_train_lvl2['target'].fillna(0, inplace= True)"
   ]
  },
  {
   "cell_type": "code",
   "execution_count": 74,
   "metadata": {},
   "outputs": [
    {
     "data": {
      "text/plain": [
       "0.0    177822\n",
       "1.0     11150\n",
       "Name: target, dtype: int64"
      ]
     },
     "execution_count": 74,
     "metadata": {},
     "output_type": "execute_result"
    }
   ],
   "source": [
    "df_train_lvl2.target.value_counts()"
   ]
  },
  {
   "cell_type": "markdown",
   "metadata": {},
   "source": [
    "0 класса существенно больше, чем 1, вероятно, это связано с большим количеством выбранных рекомендаций после 1 уровня"
   ]
  },
  {
   "cell_type": "code",
   "execution_count": 75,
   "metadata": {},
   "outputs": [
    {
     "data": {
      "text/html": [
       "<div>\n",
       "<style scoped>\n",
       "    .dataframe tbody tr th:only-of-type {\n",
       "        vertical-align: middle;\n",
       "    }\n",
       "\n",
       "    .dataframe tbody tr th {\n",
       "        vertical-align: top;\n",
       "    }\n",
       "\n",
       "    .dataframe thead th {\n",
       "        text-align: right;\n",
       "    }\n",
       "</style>\n",
       "<table border=\"1\" class=\"dataframe\">\n",
       "  <thead>\n",
       "    <tr style=\"text-align: right;\">\n",
       "      <th></th>\n",
       "      <th>user_id</th>\n",
       "      <th>item_id</th>\n",
       "      <th>target</th>\n",
       "    </tr>\n",
       "  </thead>\n",
       "  <tbody>\n",
       "    <tr>\n",
       "      <th>196359</th>\n",
       "      <td>1745</td>\n",
       "      <td>1070820</td>\n",
       "      <td>0.0</td>\n",
       "    </tr>\n",
       "    <tr>\n",
       "      <th>196360</th>\n",
       "      <td>1745</td>\n",
       "      <td>844179</td>\n",
       "      <td>0.0</td>\n",
       "    </tr>\n",
       "    <tr>\n",
       "      <th>196362</th>\n",
       "      <td>1745</td>\n",
       "      <td>1044078</td>\n",
       "      <td>0.0</td>\n",
       "    </tr>\n",
       "    <tr>\n",
       "      <th>196363</th>\n",
       "      <td>1745</td>\n",
       "      <td>1127831</td>\n",
       "      <td>0.0</td>\n",
       "    </tr>\n",
       "    <tr>\n",
       "      <th>196364</th>\n",
       "      <td>1745</td>\n",
       "      <td>866211</td>\n",
       "      <td>0.0</td>\n",
       "    </tr>\n",
       "  </tbody>\n",
       "</table>\n",
       "</div>"
      ],
      "text/plain": [
       "        user_id  item_id  target\n",
       "196359     1745  1070820     0.0\n",
       "196360     1745   844179     0.0\n",
       "196362     1745  1044078     0.0\n",
       "196363     1745  1127831     0.0\n",
       "196364     1745   866211     0.0"
      ]
     },
     "execution_count": 75,
     "metadata": {},
     "output_type": "execute_result"
    }
   ],
   "source": [
    "df_train_lvl2.tail(5)"
   ]
  },
  {
   "cell_type": "code",
   "execution_count": 76,
   "metadata": {},
   "outputs": [
    {
     "data": {
      "text/plain": [
       "0.05900345024659738"
      ]
     },
     "execution_count": 76,
     "metadata": {},
     "output_type": "execute_result"
    }
   ],
   "source": [
    "df_train_lvl2['target'].mean()"
   ]
  },
  {
   "cell_type": "markdown",
   "metadata": {},
   "source": [
    "#### Подготавливаем фичи для обучения модели"
   ]
  },
  {
   "cell_type": "code",
   "execution_count": 77,
   "metadata": {},
   "outputs": [
    {
     "data": {
      "text/html": [
       "<div>\n",
       "<style scoped>\n",
       "    .dataframe tbody tr th:only-of-type {\n",
       "        vertical-align: middle;\n",
       "    }\n",
       "\n",
       "    .dataframe tbody tr th {\n",
       "        vertical-align: top;\n",
       "    }\n",
       "\n",
       "    .dataframe thead th {\n",
       "        text-align: right;\n",
       "    }\n",
       "</style>\n",
       "<table border=\"1\" class=\"dataframe\">\n",
       "  <thead>\n",
       "    <tr style=\"text-align: right;\">\n",
       "      <th></th>\n",
       "      <th>item_id</th>\n",
       "      <th>manufacturer</th>\n",
       "      <th>department</th>\n",
       "      <th>brand</th>\n",
       "      <th>commodity_desc</th>\n",
       "      <th>sub_commodity_desc</th>\n",
       "      <th>curr_size_of_product</th>\n",
       "    </tr>\n",
       "  </thead>\n",
       "  <tbody>\n",
       "    <tr>\n",
       "      <th>0</th>\n",
       "      <td>25671</td>\n",
       "      <td>2</td>\n",
       "      <td>GROCERY</td>\n",
       "      <td>National</td>\n",
       "      <td>FRZN ICE</td>\n",
       "      <td>ICE - CRUSHED/CUBED</td>\n",
       "      <td>22 LB</td>\n",
       "    </tr>\n",
       "    <tr>\n",
       "      <th>1</th>\n",
       "      <td>26081</td>\n",
       "      <td>2</td>\n",
       "      <td>MISC. TRANS.</td>\n",
       "      <td>National</td>\n",
       "      <td>NO COMMODITY DESCRIPTION</td>\n",
       "      <td>NO SUBCOMMODITY DESCRIPTION</td>\n",
       "      <td></td>\n",
       "    </tr>\n",
       "  </tbody>\n",
       "</table>\n",
       "</div>"
      ],
      "text/plain": [
       "   item_id  manufacturer    department     brand            commodity_desc  \\\n",
       "0    25671             2       GROCERY  National                  FRZN ICE   \n",
       "1    26081             2  MISC. TRANS.  National  NO COMMODITY DESCRIPTION   \n",
       "\n",
       "            sub_commodity_desc curr_size_of_product  \n",
       "0          ICE - CRUSHED/CUBED                22 LB  \n",
       "1  NO SUBCOMMODITY DESCRIPTION                       "
      ]
     },
     "execution_count": 77,
     "metadata": {},
     "output_type": "execute_result"
    }
   ],
   "source": [
    "item_features.head(2)"
   ]
  },
  {
   "cell_type": "code",
   "execution_count": 78,
   "metadata": {},
   "outputs": [
    {
     "data": {
      "text/html": [
       "<div>\n",
       "<style scoped>\n",
       "    .dataframe tbody tr th:only-of-type {\n",
       "        vertical-align: middle;\n",
       "    }\n",
       "\n",
       "    .dataframe tbody tr th {\n",
       "        vertical-align: top;\n",
       "    }\n",
       "\n",
       "    .dataframe thead th {\n",
       "        text-align: right;\n",
       "    }\n",
       "</style>\n",
       "<table border=\"1\" class=\"dataframe\">\n",
       "  <thead>\n",
       "    <tr style=\"text-align: right;\">\n",
       "      <th></th>\n",
       "      <th>age_desc</th>\n",
       "      <th>marital_status_code</th>\n",
       "      <th>income_desc</th>\n",
       "      <th>homeowner_desc</th>\n",
       "      <th>hh_comp_desc</th>\n",
       "      <th>household_size_desc</th>\n",
       "      <th>kid_category_desc</th>\n",
       "      <th>user_id</th>\n",
       "    </tr>\n",
       "  </thead>\n",
       "  <tbody>\n",
       "    <tr>\n",
       "      <th>0</th>\n",
       "      <td>65+</td>\n",
       "      <td>A</td>\n",
       "      <td>35-49K</td>\n",
       "      <td>Homeowner</td>\n",
       "      <td>2 Adults No Kids</td>\n",
       "      <td>2</td>\n",
       "      <td>None/Unknown</td>\n",
       "      <td>1</td>\n",
       "    </tr>\n",
       "    <tr>\n",
       "      <th>1</th>\n",
       "      <td>45-54</td>\n",
       "      <td>A</td>\n",
       "      <td>50-74K</td>\n",
       "      <td>Homeowner</td>\n",
       "      <td>2 Adults No Kids</td>\n",
       "      <td>2</td>\n",
       "      <td>None/Unknown</td>\n",
       "      <td>7</td>\n",
       "    </tr>\n",
       "  </tbody>\n",
       "</table>\n",
       "</div>"
      ],
      "text/plain": [
       "  age_desc marital_status_code income_desc homeowner_desc      hh_comp_desc  \\\n",
       "0      65+                   A      35-49K      Homeowner  2 Adults No Kids   \n",
       "1    45-54                   A      50-74K      Homeowner  2 Adults No Kids   \n",
       "\n",
       "  household_size_desc kid_category_desc  user_id  \n",
       "0                   2      None/Unknown        1  \n",
       "1                   2      None/Unknown        7  "
      ]
     },
     "execution_count": 78,
     "metadata": {},
     "output_type": "execute_result"
    }
   ],
   "source": [
    "user_features.head(2)"
   ]
  },
  {
   "cell_type": "code",
   "execution_count": 79,
   "metadata": {},
   "outputs": [
    {
     "data": {
      "text/html": [
       "<div>\n",
       "<style scoped>\n",
       "    .dataframe tbody tr th:only-of-type {\n",
       "        vertical-align: middle;\n",
       "    }\n",
       "\n",
       "    .dataframe tbody tr th {\n",
       "        vertical-align: top;\n",
       "    }\n",
       "\n",
       "    .dataframe thead th {\n",
       "        text-align: right;\n",
       "    }\n",
       "</style>\n",
       "<table border=\"1\" class=\"dataframe\">\n",
       "  <thead>\n",
       "    <tr style=\"text-align: right;\">\n",
       "      <th></th>\n",
       "      <th>user_id</th>\n",
       "      <th>item_id</th>\n",
       "      <th>target</th>\n",
       "      <th>manufacturer</th>\n",
       "      <th>department</th>\n",
       "      <th>brand</th>\n",
       "      <th>commodity_desc</th>\n",
       "      <th>sub_commodity_desc</th>\n",
       "      <th>curr_size_of_product</th>\n",
       "      <th>age_desc</th>\n",
       "      <th>marital_status_code</th>\n",
       "      <th>income_desc</th>\n",
       "      <th>homeowner_desc</th>\n",
       "      <th>hh_comp_desc</th>\n",
       "      <th>household_size_desc</th>\n",
       "      <th>kid_category_desc</th>\n",
       "    </tr>\n",
       "  </thead>\n",
       "  <tbody>\n",
       "    <tr>\n",
       "      <th>0</th>\n",
       "      <td>2070</td>\n",
       "      <td>1105426</td>\n",
       "      <td>0.0</td>\n",
       "      <td>69</td>\n",
       "      <td>DELI</td>\n",
       "      <td>Private</td>\n",
       "      <td>SANDWICHES</td>\n",
       "      <td>SANDWICHES - (COLD)</td>\n",
       "      <td></td>\n",
       "      <td>45-54</td>\n",
       "      <td>U</td>\n",
       "      <td>50-74K</td>\n",
       "      <td>Unknown</td>\n",
       "      <td>Unknown</td>\n",
       "      <td>1</td>\n",
       "      <td>None/Unknown</td>\n",
       "    </tr>\n",
       "    <tr>\n",
       "      <th>1</th>\n",
       "      <td>2070</td>\n",
       "      <td>1097350</td>\n",
       "      <td>0.0</td>\n",
       "      <td>2468</td>\n",
       "      <td>GROCERY</td>\n",
       "      <td>National</td>\n",
       "      <td>DOMESTIC WINE</td>\n",
       "      <td>VALUE GLASS WINE</td>\n",
       "      <td>4 LTR</td>\n",
       "      <td>45-54</td>\n",
       "      <td>U</td>\n",
       "      <td>50-74K</td>\n",
       "      <td>Unknown</td>\n",
       "      <td>Unknown</td>\n",
       "      <td>1</td>\n",
       "      <td>None/Unknown</td>\n",
       "    </tr>\n",
       "    <tr>\n",
       "      <th>2</th>\n",
       "      <td>2070</td>\n",
       "      <td>879194</td>\n",
       "      <td>0.0</td>\n",
       "      <td>69</td>\n",
       "      <td>DRUG GM</td>\n",
       "      <td>Private</td>\n",
       "      <td>DIAPERS &amp; DISPOSABLES</td>\n",
       "      <td>BABY DIAPERS</td>\n",
       "      <td>14 CT</td>\n",
       "      <td>45-54</td>\n",
       "      <td>U</td>\n",
       "      <td>50-74K</td>\n",
       "      <td>Unknown</td>\n",
       "      <td>Unknown</td>\n",
       "      <td>1</td>\n",
       "      <td>None/Unknown</td>\n",
       "    </tr>\n",
       "    <tr>\n",
       "      <th>3</th>\n",
       "      <td>2070</td>\n",
       "      <td>948640</td>\n",
       "      <td>0.0</td>\n",
       "      <td>1213</td>\n",
       "      <td>DRUG GM</td>\n",
       "      <td>National</td>\n",
       "      <td>ORAL HYGIENE PRODUCTS</td>\n",
       "      <td>WHITENING SYSTEMS</td>\n",
       "      <td>3 OZ</td>\n",
       "      <td>45-54</td>\n",
       "      <td>U</td>\n",
       "      <td>50-74K</td>\n",
       "      <td>Unknown</td>\n",
       "      <td>Unknown</td>\n",
       "      <td>1</td>\n",
       "      <td>None/Unknown</td>\n",
       "    </tr>\n",
       "  </tbody>\n",
       "</table>\n",
       "</div>"
      ],
      "text/plain": [
       "   user_id  item_id  target  manufacturer department     brand  \\\n",
       "0     2070  1105426     0.0            69       DELI   Private   \n",
       "1     2070  1097350     0.0          2468    GROCERY  National   \n",
       "2     2070   879194     0.0            69    DRUG GM   Private   \n",
       "3     2070   948640     0.0          1213    DRUG GM  National   \n",
       "\n",
       "          commodity_desc   sub_commodity_desc curr_size_of_product age_desc  \\\n",
       "0             SANDWICHES  SANDWICHES - (COLD)                         45-54   \n",
       "1          DOMESTIC WINE     VALUE GLASS WINE                4 LTR    45-54   \n",
       "2  DIAPERS & DISPOSABLES         BABY DIAPERS                14 CT    45-54   \n",
       "3  ORAL HYGIENE PRODUCTS    WHITENING SYSTEMS                 3 OZ    45-54   \n",
       "\n",
       "  marital_status_code income_desc homeowner_desc hh_comp_desc  \\\n",
       "0                   U      50-74K        Unknown      Unknown   \n",
       "1                   U      50-74K        Unknown      Unknown   \n",
       "2                   U      50-74K        Unknown      Unknown   \n",
       "3                   U      50-74K        Unknown      Unknown   \n",
       "\n",
       "  household_size_desc kid_category_desc  \n",
       "0                   1      None/Unknown  \n",
       "1                   1      None/Unknown  \n",
       "2                   1      None/Unknown  \n",
       "3                   1      None/Unknown  "
      ]
     },
     "execution_count": 79,
     "metadata": {},
     "output_type": "execute_result"
    }
   ],
   "source": [
    "df_train_lvl2 = df_train_lvl2.merge(item_features, on='item_id', how='left')\n",
    "df_train_lvl2 = df_train_lvl2.merge(user_features, on='user_id', how='left')\n",
    "\n",
    "df_train_lvl2.head(4)"
   ]
  },
  {
   "cell_type": "markdown",
   "metadata": {},
   "source": [
    "**Фичи user_id:**\n",
    "    - Средний чек\n",
    "    - Средняя сумма покупки 1 товара в каждой категории\n",
    "    - Кол-во покупок в каждой категории\n",
    "    - Частотность покупок раз/месяц\n",
    "    - Долю покупок в выходные\n",
    "    - Долю покупок утром/днем/вечером\n",
    "\n",
    "**Фичи item_id**:\n",
    "    - Кол-во покупок в неделю\n",
    "    - Среднее ол-во покупок 1 товара в категории в неделю\n",
    "    - (Кол-во покупок в неделю) / (Среднее ол-во покупок 1 товара в категории в неделю)\n",
    "    - Цена (Можно посчитать из retil_train.csv)\n",
    "    - Цена / Средняя цена товара в категории\n",
    "    \n",
    "**Фичи пары user_id - item_id**\n",
    "    - (Средняя сумма покупки 1 товара в каждой категории (берем категорию item_id)) - (Цена item_id)\n",
    "    - (Кол-во покупок юзером конкретной категории в неделю) - (Среднее кол-во покупок всеми юзерами конкретной категории в неделю)\n",
    "    - (Кол-во покупок юзером конкретной категории в неделю) / (Среднее кол-во покупок всеми юзерами конкретной категории в неделю)"
   ]
  },
  {
   "cell_type": "markdown",
   "metadata": {},
   "source": [
    "### Создадим новые фичи"
   ]
  },
  {
   "cell_type": "markdown",
   "metadata": {},
   "source": [
    "#### 1) Средний чек пользователя"
   ]
  },
  {
   "cell_type": "code",
   "execution_count": 80,
   "metadata": {},
   "outputs": [
    {
     "data": {
      "text/html": [
       "<div>\n",
       "<style scoped>\n",
       "    .dataframe tbody tr th:only-of-type {\n",
       "        vertical-align: middle;\n",
       "    }\n",
       "\n",
       "    .dataframe tbody tr th {\n",
       "        vertical-align: top;\n",
       "    }\n",
       "\n",
       "    .dataframe thead th {\n",
       "        text-align: right;\n",
       "    }\n",
       "</style>\n",
       "<table border=\"1\" class=\"dataframe\">\n",
       "  <thead>\n",
       "    <tr style=\"text-align: right;\">\n",
       "      <th></th>\n",
       "      <th>user_id</th>\n",
       "      <th>item_id</th>\n",
       "      <th>target</th>\n",
       "      <th>manufacturer</th>\n",
       "      <th>department</th>\n",
       "      <th>brand</th>\n",
       "      <th>commodity_desc</th>\n",
       "      <th>sub_commodity_desc</th>\n",
       "      <th>curr_size_of_product</th>\n",
       "      <th>age_desc</th>\n",
       "      <th>marital_status_code</th>\n",
       "      <th>income_desc</th>\n",
       "      <th>homeowner_desc</th>\n",
       "      <th>hh_comp_desc</th>\n",
       "      <th>household_size_desc</th>\n",
       "      <th>kid_category_desc</th>\n",
       "      <th>avg_transaction</th>\n",
       "    </tr>\n",
       "  </thead>\n",
       "  <tbody>\n",
       "    <tr>\n",
       "      <th>0</th>\n",
       "      <td>2070</td>\n",
       "      <td>1105426</td>\n",
       "      <td>0.0</td>\n",
       "      <td>69</td>\n",
       "      <td>DELI</td>\n",
       "      <td>Private</td>\n",
       "      <td>SANDWICHES</td>\n",
       "      <td>SANDWICHES - (COLD)</td>\n",
       "      <td></td>\n",
       "      <td>45-54</td>\n",
       "      <td>U</td>\n",
       "      <td>50-74K</td>\n",
       "      <td>Unknown</td>\n",
       "      <td>Unknown</td>\n",
       "      <td>1</td>\n",
       "      <td>None/Unknown</td>\n",
       "      <td>0.035173</td>\n",
       "    </tr>\n",
       "    <tr>\n",
       "      <th>1</th>\n",
       "      <td>2070</td>\n",
       "      <td>1097350</td>\n",
       "      <td>0.0</td>\n",
       "      <td>2468</td>\n",
       "      <td>GROCERY</td>\n",
       "      <td>National</td>\n",
       "      <td>DOMESTIC WINE</td>\n",
       "      <td>VALUE GLASS WINE</td>\n",
       "      <td>4 LTR</td>\n",
       "      <td>45-54</td>\n",
       "      <td>U</td>\n",
       "      <td>50-74K</td>\n",
       "      <td>Unknown</td>\n",
       "      <td>Unknown</td>\n",
       "      <td>1</td>\n",
       "      <td>None/Unknown</td>\n",
       "      <td>0.035173</td>\n",
       "    </tr>\n",
       "  </tbody>\n",
       "</table>\n",
       "</div>"
      ],
      "text/plain": [
       "   user_id  item_id  target  manufacturer department     brand commodity_desc  \\\n",
       "0     2070  1105426     0.0            69       DELI   Private     SANDWICHES   \n",
       "1     2070  1097350     0.0          2468    GROCERY  National  DOMESTIC WINE   \n",
       "\n",
       "    sub_commodity_desc curr_size_of_product age_desc marital_status_code  \\\n",
       "0  SANDWICHES - (COLD)                         45-54                   U   \n",
       "1     VALUE GLASS WINE                4 LTR    45-54                   U   \n",
       "\n",
       "  income_desc homeowner_desc hh_comp_desc household_size_desc  \\\n",
       "0      50-74K        Unknown      Unknown                   1   \n",
       "1      50-74K        Unknown      Unknown                   1   \n",
       "\n",
       "  kid_category_desc  avg_transaction  \n",
       "0      None/Unknown         0.035173  \n",
       "1      None/Unknown         0.035173  "
      ]
     },
     "execution_count": 80,
     "metadata": {},
     "output_type": "execute_result"
    }
   ],
   "source": [
    "# Средний чек - соотношение суммы покупок к количеству\n",
    "\n",
    "users_sales = data_train_lvl2.groupby(USER_COL)[['sales_value', 'quantity']].sum().reset_index()\n",
    "\n",
    "users_sales['avg_transaction'] = users_sales['sales_value'] / users_sales['quantity']\n",
    "\n",
    "df_train_lvl2 = df_train_lvl2.merge(users_sales[['user_id', 'avg_transaction']], on='user_id', how='left')\n",
    "df_train_lvl2.head(2)"
   ]
  },
  {
   "cell_type": "markdown",
   "metadata": {},
   "source": [
    "#### Добавим  категории к исходному обучающему датасету для создания новых фичей"
   ]
  },
  {
   "cell_type": "code",
   "execution_count": 81,
   "metadata": {},
   "outputs": [
    {
     "data": {
      "text/html": [
       "<div>\n",
       "<style scoped>\n",
       "    .dataframe tbody tr th:only-of-type {\n",
       "        vertical-align: middle;\n",
       "    }\n",
       "\n",
       "    .dataframe tbody tr th {\n",
       "        vertical-align: top;\n",
       "    }\n",
       "\n",
       "    .dataframe thead th {\n",
       "        text-align: right;\n",
       "    }\n",
       "</style>\n",
       "<table border=\"1\" class=\"dataframe\">\n",
       "  <thead>\n",
       "    <tr style=\"text-align: right;\">\n",
       "      <th></th>\n",
       "      <th>user_id</th>\n",
       "      <th>basket_id</th>\n",
       "      <th>day</th>\n",
       "      <th>item_id</th>\n",
       "      <th>quantity</th>\n",
       "      <th>sales_value</th>\n",
       "      <th>store_id</th>\n",
       "      <th>retail_disc</th>\n",
       "      <th>trans_time</th>\n",
       "      <th>week_no</th>\n",
       "      <th>coupon_disc</th>\n",
       "      <th>coupon_match_disc</th>\n",
       "      <th>department</th>\n",
       "    </tr>\n",
       "  </thead>\n",
       "  <tbody>\n",
       "    <tr>\n",
       "      <th>0</th>\n",
       "      <td>2070</td>\n",
       "      <td>40618492260</td>\n",
       "      <td>594</td>\n",
       "      <td>1019940</td>\n",
       "      <td>1</td>\n",
       "      <td>1.0</td>\n",
       "      <td>311</td>\n",
       "      <td>-0.29</td>\n",
       "      <td>40</td>\n",
       "      <td>86</td>\n",
       "      <td>0.0</td>\n",
       "      <td>0.0</td>\n",
       "      <td>GROCERY</td>\n",
       "    </tr>\n",
       "    <tr>\n",
       "      <th>1</th>\n",
       "      <td>2070</td>\n",
       "      <td>40630625006</td>\n",
       "      <td>594</td>\n",
       "      <td>1019940</td>\n",
       "      <td>1</td>\n",
       "      <td>1.0</td>\n",
       "      <td>311</td>\n",
       "      <td>-0.29</td>\n",
       "      <td>201</td>\n",
       "      <td>86</td>\n",
       "      <td>0.0</td>\n",
       "      <td>0.0</td>\n",
       "      <td>GROCERY</td>\n",
       "    </tr>\n",
       "  </tbody>\n",
       "</table>\n",
       "</div>"
      ],
      "text/plain": [
       "   user_id    basket_id  day  item_id  quantity  sales_value  store_id  \\\n",
       "0     2070  40618492260  594  1019940         1          1.0       311   \n",
       "1     2070  40630625006  594  1019940         1          1.0       311   \n",
       "\n",
       "   retail_disc  trans_time  week_no  coupon_disc  coupon_match_disc department  \n",
       "0        -0.29          40       86          0.0                0.0    GROCERY  \n",
       "1        -0.29         201       86          0.0                0.0    GROCERY  "
      ]
     },
     "execution_count": 81,
     "metadata": {},
     "output_type": "execute_result"
    }
   ],
   "source": [
    "data_department = data_train_lvl2.merge(item_features[['item_id', 'department']], on='item_id', how='inner')\n",
    "data_department.head(2)"
   ]
  },
  {
   "cell_type": "markdown",
   "metadata": {},
   "source": [
    "#### 2) Количество покупок в каждой категории\n",
    "#### 3) средняя сумма покупки user-a в каждой категории"
   ]
  },
  {
   "cell_type": "code",
   "execution_count": 82,
   "metadata": {},
   "outputs": [],
   "source": [
    "# Количество покупок в каждой категории\n",
    "\n",
    "users_sales_by_department = data_department.groupby([USER_COL, 'department'])\\\n",
    "                        [['sales_value', 'quantity']].sum().reset_index()\n",
    "users_sales_by_department.rename(columns={'quantity': 'n_sold_category'}, inplace=True)\n",
    "\n",
    "# Средняя сумма покупки в каждой категории\n",
    "users_sales_by_department['avg_users_transaction_by_category'] = users_sales_by_department['sales_value']\\\n",
    "                                                    /users_sales_by_department['n_sold_category']"
   ]
  },
  {
   "cell_type": "code",
   "execution_count": 83,
   "metadata": {},
   "outputs": [],
   "source": [
    "users_sales_by_department.drop(columns=['sales_value'], inplace=True)"
   ]
  },
  {
   "cell_type": "code",
   "execution_count": 84,
   "metadata": {},
   "outputs": [
    {
     "data": {
      "text/html": [
       "<div>\n",
       "<style scoped>\n",
       "    .dataframe tbody tr th:only-of-type {\n",
       "        vertical-align: middle;\n",
       "    }\n",
       "\n",
       "    .dataframe tbody tr th {\n",
       "        vertical-align: top;\n",
       "    }\n",
       "\n",
       "    .dataframe thead th {\n",
       "        text-align: right;\n",
       "    }\n",
       "</style>\n",
       "<table border=\"1\" class=\"dataframe\">\n",
       "  <thead>\n",
       "    <tr style=\"text-align: right;\">\n",
       "      <th></th>\n",
       "      <th>user_id</th>\n",
       "      <th>item_id</th>\n",
       "      <th>target</th>\n",
       "      <th>manufacturer</th>\n",
       "      <th>department</th>\n",
       "      <th>brand</th>\n",
       "      <th>commodity_desc</th>\n",
       "      <th>sub_commodity_desc</th>\n",
       "      <th>curr_size_of_product</th>\n",
       "      <th>age_desc</th>\n",
       "      <th>marital_status_code</th>\n",
       "      <th>income_desc</th>\n",
       "      <th>homeowner_desc</th>\n",
       "      <th>hh_comp_desc</th>\n",
       "      <th>household_size_desc</th>\n",
       "      <th>kid_category_desc</th>\n",
       "      <th>avg_transaction</th>\n",
       "      <th>n_sold_category</th>\n",
       "      <th>avg_users_transaction_by_category</th>\n",
       "    </tr>\n",
       "  </thead>\n",
       "  <tbody>\n",
       "    <tr>\n",
       "      <th>0</th>\n",
       "      <td>2070</td>\n",
       "      <td>1105426</td>\n",
       "      <td>0.0</td>\n",
       "      <td>69</td>\n",
       "      <td>DELI</td>\n",
       "      <td>Private</td>\n",
       "      <td>SANDWICHES</td>\n",
       "      <td>SANDWICHES - (COLD)</td>\n",
       "      <td></td>\n",
       "      <td>45-54</td>\n",
       "      <td>U</td>\n",
       "      <td>50-74K</td>\n",
       "      <td>Unknown</td>\n",
       "      <td>Unknown</td>\n",
       "      <td>1</td>\n",
       "      <td>None/Unknown</td>\n",
       "      <td>0.035173</td>\n",
       "      <td>3.0</td>\n",
       "      <td>3.596667</td>\n",
       "    </tr>\n",
       "    <tr>\n",
       "      <th>1</th>\n",
       "      <td>2070</td>\n",
       "      <td>1097350</td>\n",
       "      <td>0.0</td>\n",
       "      <td>2468</td>\n",
       "      <td>GROCERY</td>\n",
       "      <td>National</td>\n",
       "      <td>DOMESTIC WINE</td>\n",
       "      <td>VALUE GLASS WINE</td>\n",
       "      <td>4 LTR</td>\n",
       "      <td>45-54</td>\n",
       "      <td>U</td>\n",
       "      <td>50-74K</td>\n",
       "      <td>Unknown</td>\n",
       "      <td>Unknown</td>\n",
       "      <td>1</td>\n",
       "      <td>None/Unknown</td>\n",
       "      <td>0.035173</td>\n",
       "      <td>213.0</td>\n",
       "      <td>1.461549</td>\n",
       "    </tr>\n",
       "  </tbody>\n",
       "</table>\n",
       "</div>"
      ],
      "text/plain": [
       "   user_id  item_id  target  manufacturer department     brand commodity_desc  \\\n",
       "0     2070  1105426     0.0            69       DELI   Private     SANDWICHES   \n",
       "1     2070  1097350     0.0          2468    GROCERY  National  DOMESTIC WINE   \n",
       "\n",
       "    sub_commodity_desc curr_size_of_product age_desc marital_status_code  \\\n",
       "0  SANDWICHES - (COLD)                         45-54                   U   \n",
       "1     VALUE GLASS WINE                4 LTR    45-54                   U   \n",
       "\n",
       "  income_desc homeowner_desc hh_comp_desc household_size_desc  \\\n",
       "0      50-74K        Unknown      Unknown                   1   \n",
       "1      50-74K        Unknown      Unknown                   1   \n",
       "\n",
       "  kid_category_desc  avg_transaction  n_sold_category  \\\n",
       "0      None/Unknown         0.035173              3.0   \n",
       "1      None/Unknown         0.035173            213.0   \n",
       "\n",
       "   avg_users_transaction_by_category  \n",
       "0                           3.596667  \n",
       "1                           1.461549  "
      ]
     },
     "execution_count": 84,
     "metadata": {},
     "output_type": "execute_result"
    }
   ],
   "source": [
    "df_train_lvl2 = df_train_lvl2.merge(users_sales_by_department, on=[USER_COL, 'department'], how='left')\n",
    "df_train_lvl2.head(2)"
   ]
  },
  {
   "cell_type": "markdown",
   "metadata": {},
   "source": [
    "#### 4) Средняя сумма покупки в категории"
   ]
  },
  {
   "cell_type": "code",
   "execution_count": 85,
   "metadata": {},
   "outputs": [],
   "source": [
    "# Средняя сумма покупки в категории\n",
    "department_sales = data_department.groupby('department')['sales_value'].mean().reset_index()\n",
    "department_sales.rename(columns={'sales_value': 'common_mean_sales_value_by_category'}, inplace=True)\n",
    "department_sales.tail(2)\n",
    "\n",
    "df_train_lvl2 = df_train_lvl2.merge(department_sales, on='department', how='left')\n"
   ]
  },
  {
   "cell_type": "markdown",
   "metadata": {},
   "source": [
    "#### 5) Количество покупок юзером конкретной категории в неделю"
   ]
  },
  {
   "cell_type": "code",
   "execution_count": 86,
   "metadata": {},
   "outputs": [
    {
     "data": {
      "text/plain": [
       "6"
      ]
     },
     "execution_count": 86,
     "metadata": {},
     "output_type": "execute_result"
    }
   ],
   "source": [
    "data_department['week_no'].max() - data_department['week_no'].min() + 1"
   ]
  },
  {
   "cell_type": "code",
   "execution_count": 87,
   "metadata": {},
   "outputs": [
    {
     "data": {
      "text/html": [
       "<div>\n",
       "<style scoped>\n",
       "    .dataframe tbody tr th:only-of-type {\n",
       "        vertical-align: middle;\n",
       "    }\n",
       "\n",
       "    .dataframe tbody tr th {\n",
       "        vertical-align: top;\n",
       "    }\n",
       "\n",
       "    .dataframe thead th {\n",
       "        text-align: right;\n",
       "    }\n",
       "</style>\n",
       "<table border=\"1\" class=\"dataframe\">\n",
       "  <thead>\n",
       "    <tr style=\"text-align: right;\">\n",
       "      <th></th>\n",
       "      <th>user_id</th>\n",
       "      <th>item_id</th>\n",
       "      <th>target</th>\n",
       "      <th>manufacturer</th>\n",
       "      <th>department</th>\n",
       "      <th>brand</th>\n",
       "      <th>commodity_desc</th>\n",
       "      <th>sub_commodity_desc</th>\n",
       "      <th>curr_size_of_product</th>\n",
       "      <th>age_desc</th>\n",
       "      <th>...</th>\n",
       "      <th>income_desc</th>\n",
       "      <th>homeowner_desc</th>\n",
       "      <th>hh_comp_desc</th>\n",
       "      <th>household_size_desc</th>\n",
       "      <th>kid_category_desc</th>\n",
       "      <th>avg_transaction</th>\n",
       "      <th>n_sold_category</th>\n",
       "      <th>avg_users_transaction_by_category</th>\n",
       "      <th>common_mean_sales_value_by_category</th>\n",
       "      <th>n_sold_category_user_week</th>\n",
       "    </tr>\n",
       "  </thead>\n",
       "  <tbody>\n",
       "    <tr>\n",
       "      <th>0</th>\n",
       "      <td>2070</td>\n",
       "      <td>1105426</td>\n",
       "      <td>0.0</td>\n",
       "      <td>69</td>\n",
       "      <td>DELI</td>\n",
       "      <td>Private</td>\n",
       "      <td>SANDWICHES</td>\n",
       "      <td>SANDWICHES - (COLD)</td>\n",
       "      <td></td>\n",
       "      <td>45-54</td>\n",
       "      <td>...</td>\n",
       "      <td>50-74K</td>\n",
       "      <td>Unknown</td>\n",
       "      <td>Unknown</td>\n",
       "      <td>1</td>\n",
       "      <td>None/Unknown</td>\n",
       "      <td>0.035173</td>\n",
       "      <td>3.0</td>\n",
       "      <td>3.596667</td>\n",
       "      <td>4.542495</td>\n",
       "      <td>0.5</td>\n",
       "    </tr>\n",
       "    <tr>\n",
       "      <th>1</th>\n",
       "      <td>2070</td>\n",
       "      <td>1097350</td>\n",
       "      <td>0.0</td>\n",
       "      <td>2468</td>\n",
       "      <td>GROCERY</td>\n",
       "      <td>National</td>\n",
       "      <td>DOMESTIC WINE</td>\n",
       "      <td>VALUE GLASS WINE</td>\n",
       "      <td>4 LTR</td>\n",
       "      <td>45-54</td>\n",
       "      <td>...</td>\n",
       "      <td>50-74K</td>\n",
       "      <td>Unknown</td>\n",
       "      <td>Unknown</td>\n",
       "      <td>1</td>\n",
       "      <td>None/Unknown</td>\n",
       "      <td>0.035173</td>\n",
       "      <td>213.0</td>\n",
       "      <td>1.461549</td>\n",
       "      <td>2.535227</td>\n",
       "      <td>35.5</td>\n",
       "    </tr>\n",
       "  </tbody>\n",
       "</table>\n",
       "<p>2 rows × 21 columns</p>\n",
       "</div>"
      ],
      "text/plain": [
       "   user_id  item_id  target  manufacturer department     brand commodity_desc  \\\n",
       "0     2070  1105426     0.0            69       DELI   Private     SANDWICHES   \n",
       "1     2070  1097350     0.0          2468    GROCERY  National  DOMESTIC WINE   \n",
       "\n",
       "    sub_commodity_desc curr_size_of_product age_desc  ... income_desc  \\\n",
       "0  SANDWICHES - (COLD)                         45-54  ...      50-74K   \n",
       "1     VALUE GLASS WINE                4 LTR    45-54  ...      50-74K   \n",
       "\n",
       "  homeowner_desc hh_comp_desc household_size_desc kid_category_desc  \\\n",
       "0        Unknown      Unknown                   1      None/Unknown   \n",
       "1        Unknown      Unknown                   1      None/Unknown   \n",
       "\n",
       "  avg_transaction  n_sold_category  avg_users_transaction_by_category  \\\n",
       "0        0.035173              3.0                           3.596667   \n",
       "1        0.035173            213.0                           1.461549   \n",
       "\n",
       "   common_mean_sales_value_by_category  n_sold_category_user_week  \n",
       "0                             4.542495                        0.5  \n",
       "1                             2.535227                       35.5  \n",
       "\n",
       "[2 rows x 21 columns]"
      ]
     },
     "execution_count": 87,
     "metadata": {},
     "output_type": "execute_result"
    }
   ],
   "source": [
    "# Рассчитываем количество недель в датасете\n",
    "n_weeks = data_department['week_no'].max() - data_department['week_no'].min() + 1\n",
    "\n",
    "users_department = data_department.groupby([USER_COL, 'department'])['quantity'].sum().reset_index()\n",
    "users_department['quantity'] /= n_weeks\n",
    "users_department.rename(columns={'quantity': 'n_sold_category_user_week'}, inplace=True)\n",
    "\n",
    "df_train_lvl2 = df_train_lvl2.merge(users_department, on=[USER_COL, 'department'], how='left')\n",
    "df_train_lvl2.head(2)"
   ]
  },
  {
   "cell_type": "markdown",
   "metadata": {},
   "source": [
    "#### 6) Фичи по item_id\n",
    "*Цена  \n",
    "*Количество покупок в неделю"
   ]
  },
  {
   "cell_type": "code",
   "execution_count": 88,
   "metadata": {},
   "outputs": [
    {
     "data": {
      "text/plain": [
       "1440"
      ]
     },
     "execution_count": 88,
     "metadata": {},
     "output_type": "execute_result"
    }
   ],
   "source": [
    "# Цена рассчитывается как \n",
    "data_department.loc[data_department['sales_value'] == 0, 'sales_value'].count()"
   ]
  },
  {
   "cell_type": "code",
   "execution_count": 89,
   "metadata": {},
   "outputs": [],
   "source": [
    "# 1) Цена\n",
    "\n",
    "items_sales = data_department.groupby(ITEM_COL)[['sales_value', 'quantity']].sum().reset_index()\n",
    "items_sales['price'] = items_sales['sales_value'] / items_sales['quantity']\n",
    "items_sales['price'].fillna(0, inplace=True)\n",
    "\n",
    "\n",
    "# 2) Количество покупок в неделю\n",
    "items_sales['quantity_per_week'] = items_sales['quantity'] / n_weeks"
   ]
  },
  {
   "cell_type": "code",
   "execution_count": 90,
   "metadata": {},
   "outputs": [
    {
     "data": {
      "text/html": [
       "<div>\n",
       "<style scoped>\n",
       "    .dataframe tbody tr th:only-of-type {\n",
       "        vertical-align: middle;\n",
       "    }\n",
       "\n",
       "    .dataframe tbody tr th {\n",
       "        vertical-align: top;\n",
       "    }\n",
       "\n",
       "    .dataframe thead th {\n",
       "        text-align: right;\n",
       "    }\n",
       "</style>\n",
       "<table border=\"1\" class=\"dataframe\">\n",
       "  <thead>\n",
       "    <tr style=\"text-align: right;\">\n",
       "      <th></th>\n",
       "      <th>item_id</th>\n",
       "      <th>sales_value</th>\n",
       "      <th>quantity</th>\n",
       "      <th>price</th>\n",
       "      <th>quantity_per_week</th>\n",
       "    </tr>\n",
       "  </thead>\n",
       "  <tbody>\n",
       "    <tr>\n",
       "      <th>0</th>\n",
       "      <td>28116</td>\n",
       "      <td>0.33</td>\n",
       "      <td>1</td>\n",
       "      <td>0.33</td>\n",
       "      <td>0.166667</td>\n",
       "    </tr>\n",
       "    <tr>\n",
       "      <th>1</th>\n",
       "      <td>28117</td>\n",
       "      <td>0.34</td>\n",
       "      <td>1</td>\n",
       "      <td>0.34</td>\n",
       "      <td>0.166667</td>\n",
       "    </tr>\n",
       "  </tbody>\n",
       "</table>\n",
       "</div>"
      ],
      "text/plain": [
       "   item_id  sales_value  quantity  price  quantity_per_week\n",
       "0    28116         0.33         1   0.33           0.166667\n",
       "1    28117         0.34         1   0.34           0.166667"
      ]
     },
     "execution_count": 90,
     "metadata": {},
     "output_type": "execute_result"
    }
   ],
   "source": [
    "items_sales.head(2)"
   ]
  },
  {
   "cell_type": "code",
   "execution_count": 91,
   "metadata": {},
   "outputs": [],
   "source": [
    "df_train_lvl2 = df_train_lvl2.merge(items_sales[[ITEM_COL,'price', 'quantity_per_week']],\n",
    "                                        on=ITEM_COL, how='left')"
   ]
  },
  {
   "cell_type": "code",
   "execution_count": 92,
   "metadata": {},
   "outputs": [
    {
     "data": {
      "text/html": [
       "<div>\n",
       "<style scoped>\n",
       "    .dataframe tbody tr th:only-of-type {\n",
       "        vertical-align: middle;\n",
       "    }\n",
       "\n",
       "    .dataframe tbody tr th {\n",
       "        vertical-align: top;\n",
       "    }\n",
       "\n",
       "    .dataframe thead th {\n",
       "        text-align: right;\n",
       "    }\n",
       "</style>\n",
       "<table border=\"1\" class=\"dataframe\">\n",
       "  <thead>\n",
       "    <tr style=\"text-align: right;\">\n",
       "      <th></th>\n",
       "      <th>user_id</th>\n",
       "      <th>item_id</th>\n",
       "      <th>target</th>\n",
       "      <th>manufacturer</th>\n",
       "      <th>department</th>\n",
       "      <th>brand</th>\n",
       "      <th>commodity_desc</th>\n",
       "      <th>sub_commodity_desc</th>\n",
       "      <th>curr_size_of_product</th>\n",
       "      <th>age_desc</th>\n",
       "      <th>...</th>\n",
       "      <th>kid_category_desc</th>\n",
       "      <th>avg_transaction</th>\n",
       "      <th>n_sold_category</th>\n",
       "      <th>avg_users_transaction_by_category</th>\n",
       "      <th>common_mean_sales_value_by_category</th>\n",
       "      <th>n_sold_category_user_week</th>\n",
       "      <th>price</th>\n",
       "      <th>quantity_per_week</th>\n",
       "      <th>Missing price</th>\n",
       "      <th>Missing quantity per week</th>\n",
       "    </tr>\n",
       "  </thead>\n",
       "  <tbody>\n",
       "    <tr>\n",
       "      <th>0</th>\n",
       "      <td>2070</td>\n",
       "      <td>1105426</td>\n",
       "      <td>0.0</td>\n",
       "      <td>69</td>\n",
       "      <td>DELI</td>\n",
       "      <td>Private</td>\n",
       "      <td>SANDWICHES</td>\n",
       "      <td>SANDWICHES - (COLD)</td>\n",
       "      <td></td>\n",
       "      <td>45-54</td>\n",
       "      <td>...</td>\n",
       "      <td>None/Unknown</td>\n",
       "      <td>0.035173</td>\n",
       "      <td>3.0</td>\n",
       "      <td>3.596667</td>\n",
       "      <td>4.542495</td>\n",
       "      <td>0.5</td>\n",
       "      <td>3.99</td>\n",
       "      <td>0.833333</td>\n",
       "      <td>0</td>\n",
       "      <td>0</td>\n",
       "    </tr>\n",
       "    <tr>\n",
       "      <th>1</th>\n",
       "      <td>2070</td>\n",
       "      <td>1097350</td>\n",
       "      <td>0.0</td>\n",
       "      <td>2468</td>\n",
       "      <td>GROCERY</td>\n",
       "      <td>National</td>\n",
       "      <td>DOMESTIC WINE</td>\n",
       "      <td>VALUE GLASS WINE</td>\n",
       "      <td>4 LTR</td>\n",
       "      <td>45-54</td>\n",
       "      <td>...</td>\n",
       "      <td>None/Unknown</td>\n",
       "      <td>0.035173</td>\n",
       "      <td>213.0</td>\n",
       "      <td>1.461549</td>\n",
       "      <td>2.535227</td>\n",
       "      <td>35.5</td>\n",
       "      <td>10.99</td>\n",
       "      <td>0.166667</td>\n",
       "      <td>0</td>\n",
       "      <td>0</td>\n",
       "    </tr>\n",
       "  </tbody>\n",
       "</table>\n",
       "<p>2 rows × 25 columns</p>\n",
       "</div>"
      ],
      "text/plain": [
       "   user_id  item_id  target  manufacturer department     brand commodity_desc  \\\n",
       "0     2070  1105426     0.0            69       DELI   Private     SANDWICHES   \n",
       "1     2070  1097350     0.0          2468    GROCERY  National  DOMESTIC WINE   \n",
       "\n",
       "    sub_commodity_desc curr_size_of_product age_desc  ... kid_category_desc  \\\n",
       "0  SANDWICHES - (COLD)                         45-54  ...      None/Unknown   \n",
       "1     VALUE GLASS WINE                4 LTR    45-54  ...      None/Unknown   \n",
       "\n",
       "  avg_transaction n_sold_category avg_users_transaction_by_category  \\\n",
       "0        0.035173             3.0                          3.596667   \n",
       "1        0.035173           213.0                          1.461549   \n",
       "\n",
       "  common_mean_sales_value_by_category n_sold_category_user_week  price  \\\n",
       "0                            4.542495                       0.5   3.99   \n",
       "1                            2.535227                      35.5  10.99   \n",
       "\n",
       "   quantity_per_week  Missing price  Missing quantity per week  \n",
       "0           0.833333              0                          0  \n",
       "1           0.166667              0                          0  \n",
       "\n",
       "[2 rows x 25 columns]"
      ]
     },
     "execution_count": 92,
     "metadata": {},
     "output_type": "execute_result"
    }
   ],
   "source": [
    "# если нет sales_value, т е нет цены\n",
    "df_train_lvl2['Missing price'] = 0\n",
    "df_train_lvl2.loc[df_train_lvl2['price'].isna(), 'Missing price'] = 1\n",
    "df_train_lvl2['price'].fillna(0, inplace=True)\n",
    "\n",
    "df_train_lvl2['Missing quantity per week'] = 0\n",
    "df_train_lvl2.loc[df_train_lvl2['quantity_per_week'].isna(), 'Missing quantity per week'] = 1\n",
    "df_train_lvl2['quantity_per_week'].fillna(0, inplace=True)\n",
    "\n",
    "df_train_lvl2.head(2)"
   ]
  },
  {
   "cell_type": "markdown",
   "metadata": {},
   "source": [
    "### Разбираем на X_train и y_train и обучаем модель 2 уровня"
   ]
  },
  {
   "cell_type": "code",
   "execution_count": 93,
   "metadata": {},
   "outputs": [],
   "source": [
    "X_train = df_train_lvl2.drop('target', axis=1)\n",
    "y_train = df_train_lvl2[['target']]"
   ]
  },
  {
   "cell_type": "code",
   "execution_count": 94,
   "metadata": {},
   "outputs": [
    {
     "data": {
      "text/html": [
       "<div>\n",
       "<style scoped>\n",
       "    .dataframe tbody tr th:only-of-type {\n",
       "        vertical-align: middle;\n",
       "    }\n",
       "\n",
       "    .dataframe tbody tr th {\n",
       "        vertical-align: top;\n",
       "    }\n",
       "\n",
       "    .dataframe thead th {\n",
       "        text-align: right;\n",
       "    }\n",
       "</style>\n",
       "<table border=\"1\" class=\"dataframe\">\n",
       "  <thead>\n",
       "    <tr style=\"text-align: right;\">\n",
       "      <th></th>\n",
       "      <th>user_id</th>\n",
       "      <th>item_id</th>\n",
       "      <th>manufacturer</th>\n",
       "      <th>department</th>\n",
       "      <th>brand</th>\n",
       "      <th>commodity_desc</th>\n",
       "      <th>sub_commodity_desc</th>\n",
       "      <th>curr_size_of_product</th>\n",
       "      <th>age_desc</th>\n",
       "      <th>marital_status_code</th>\n",
       "      <th>...</th>\n",
       "      <th>kid_category_desc</th>\n",
       "      <th>avg_transaction</th>\n",
       "      <th>n_sold_category</th>\n",
       "      <th>avg_users_transaction_by_category</th>\n",
       "      <th>common_mean_sales_value_by_category</th>\n",
       "      <th>n_sold_category_user_week</th>\n",
       "      <th>price</th>\n",
       "      <th>quantity_per_week</th>\n",
       "      <th>Missing price</th>\n",
       "      <th>Missing quantity per week</th>\n",
       "    </tr>\n",
       "  </thead>\n",
       "  <tbody>\n",
       "    <tr>\n",
       "      <th>0</th>\n",
       "      <td>2070</td>\n",
       "      <td>1105426</td>\n",
       "      <td>69</td>\n",
       "      <td>DELI</td>\n",
       "      <td>Private</td>\n",
       "      <td>SANDWICHES</td>\n",
       "      <td>SANDWICHES - (COLD)</td>\n",
       "      <td></td>\n",
       "      <td>45-54</td>\n",
       "      <td>U</td>\n",
       "      <td>...</td>\n",
       "      <td>None/Unknown</td>\n",
       "      <td>0.035173</td>\n",
       "      <td>3.0</td>\n",
       "      <td>3.596667</td>\n",
       "      <td>4.542495</td>\n",
       "      <td>0.5</td>\n",
       "      <td>3.99</td>\n",
       "      <td>0.833333</td>\n",
       "      <td>0</td>\n",
       "      <td>0</td>\n",
       "    </tr>\n",
       "    <tr>\n",
       "      <th>1</th>\n",
       "      <td>2070</td>\n",
       "      <td>1097350</td>\n",
       "      <td>2468</td>\n",
       "      <td>GROCERY</td>\n",
       "      <td>National</td>\n",
       "      <td>DOMESTIC WINE</td>\n",
       "      <td>VALUE GLASS WINE</td>\n",
       "      <td>4 LTR</td>\n",
       "      <td>45-54</td>\n",
       "      <td>U</td>\n",
       "      <td>...</td>\n",
       "      <td>None/Unknown</td>\n",
       "      <td>0.035173</td>\n",
       "      <td>213.0</td>\n",
       "      <td>1.461549</td>\n",
       "      <td>2.535227</td>\n",
       "      <td>35.5</td>\n",
       "      <td>10.99</td>\n",
       "      <td>0.166667</td>\n",
       "      <td>0</td>\n",
       "      <td>0</td>\n",
       "    </tr>\n",
       "  </tbody>\n",
       "</table>\n",
       "<p>2 rows × 24 columns</p>\n",
       "</div>"
      ],
      "text/plain": [
       "   user_id  item_id  manufacturer department     brand commodity_desc  \\\n",
       "0     2070  1105426            69       DELI   Private     SANDWICHES   \n",
       "1     2070  1097350          2468    GROCERY  National  DOMESTIC WINE   \n",
       "\n",
       "    sub_commodity_desc curr_size_of_product age_desc marital_status_code  ...  \\\n",
       "0  SANDWICHES - (COLD)                         45-54                   U  ...   \n",
       "1     VALUE GLASS WINE                4 LTR    45-54                   U  ...   \n",
       "\n",
       "  kid_category_desc avg_transaction n_sold_category  \\\n",
       "0      None/Unknown        0.035173             3.0   \n",
       "1      None/Unknown        0.035173           213.0   \n",
       "\n",
       "  avg_users_transaction_by_category common_mean_sales_value_by_category  \\\n",
       "0                          3.596667                            4.542495   \n",
       "1                          1.461549                            2.535227   \n",
       "\n",
       "   n_sold_category_user_week  price  quantity_per_week  Missing price  \\\n",
       "0                        0.5   3.99           0.833333              0   \n",
       "1                       35.5  10.99           0.166667              0   \n",
       "\n",
       "   Missing quantity per week  \n",
       "0                          0  \n",
       "1                          0  \n",
       "\n",
       "[2 rows x 24 columns]"
      ]
     },
     "execution_count": 94,
     "metadata": {},
     "output_type": "execute_result"
    }
   ],
   "source": [
    "X_train.head(2)"
   ]
  },
  {
   "cell_type": "code",
   "execution_count": 95,
   "metadata": {},
   "outputs": [
    {
     "data": {
      "text/plain": [
       "user_id                                  int64\n",
       "item_id                                  int64\n",
       "manufacturer                             int64\n",
       "department                              object\n",
       "brand                                   object\n",
       "commodity_desc                          object\n",
       "sub_commodity_desc                      object\n",
       "curr_size_of_product                    object\n",
       "age_desc                                object\n",
       "marital_status_code                     object\n",
       "income_desc                             object\n",
       "homeowner_desc                          object\n",
       "hh_comp_desc                            object\n",
       "household_size_desc                     object\n",
       "kid_category_desc                       object\n",
       "avg_transaction                        float64\n",
       "n_sold_category                        float64\n",
       "avg_users_transaction_by_category      float64\n",
       "common_mean_sales_value_by_category    float64\n",
       "n_sold_category_user_week              float64\n",
       "price                                  float64\n",
       "quantity_per_week                      float64\n",
       "Missing price                            int64\n",
       "Missing quantity per week                int64\n",
       "dtype: object"
      ]
     },
     "execution_count": 95,
     "metadata": {},
     "output_type": "execute_result"
    }
   ],
   "source": [
    "X_train.dtypes"
   ]
  },
  {
   "cell_type": "code",
   "execution_count": 96,
   "metadata": {
    "scrolled": true
   },
   "outputs": [
    {
     "data": {
      "text/plain": [
       "['manufacturer',\n",
       " 'department',\n",
       " 'brand',\n",
       " 'commodity_desc',\n",
       " 'sub_commodity_desc',\n",
       " 'curr_size_of_product',\n",
       " 'age_desc',\n",
       " 'marital_status_code',\n",
       " 'income_desc',\n",
       " 'homeowner_desc',\n",
       " 'hh_comp_desc',\n",
       " 'household_size_desc',\n",
       " 'kid_category_desc']"
      ]
     },
     "execution_count": 96,
     "metadata": {},
     "output_type": "execute_result"
    }
   ],
   "source": [
    "cat_feats = X_train.columns[2:15].tolist()\n",
    "\n",
    "for col in cat_feats:\n",
    "    X_train[col].fillna(0, inplace = True)\n",
    "X_train[cat_feats] = X_train[cat_feats].astype('category')\n",
    "\n",
    "cat_feats"
   ]
  },
  {
   "cell_type": "code",
   "execution_count": 97,
   "metadata": {},
   "outputs": [
    {
     "data": {
      "text/plain": [
       "user_id                                   int64\n",
       "item_id                                   int64\n",
       "manufacturer                           category\n",
       "department                             category\n",
       "brand                                  category\n",
       "commodity_desc                         category\n",
       "sub_commodity_desc                     category\n",
       "curr_size_of_product                   category\n",
       "age_desc                               category\n",
       "marital_status_code                    category\n",
       "income_desc                            category\n",
       "homeowner_desc                         category\n",
       "hh_comp_desc                           category\n",
       "household_size_desc                    category\n",
       "kid_category_desc                      category\n",
       "avg_transaction                         float64\n",
       "n_sold_category                         float64\n",
       "avg_users_transaction_by_category       float64\n",
       "common_mean_sales_value_by_category     float64\n",
       "n_sold_category_user_week               float64\n",
       "price                                   float64\n",
       "quantity_per_week                       float64\n",
       "Missing price                             int64\n",
       "Missing quantity per week                 int64\n",
       "dtype: object"
      ]
     },
     "execution_count": 97,
     "metadata": {},
     "output_type": "execute_result"
    }
   ],
   "source": [
    "X_train.dtypes"
   ]
  },
  {
   "cell_type": "markdown",
   "metadata": {},
   "source": [
    "### Обучение модели ранжирования"
   ]
  },
  {
   "cell_type": "code",
   "execution_count": 98,
   "metadata": {
    "scrolled": false
   },
   "outputs": [
    {
     "name": "stderr",
     "output_type": "stream",
     "text": [
      "C:\\ProgramData\\Anaconda3\\lib\\site-packages\\sklearn\\utils\\validation.py:63: DataConversionWarning: A column-vector y was passed when a 1d array was expected. Please change the shape of y to (n_samples, ), for example using ravel().\n",
      "  return f(*args, **kwargs)\n",
      "C:\\ProgramData\\Anaconda3\\lib\\site-packages\\lightgbm\\basic.py:1513: UserWarning: categorical_column in param dict is overridden.\n",
      "  _log_warning(f'{cat_alias} in param dict is overridden.')\n"
     ]
    }
   ],
   "source": [
    "lgb = LGBMClassifier(objective='binary',\n",
    "                     max_depth=13,\n",
    "                     n_estimators=900,\n",
    "                     learning_rate=0.1,\n",
    "                     categorical_column=cat_feats)\n",
    "\n",
    "lgb.fit(X_train, y_train)\n",
    "\n",
    "train_preds = lgb.predict_proba(X_train)"
   ]
  },
  {
   "cell_type": "code",
   "execution_count": 99,
   "metadata": {},
   "outputs": [],
   "source": [
    "df_lvl2_predict = df_train_lvl2.copy()\n",
    "df_lvl2_predict['proba_item_purchase'] = train_preds[:,1]"
   ]
  },
  {
   "cell_type": "code",
   "execution_count": 100,
   "metadata": {},
   "outputs": [
    {
     "data": {
      "text/html": [
       "<div>\n",
       "<style scoped>\n",
       "    .dataframe tbody tr th:only-of-type {\n",
       "        vertical-align: middle;\n",
       "    }\n",
       "\n",
       "    .dataframe tbody tr th {\n",
       "        vertical-align: top;\n",
       "    }\n",
       "\n",
       "    .dataframe thead th {\n",
       "        text-align: right;\n",
       "    }\n",
       "</style>\n",
       "<table border=\"1\" class=\"dataframe\">\n",
       "  <thead>\n",
       "    <tr style=\"text-align: right;\">\n",
       "      <th></th>\n",
       "      <th>user_id</th>\n",
       "      <th>item_id</th>\n",
       "      <th>target</th>\n",
       "      <th>manufacturer</th>\n",
       "      <th>department</th>\n",
       "      <th>brand</th>\n",
       "      <th>commodity_desc</th>\n",
       "      <th>sub_commodity_desc</th>\n",
       "      <th>curr_size_of_product</th>\n",
       "      <th>age_desc</th>\n",
       "      <th>...</th>\n",
       "      <th>avg_transaction</th>\n",
       "      <th>n_sold_category</th>\n",
       "      <th>avg_users_transaction_by_category</th>\n",
       "      <th>common_mean_sales_value_by_category</th>\n",
       "      <th>n_sold_category_user_week</th>\n",
       "      <th>price</th>\n",
       "      <th>quantity_per_week</th>\n",
       "      <th>Missing price</th>\n",
       "      <th>Missing quantity per week</th>\n",
       "      <th>proba_item_purchase</th>\n",
       "    </tr>\n",
       "  </thead>\n",
       "  <tbody>\n",
       "    <tr>\n",
       "      <th>8</th>\n",
       "      <td>2070</td>\n",
       "      <td>1092937</td>\n",
       "      <td>1.0</td>\n",
       "      <td>1089</td>\n",
       "      <td>MEAT-PCKGD</td>\n",
       "      <td>National</td>\n",
       "      <td>LUNCHMEAT</td>\n",
       "      <td>BOLOGNA</td>\n",
       "      <td>16OZ</td>\n",
       "      <td>45-54</td>\n",
       "      <td>...</td>\n",
       "      <td>0.035173</td>\n",
       "      <td>11.0</td>\n",
       "      <td>3.426364</td>\n",
       "      <td>3.830433</td>\n",
       "      <td>1.833333</td>\n",
       "      <td>2.552857</td>\n",
       "      <td>5.833333</td>\n",
       "      <td>0</td>\n",
       "      <td>0</td>\n",
       "      <td>7.405992e-01</td>\n",
       "    </tr>\n",
       "    <tr>\n",
       "      <th>32</th>\n",
       "      <td>2070</td>\n",
       "      <td>1099905</td>\n",
       "      <td>1.0</td>\n",
       "      <td>830</td>\n",
       "      <td>GROCERY</td>\n",
       "      <td>National</td>\n",
       "      <td>HISPANIC</td>\n",
       "      <td>MEXICAN SAUCESSALSAPICANTEE</td>\n",
       "      <td>16 OZ</td>\n",
       "      <td>45-54</td>\n",
       "      <td>...</td>\n",
       "      <td>0.035173</td>\n",
       "      <td>213.0</td>\n",
       "      <td>1.461549</td>\n",
       "      <td>2.535227</td>\n",
       "      <td>35.500000</td>\n",
       "      <td>2.219412</td>\n",
       "      <td>2.833333</td>\n",
       "      <td>0</td>\n",
       "      <td>0</td>\n",
       "      <td>5.973791e-01</td>\n",
       "    </tr>\n",
       "    <tr>\n",
       "      <th>54</th>\n",
       "      <td>2070</td>\n",
       "      <td>1072917</td>\n",
       "      <td>1.0</td>\n",
       "      <td>5798</td>\n",
       "      <td>GROCERY</td>\n",
       "      <td>National</td>\n",
       "      <td>FROZEN BREAD/DOUGH</td>\n",
       "      <td>FRZN DINNER ROLLS</td>\n",
       "      <td>11 OZ</td>\n",
       "      <td>45-54</td>\n",
       "      <td>...</td>\n",
       "      <td>0.035173</td>\n",
       "      <td>213.0</td>\n",
       "      <td>1.461549</td>\n",
       "      <td>2.535227</td>\n",
       "      <td>35.500000</td>\n",
       "      <td>2.642917</td>\n",
       "      <td>4.000000</td>\n",
       "      <td>0</td>\n",
       "      <td>0</td>\n",
       "      <td>5.621694e-01</td>\n",
       "    </tr>\n",
       "    <tr>\n",
       "      <th>69</th>\n",
       "      <td>2070</td>\n",
       "      <td>1085357</td>\n",
       "      <td>1.0</td>\n",
       "      <td>69</td>\n",
       "      <td>MEAT-PCKGD</td>\n",
       "      <td>Private</td>\n",
       "      <td>FROZEN MEAT</td>\n",
       "      <td>FRZN BURGERS/BBQ/MEATBALL</td>\n",
       "      <td>38 OZ</td>\n",
       "      <td>45-54</td>\n",
       "      <td>...</td>\n",
       "      <td>0.035173</td>\n",
       "      <td>11.0</td>\n",
       "      <td>3.426364</td>\n",
       "      <td>3.830433</td>\n",
       "      <td>1.833333</td>\n",
       "      <td>6.748333</td>\n",
       "      <td>2.000000</td>\n",
       "      <td>0</td>\n",
       "      <td>0</td>\n",
       "      <td>5.027693e-01</td>\n",
       "    </tr>\n",
       "    <tr>\n",
       "      <th>68</th>\n",
       "      <td>2070</td>\n",
       "      <td>1067779</td>\n",
       "      <td>0.0</td>\n",
       "      <td>69</td>\n",
       "      <td>MEAT-PCKGD</td>\n",
       "      <td>Private</td>\n",
       "      <td>LUNCHMEAT</td>\n",
       "      <td>HAM</td>\n",
       "      <td>1 LB</td>\n",
       "      <td>45-54</td>\n",
       "      <td>...</td>\n",
       "      <td>0.035173</td>\n",
       "      <td>11.0</td>\n",
       "      <td>3.426364</td>\n",
       "      <td>3.830433</td>\n",
       "      <td>1.833333</td>\n",
       "      <td>3.060000</td>\n",
       "      <td>3.833333</td>\n",
       "      <td>0</td>\n",
       "      <td>0</td>\n",
       "      <td>2.722273e-01</td>\n",
       "    </tr>\n",
       "    <tr>\n",
       "      <th>...</th>\n",
       "      <td>...</td>\n",
       "      <td>...</td>\n",
       "      <td>...</td>\n",
       "      <td>...</td>\n",
       "      <td>...</td>\n",
       "      <td>...</td>\n",
       "      <td>...</td>\n",
       "      <td>...</td>\n",
       "      <td>...</td>\n",
       "      <td>...</td>\n",
       "      <td>...</td>\n",
       "      <td>...</td>\n",
       "      <td>...</td>\n",
       "      <td>...</td>\n",
       "      <td>...</td>\n",
       "      <td>...</td>\n",
       "      <td>...</td>\n",
       "      <td>...</td>\n",
       "      <td>...</td>\n",
       "      <td>...</td>\n",
       "      <td>...</td>\n",
       "    </tr>\n",
       "    <tr>\n",
       "      <th>78</th>\n",
       "      <td>2070</td>\n",
       "      <td>5564067</td>\n",
       "      <td>0.0</td>\n",
       "      <td>2</td>\n",
       "      <td>DRUG GM</td>\n",
       "      <td>National</td>\n",
       "      <td>TICKETS</td>\n",
       "      <td>TICKETS</td>\n",
       "      <td></td>\n",
       "      <td>45-54</td>\n",
       "      <td>...</td>\n",
       "      <td>0.035173</td>\n",
       "      <td>31.0</td>\n",
       "      <td>2.443871</td>\n",
       "      <td>3.984805</td>\n",
       "      <td>5.166667</td>\n",
       "      <td>0.000000</td>\n",
       "      <td>0.000000</td>\n",
       "      <td>1</td>\n",
       "      <td>1</td>\n",
       "      <td>1.640242e-05</td>\n",
       "    </tr>\n",
       "    <tr>\n",
       "      <th>61</th>\n",
       "      <td>2070</td>\n",
       "      <td>1052752</td>\n",
       "      <td>0.0</td>\n",
       "      <td>1156</td>\n",
       "      <td>DRUG GM</td>\n",
       "      <td>National</td>\n",
       "      <td>SHAVING CARE PRODUCTS</td>\n",
       "      <td>RAZORS AND BLADES</td>\n",
       "      <td>4 CT</td>\n",
       "      <td>45-54</td>\n",
       "      <td>...</td>\n",
       "      <td>0.035173</td>\n",
       "      <td>31.0</td>\n",
       "      <td>2.443871</td>\n",
       "      <td>3.984805</td>\n",
       "      <td>5.166667</td>\n",
       "      <td>0.000000</td>\n",
       "      <td>0.000000</td>\n",
       "      <td>1</td>\n",
       "      <td>1</td>\n",
       "      <td>1.433042e-05</td>\n",
       "    </tr>\n",
       "    <tr>\n",
       "      <th>3</th>\n",
       "      <td>2070</td>\n",
       "      <td>948640</td>\n",
       "      <td>0.0</td>\n",
       "      <td>1213</td>\n",
       "      <td>DRUG GM</td>\n",
       "      <td>National</td>\n",
       "      <td>ORAL HYGIENE PRODUCTS</td>\n",
       "      <td>WHITENING SYSTEMS</td>\n",
       "      <td>3 OZ</td>\n",
       "      <td>45-54</td>\n",
       "      <td>...</td>\n",
       "      <td>0.035173</td>\n",
       "      <td>31.0</td>\n",
       "      <td>2.443871</td>\n",
       "      <td>3.984805</td>\n",
       "      <td>5.166667</td>\n",
       "      <td>0.000000</td>\n",
       "      <td>0.000000</td>\n",
       "      <td>1</td>\n",
       "      <td>1</td>\n",
       "      <td>1.253619e-05</td>\n",
       "    </tr>\n",
       "    <tr>\n",
       "      <th>60</th>\n",
       "      <td>2070</td>\n",
       "      <td>846502</td>\n",
       "      <td>0.0</td>\n",
       "      <td>693</td>\n",
       "      <td>DRUG GM</td>\n",
       "      <td>National</td>\n",
       "      <td>CANDY - PACKAGED</td>\n",
       "      <td>CANDY BAGS-CHOCOCLATE</td>\n",
       "      <td>12 OZ</td>\n",
       "      <td>45-54</td>\n",
       "      <td>...</td>\n",
       "      <td>0.035173</td>\n",
       "      <td>31.0</td>\n",
       "      <td>2.443871</td>\n",
       "      <td>3.984805</td>\n",
       "      <td>5.166667</td>\n",
       "      <td>0.000000</td>\n",
       "      <td>0.000000</td>\n",
       "      <td>1</td>\n",
       "      <td>1</td>\n",
       "      <td>8.644392e-06</td>\n",
       "    </tr>\n",
       "    <tr>\n",
       "      <th>14</th>\n",
       "      <td>2070</td>\n",
       "      <td>1026258</td>\n",
       "      <td>0.0</td>\n",
       "      <td>69</td>\n",
       "      <td>NUTRITION</td>\n",
       "      <td>Private</td>\n",
       "      <td>REFRIGERATED</td>\n",
       "      <td>FLUID MILK</td>\n",
       "      <td>64 OZ</td>\n",
       "      <td>45-54</td>\n",
       "      <td>...</td>\n",
       "      <td>0.035173</td>\n",
       "      <td>NaN</td>\n",
       "      <td>NaN</td>\n",
       "      <td>3.285920</td>\n",
       "      <td>NaN</td>\n",
       "      <td>3.490000</td>\n",
       "      <td>2.000000</td>\n",
       "      <td>0</td>\n",
       "      <td>0</td>\n",
       "      <td>1.819118e-07</td>\n",
       "    </tr>\n",
       "  </tbody>\n",
       "</table>\n",
       "<p>100 rows × 26 columns</p>\n",
       "</div>"
      ],
      "text/plain": [
       "    user_id  item_id  target  manufacturer  department     brand  \\\n",
       "8      2070  1092937     1.0          1089  MEAT-PCKGD  National   \n",
       "32     2070  1099905     1.0           830     GROCERY  National   \n",
       "54     2070  1072917     1.0          5798     GROCERY  National   \n",
       "69     2070  1085357     1.0            69  MEAT-PCKGD   Private   \n",
       "68     2070  1067779     0.0            69  MEAT-PCKGD   Private   \n",
       "..      ...      ...     ...           ...         ...       ...   \n",
       "78     2070  5564067     0.0             2     DRUG GM  National   \n",
       "61     2070  1052752     0.0          1156     DRUG GM  National   \n",
       "3      2070   948640     0.0          1213     DRUG GM  National   \n",
       "60     2070   846502     0.0           693     DRUG GM  National   \n",
       "14     2070  1026258     0.0            69   NUTRITION   Private   \n",
       "\n",
       "           commodity_desc           sub_commodity_desc curr_size_of_product  \\\n",
       "8               LUNCHMEAT                      BOLOGNA                 16OZ   \n",
       "32               HISPANIC  MEXICAN SAUCESSALSAPICANTEE                16 OZ   \n",
       "54     FROZEN BREAD/DOUGH            FRZN DINNER ROLLS                11 OZ   \n",
       "69            FROZEN MEAT    FRZN BURGERS/BBQ/MEATBALL                38 OZ   \n",
       "68              LUNCHMEAT                          HAM                 1 LB   \n",
       "..                    ...                          ...                  ...   \n",
       "78                TICKETS                      TICKETS                        \n",
       "61  SHAVING CARE PRODUCTS            RAZORS AND BLADES                 4 CT   \n",
       "3   ORAL HYGIENE PRODUCTS            WHITENING SYSTEMS                 3 OZ   \n",
       "60       CANDY - PACKAGED        CANDY BAGS-CHOCOCLATE                12 OZ   \n",
       "14           REFRIGERATED                   FLUID MILK                64 OZ   \n",
       "\n",
       "   age_desc  ... avg_transaction n_sold_category  \\\n",
       "8     45-54  ...        0.035173            11.0   \n",
       "32    45-54  ...        0.035173           213.0   \n",
       "54    45-54  ...        0.035173           213.0   \n",
       "69    45-54  ...        0.035173            11.0   \n",
       "68    45-54  ...        0.035173            11.0   \n",
       "..      ...  ...             ...             ...   \n",
       "78    45-54  ...        0.035173            31.0   \n",
       "61    45-54  ...        0.035173            31.0   \n",
       "3     45-54  ...        0.035173            31.0   \n",
       "60    45-54  ...        0.035173            31.0   \n",
       "14    45-54  ...        0.035173             NaN   \n",
       "\n",
       "   avg_users_transaction_by_category common_mean_sales_value_by_category  \\\n",
       "8                           3.426364                            3.830433   \n",
       "32                          1.461549                            2.535227   \n",
       "54                          1.461549                            2.535227   \n",
       "69                          3.426364                            3.830433   \n",
       "68                          3.426364                            3.830433   \n",
       "..                               ...                                 ...   \n",
       "78                          2.443871                            3.984805   \n",
       "61                          2.443871                            3.984805   \n",
       "3                           2.443871                            3.984805   \n",
       "60                          2.443871                            3.984805   \n",
       "14                               NaN                            3.285920   \n",
       "\n",
       "   n_sold_category_user_week     price  quantity_per_week  Missing price  \\\n",
       "8                   1.833333  2.552857           5.833333              0   \n",
       "32                 35.500000  2.219412           2.833333              0   \n",
       "54                 35.500000  2.642917           4.000000              0   \n",
       "69                  1.833333  6.748333           2.000000              0   \n",
       "68                  1.833333  3.060000           3.833333              0   \n",
       "..                       ...       ...                ...            ...   \n",
       "78                  5.166667  0.000000           0.000000              1   \n",
       "61                  5.166667  0.000000           0.000000              1   \n",
       "3                   5.166667  0.000000           0.000000              1   \n",
       "60                  5.166667  0.000000           0.000000              1   \n",
       "14                       NaN  3.490000           2.000000              0   \n",
       "\n",
       "    Missing quantity per week  proba_item_purchase  \n",
       "8                           0         7.405992e-01  \n",
       "32                          0         5.973791e-01  \n",
       "54                          0         5.621694e-01  \n",
       "69                          0         5.027693e-01  \n",
       "68                          0         2.722273e-01  \n",
       "..                        ...                  ...  \n",
       "78                          1         1.640242e-05  \n",
       "61                          1         1.433042e-05  \n",
       "3                           1         1.253619e-05  \n",
       "60                          1         8.644392e-06  \n",
       "14                          0         1.819118e-07  \n",
       "\n",
       "[100 rows x 26 columns]"
      ]
     },
     "execution_count": 100,
     "metadata": {},
     "output_type": "execute_result"
    }
   ],
   "source": [
    "df_lvl2_predict.loc[df_lvl2_predict['user_id']==2070].sort_values('proba_item_purchase', ascending=False)"
   ]
  },
  {
   "cell_type": "markdown",
   "metadata": {},
   "source": [
    "### Evaluation on test dataset - Оценка модели на тестовом датасете"
   ]
  },
  {
   "cell_type": "code",
   "execution_count": 101,
   "metadata": {},
   "outputs": [
    {
     "data": {
      "text/html": [
       "<div>\n",
       "<style scoped>\n",
       "    .dataframe tbody tr th:only-of-type {\n",
       "        vertical-align: middle;\n",
       "    }\n",
       "\n",
       "    .dataframe tbody tr th {\n",
       "        vertical-align: top;\n",
       "    }\n",
       "\n",
       "    .dataframe thead th {\n",
       "        text-align: right;\n",
       "    }\n",
       "</style>\n",
       "<table border=\"1\" class=\"dataframe\">\n",
       "  <thead>\n",
       "    <tr style=\"text-align: right;\">\n",
       "      <th></th>\n",
       "      <th>user_id</th>\n",
       "      <th>actual</th>\n",
       "    </tr>\n",
       "  </thead>\n",
       "  <tbody>\n",
       "    <tr>\n",
       "      <th>0</th>\n",
       "      <td>1</td>\n",
       "      <td>[821867, 834484, 856942, 865456, 889248, 90795...</td>\n",
       "    </tr>\n",
       "    <tr>\n",
       "      <th>1</th>\n",
       "      <td>6</td>\n",
       "      <td>[920308, 926804, 946489, 1006718, 1017061, 107...</td>\n",
       "    </tr>\n",
       "  </tbody>\n",
       "</table>\n",
       "</div>"
      ],
      "text/plain": [
       "   user_id                                             actual\n",
       "0        1  [821867, 834484, 856942, 865456, 889248, 90795...\n",
       "1        6  [920308, 926804, 946489, 1006718, 1017061, 107..."
      ]
     },
     "execution_count": 101,
     "metadata": {},
     "output_type": "execute_result"
    }
   ],
   "source": [
    "result_eval_lvl2 = data_val_lvl2.groupby(USER_COL)[ITEM_COL].unique().reset_index()\n",
    "result_eval_lvl2.columns=[USER_COL, ACTUAL_COL]\n",
    "result_eval_lvl2.head(2)"
   ]
  },
  {
   "cell_type": "markdown",
   "metadata": {},
   "source": [
    "### Eval matching on test dataset - Сопоставление предсказаний с тестовым набором данных"
   ]
  },
  {
   "cell_type": "code",
   "execution_count": 102,
   "metadata": {},
   "outputs": [
    {
     "name": "stdout",
     "output_type": "stream",
     "text": [
      "Wall time: 15.7 s\n"
     ]
    }
   ],
   "source": [
    "%%time\n",
    "result_eval_lvl2['own_rec'] = result_eval_lvl2[USER_COL].apply(lambda x: recommender.get_own_recommendations(x, N=N_PREDICT))"
   ]
  },
  {
   "cell_type": "markdown",
   "metadata": {},
   "source": [
    "Вспомним df_lvl2_candidates сет, который был получен own_recommendations на юзерах, набор пользователей мы фиксировали и он одинаков, значи и прогноз одинаков, поэтому мы можем использовать этот датафрейм для переранжирования."
   ]
  },
  {
   "cell_type": "code",
   "execution_count": 103,
   "metadata": {},
   "outputs": [],
   "source": [
    "# Функция для переранжирования\n",
    "\n",
    "def rerank(user_id, df, USER_COL='user_id', proba_col_name='proba_item_purchase', N=5):\n",
    "    return df[df[USER_COL]==user_id].sort_values(proba_col_name, ascending=False).head(N).item_id.tolist()"
   ]
  },
  {
   "cell_type": "code",
   "execution_count": 104,
   "metadata": {},
   "outputs": [],
   "source": [
    "result_eval_lvl2['reranked_own_rec_lightgbm'] = result_eval_lvl2[USER_COL].apply(lambda user_id: rerank(user_id, df_lvl2_predict))"
   ]
  },
  {
   "cell_type": "code",
   "execution_count": 105,
   "metadata": {},
   "outputs": [
    {
     "name": "stdout",
     "output_type": "stream",
     "text": [
      "('reranked_own_rec_lightgbm', 0.19258485639686482)\n",
      "('own_rec', 0.1462140992167092)\n"
     ]
    }
   ],
   "source": [
    "TOPK_PRECISION = 5\n",
    "# рассчитаем precision только модели матчинга (1 уровня -  ALS, get_own_recommendations), \n",
    "# чтобы понимать влияение ранжирования (2 уровня) на метрики\n",
    "\n",
    "print(*sorted(calc_precision_at_k(result_eval_lvl2, TOPK_PRECISION), key=lambda x: x[1], reverse=True), sep='\\n')"
   ]
  },
  {
   "cell_type": "code",
   "execution_count": 106,
   "metadata": {},
   "outputs": [
    {
     "name": "stdout",
     "output_type": "stream",
     "text": [
      "('reranked_own_rec_lightgbm', 0.0244)\n",
      "('own_rec', 0.0174)\n"
     ]
    }
   ],
   "source": [
    "#аналошично с recall\n",
    "print(*sorted(calc_recall_at_k(result_eval_lvl2, TOPK_PRECISION), key=lambda x: x[1], reverse=True), sep='\\n')"
   ]
  },
  {
   "cell_type": "markdown",
   "metadata": {},
   "source": []
  },
  {
   "cell_type": "markdown",
   "metadata": {},
   "source": [
    "#### Обучим модель CatBoost, сравним результаты с  LightGBM"
   ]
  },
  {
   "cell_type": "code",
   "execution_count": 108,
   "metadata": {},
   "outputs": [
    {
     "name": "stderr",
     "output_type": "stream",
     "text": [
      "Custom logger is already specified. Specify more than one logger at same time is not thread safe."
     ]
    },
    {
     "name": "stdout",
     "output_type": "stream",
     "text": [
      "0:\tlearn: 0.5766216\ttotal: 436ms\tremaining: 3m 37s\n",
      "1:\tlearn: 0.4875662\ttotal: 923ms\tremaining: 3m 49s\n",
      "2:\tlearn: 0.4245546\ttotal: 1.31s\tremaining: 3m 37s\n",
      "3:\tlearn: 0.3653145\ttotal: 2.56s\tremaining: 5m 17s\n",
      "4:\tlearn: 0.3240832\ttotal: 3.29s\tremaining: 5m 25s\n",
      "5:\tlearn: 0.2977544\ttotal: 4s\tremaining: 5m 29s\n",
      "6:\tlearn: 0.2765998\ttotal: 4.69s\tremaining: 5m 30s\n",
      "7:\tlearn: 0.2536556\ttotal: 10.7s\tremaining: 10m 58s\n",
      "8:\tlearn: 0.2435505\ttotal: 11.3s\tremaining: 10m 19s\n",
      "9:\tlearn: 0.2354375\ttotal: 12.5s\tremaining: 10m 12s\n",
      "10:\tlearn: 0.2225766\ttotal: 15.9s\tremaining: 11m 47s\n",
      "11:\tlearn: 0.2135484\ttotal: 20.2s\tremaining: 13m 39s\n",
      "12:\tlearn: 0.2068999\ttotal: 24.1s\tremaining: 15m 1s\n",
      "13:\tlearn: 0.2014736\ttotal: 28.3s\tremaining: 16m 24s\n",
      "14:\tlearn: 0.1980192\ttotal: 33.1s\tremaining: 17m 51s\n",
      "15:\tlearn: 0.1961502\ttotal: 33.8s\tremaining: 17m 3s\n",
      "16:\tlearn: 0.1932639\ttotal: 38.2s\tremaining: 18m 4s\n",
      "17:\tlearn: 0.1909256\ttotal: 42.6s\tremaining: 19m 1s\n",
      "18:\tlearn: 0.1886758\ttotal: 46.3s\tremaining: 19m 31s\n",
      "19:\tlearn: 0.1870705\ttotal: 50.8s\tremaining: 20m 19s\n",
      "20:\tlearn: 0.1853918\ttotal: 55.1s\tremaining: 20m 56s\n",
      "21:\tlearn: 0.1841394\ttotal: 59.4s\tremaining: 21m 30s\n",
      "22:\tlearn: 0.1826560\ttotal: 1m 3s\tremaining: 22m\n",
      "23:\tlearn: 0.1814586\ttotal: 1m 8s\tremaining: 22m 29s\n",
      "24:\tlearn: 0.1807351\ttotal: 1m 12s\tremaining: 23m 1s\n",
      "25:\tlearn: 0.1798379\ttotal: 1m 17s\tremaining: 23m 27s\n",
      "26:\tlearn: 0.1785887\ttotal: 1m 21s\tremaining: 23m 49s\n",
      "27:\tlearn: 0.1776187\ttotal: 1m 25s\tremaining: 24m 5s\n",
      "28:\tlearn: 0.1772425\ttotal: 1m 26s\tremaining: 23m 26s\n",
      "29:\tlearn: 0.1761050\ttotal: 1m 30s\tremaining: 23m 35s\n",
      "30:\tlearn: 0.1750729\ttotal: 1m 34s\tremaining: 23m 50s\n",
      "31:\tlearn: 0.1745876\ttotal: 1m 38s\tremaining: 24m 1s\n",
      "32:\tlearn: 0.1739336\ttotal: 1m 43s\tremaining: 24m 20s\n",
      "33:\tlearn: 0.1738256\ttotal: 1m 48s\tremaining: 24m 43s\n",
      "34:\tlearn: 0.1727102\ttotal: 1m 53s\tremaining: 25m 1s\n",
      "35:\tlearn: 0.1726811\ttotal: 1m 53s\tremaining: 24m 28s\n",
      "36:\tlearn: 0.1722827\ttotal: 1m 58s\tremaining: 24m 42s\n",
      "37:\tlearn: 0.1717670\ttotal: 2m 2s\tremaining: 24m 55s\n",
      "38:\tlearn: 0.1714168\ttotal: 2m 7s\tremaining: 25m 9s\n",
      "39:\tlearn: 0.1708121\ttotal: 2m 11s\tremaining: 25m 17s\n",
      "40:\tlearn: 0.1697726\ttotal: 2m 17s\tremaining: 25m 34s\n",
      "41:\tlearn: 0.1690478\ttotal: 2m 21s\tremaining: 25m 39s\n",
      "42:\tlearn: 0.1686798\ttotal: 2m 25s\tremaining: 25m 48s\n",
      "43:\tlearn: 0.1680551\ttotal: 2m 30s\tremaining: 25m 57s\n",
      "44:\tlearn: 0.1675909\ttotal: 2m 35s\tremaining: 26m 11s\n",
      "45:\tlearn: 0.1672623\ttotal: 2m 39s\tremaining: 26m 18s\n",
      "46:\tlearn: 0.1667930\ttotal: 2m 44s\tremaining: 26m 23s\n",
      "47:\tlearn: 0.1667918\ttotal: 2m 44s\tremaining: 25m 47s\n",
      "48:\tlearn: 0.1663908\ttotal: 2m 48s\tremaining: 25m 54s\n",
      "49:\tlearn: 0.1657092\ttotal: 2m 53s\tremaining: 25m 57s\n",
      "50:\tlearn: 0.1653644\ttotal: 2m 56s\tremaining: 25m 58s\n",
      "51:\tlearn: 0.1651639\ttotal: 3m 1s\tremaining: 26m 6s\n",
      "52:\tlearn: 0.1649683\ttotal: 3m 6s\tremaining: 26m 11s\n",
      "53:\tlearn: 0.1645574\ttotal: 3m 11s\tremaining: 26m 22s\n",
      "54:\tlearn: 0.1640558\ttotal: 3m 16s\tremaining: 26m 29s\n",
      "55:\tlearn: 0.1632450\ttotal: 3m 21s\tremaining: 26m 35s\n",
      "56:\tlearn: 0.1629143\ttotal: 3m 25s\tremaining: 26m 39s\n",
      "57:\tlearn: 0.1624336\ttotal: 3m 30s\tremaining: 26m 42s\n",
      "58:\tlearn: 0.1620396\ttotal: 3m 35s\tremaining: 26m 50s\n",
      "59:\tlearn: 0.1620077\ttotal: 3m 35s\tremaining: 26m 23s\n",
      "60:\tlearn: 0.1617451\ttotal: 3m 40s\tremaining: 26m 27s\n",
      "61:\tlearn: 0.1613603\ttotal: 3m 45s\tremaining: 26m 33s\n",
      "62:\tlearn: 0.1612494\ttotal: 3m 49s\tremaining: 26m 34s\n",
      "63:\tlearn: 0.1602420\ttotal: 3m 55s\tremaining: 26m 41s\n",
      "64:\tlearn: 0.1599024\ttotal: 4m\tremaining: 26m 46s\n",
      "65:\tlearn: 0.1598446\ttotal: 4m\tremaining: 26m 22s\n",
      "66:\tlearn: 0.1593852\ttotal: 4m 5s\tremaining: 26m 27s\n",
      "67:\tlearn: 0.1592051\ttotal: 4m 10s\tremaining: 26m 32s\n",
      "68:\tlearn: 0.1591961\ttotal: 4m 10s\tremaining: 26m 6s\n",
      "69:\tlearn: 0.1586942\ttotal: 4m 16s\tremaining: 26m 13s\n",
      "70:\tlearn: 0.1582963\ttotal: 4m 21s\tremaining: 26m 18s\n",
      "71:\tlearn: 0.1576035\ttotal: 4m 25s\tremaining: 26m 18s\n",
      "72:\tlearn: 0.1572358\ttotal: 4m 30s\tremaining: 26m 22s\n",
      "73:\tlearn: 0.1565629\ttotal: 4m 35s\tremaining: 26m 28s\n",
      "74:\tlearn: 0.1561359\ttotal: 4m 40s\tremaining: 26m 31s\n",
      "75:\tlearn: 0.1553410\ttotal: 4m 45s\tremaining: 26m 34s\n",
      "76:\tlearn: 0.1548856\ttotal: 4m 50s\tremaining: 26m 38s\n",
      "77:\tlearn: 0.1548472\ttotal: 4m 51s\tremaining: 26m 16s\n",
      "78:\tlearn: 0.1547635\ttotal: 4m 51s\tremaining: 25m 55s\n",
      "79:\tlearn: 0.1547513\ttotal: 4m 52s\tremaining: 25m 36s\n",
      "80:\tlearn: 0.1546410\ttotal: 4m 57s\tremaining: 25m 38s\n",
      "81:\tlearn: 0.1542025\ttotal: 5m 2s\tremaining: 25m 40s\n",
      "82:\tlearn: 0.1537450\ttotal: 5m 6s\tremaining: 25m 41s\n",
      "83:\tlearn: 0.1534651\ttotal: 5m 11s\tremaining: 25m 43s\n",
      "84:\tlearn: 0.1530917\ttotal: 5m 17s\tremaining: 25m 49s\n",
      "85:\tlearn: 0.1530905\ttotal: 5m 17s\tremaining: 25m 27s\n",
      "86:\tlearn: 0.1528181\ttotal: 5m 22s\tremaining: 25m 31s\n",
      "87:\tlearn: 0.1520990\ttotal: 5m 27s\tremaining: 25m 34s\n",
      "88:\tlearn: 0.1515854\ttotal: 5m 32s\tremaining: 25m 33s\n",
      "89:\tlearn: 0.1514967\ttotal: 5m 36s\tremaining: 25m 31s\n",
      "90:\tlearn: 0.1512696\ttotal: 5m 40s\tremaining: 25m 31s\n",
      "91:\tlearn: 0.1506415\ttotal: 5m 45s\tremaining: 25m 30s\n",
      "92:\tlearn: 0.1503963\ttotal: 5m 49s\tremaining: 25m 30s\n",
      "93:\tlearn: 0.1495418\ttotal: 5m 54s\tremaining: 25m 33s\n",
      "94:\tlearn: 0.1494818\ttotal: 5m 59s\tremaining: 25m 32s\n",
      "95:\tlearn: 0.1493343\ttotal: 6m 3s\tremaining: 25m 29s\n",
      "96:\tlearn: 0.1486187\ttotal: 6m 8s\tremaining: 25m 29s\n",
      "97:\tlearn: 0.1483496\ttotal: 6m 12s\tremaining: 25m 29s\n",
      "98:\tlearn: 0.1480256\ttotal: 6m 17s\tremaining: 25m 27s\n",
      "99:\tlearn: 0.1475706\ttotal: 6m 21s\tremaining: 25m 26s\n",
      "100:\tlearn: 0.1475695\ttotal: 6m 21s\tremaining: 25m 8s\n",
      "101:\tlearn: 0.1475686\ttotal: 6m 21s\tremaining: 24m 49s\n",
      "102:\tlearn: 0.1471476\ttotal: 6m 26s\tremaining: 24m 50s\n",
      "103:\tlearn: 0.1471158\ttotal: 6m 31s\tremaining: 24m 50s\n",
      "104:\tlearn: 0.1471151\ttotal: 6m 31s\tremaining: 24m 32s\n",
      "105:\tlearn: 0.1469761\ttotal: 6m 36s\tremaining: 24m 33s\n",
      "106:\tlearn: 0.1467362\ttotal: 6m 41s\tremaining: 24m 33s\n",
      "107:\tlearn: 0.1467357\ttotal: 6m 41s\tremaining: 24m 16s\n",
      "108:\tlearn: 0.1466149\ttotal: 6m 46s\tremaining: 24m 16s\n",
      "109:\tlearn: 0.1459890\ttotal: 6m 51s\tremaining: 24m 18s\n",
      "110:\tlearn: 0.1458473\ttotal: 6m 56s\tremaining: 24m 19s\n",
      "111:\tlearn: 0.1455025\ttotal: 7m 1s\tremaining: 24m 18s\n",
      "112:\tlearn: 0.1451183\ttotal: 7m 5s\tremaining: 24m 17s\n",
      "113:\tlearn: 0.1448048\ttotal: 7m 10s\tremaining: 24m 18s\n",
      "114:\tlearn: 0.1435801\ttotal: 7m 15s\tremaining: 24m 17s\n",
      "115:\tlearn: 0.1432437\ttotal: 7m 19s\tremaining: 24m 16s\n",
      "116:\tlearn: 0.1427218\ttotal: 7m 24s\tremaining: 24m 14s\n",
      "117:\tlearn: 0.1423370\ttotal: 7m 28s\tremaining: 24m 12s\n",
      "118:\tlearn: 0.1414194\ttotal: 7m 33s\tremaining: 24m 11s\n",
      "119:\tlearn: 0.1413090\ttotal: 7m 38s\tremaining: 24m 10s\n",
      "120:\tlearn: 0.1409118\ttotal: 7m 42s\tremaining: 24m 8s\n",
      "121:\tlearn: 0.1405129\ttotal: 7m 46s\tremaining: 24m 4s\n",
      "122:\tlearn: 0.1403498\ttotal: 7m 50s\tremaining: 24m 1s\n",
      "123:\tlearn: 0.1399730\ttotal: 7m 54s\tremaining: 24m\n",
      "124:\tlearn: 0.1389778\ttotal: 7m 59s\tremaining: 23m 59s\n",
      "125:\tlearn: 0.1386163\ttotal: 8m 4s\tremaining: 23m 57s\n",
      "126:\tlearn: 0.1383646\ttotal: 8m 8s\tremaining: 23m 54s\n",
      "127:\tlearn: 0.1382109\ttotal: 8m 13s\tremaining: 23m 53s\n",
      "128:\tlearn: 0.1378574\ttotal: 8m 18s\tremaining: 23m 52s\n",
      "129:\tlearn: 0.1376798\ttotal: 8m 22s\tremaining: 23m 49s\n",
      "130:\tlearn: 0.1373243\ttotal: 8m 26s\tremaining: 23m 47s\n",
      "131:\tlearn: 0.1372352\ttotal: 8m 31s\tremaining: 23m 45s\n",
      "132:\tlearn: 0.1368329\ttotal: 8m 36s\tremaining: 23m 45s\n",
      "133:\tlearn: 0.1364623\ttotal: 8m 41s\tremaining: 23m 43s\n",
      "134:\tlearn: 0.1360120\ttotal: 8m 45s\tremaining: 23m 40s\n",
      "135:\tlearn: 0.1356911\ttotal: 8m 49s\tremaining: 23m 38s\n",
      "136:\tlearn: 0.1355772\ttotal: 8m 54s\tremaining: 23m 36s\n",
      "137:\tlearn: 0.1350329\ttotal: 8m 58s\tremaining: 23m 33s\n",
      "138:\tlearn: 0.1348376\ttotal: 9m 2s\tremaining: 23m 30s\n",
      "139:\tlearn: 0.1345166\ttotal: 9m 8s\tremaining: 23m 29s\n",
      "140:\tlearn: 0.1344173\ttotal: 9m 12s\tremaining: 23m 27s\n",
      "141:\tlearn: 0.1338086\ttotal: 9m 17s\tremaining: 23m 25s\n",
      "142:\tlearn: 0.1334197\ttotal: 9m 22s\tremaining: 23m 23s\n",
      "143:\tlearn: 0.1331862\ttotal: 9m 26s\tremaining: 23m 19s\n",
      "144:\tlearn: 0.1330485\ttotal: 9m 30s\tremaining: 23m 17s\n",
      "145:\tlearn: 0.1329244\ttotal: 9m 34s\tremaining: 23m 13s\n",
      "146:\tlearn: 0.1326709\ttotal: 9m 38s\tremaining: 23m 8s\n",
      "147:\tlearn: 0.1320862\ttotal: 9m 42s\tremaining: 23m 4s\n",
      "148:\tlearn: 0.1319803\ttotal: 9m 46s\tremaining: 23m 1s\n",
      "149:\tlearn: 0.1318027\ttotal: 9m 51s\tremaining: 22m 59s\n",
      "150:\tlearn: 0.1314788\ttotal: 9m 55s\tremaining: 22m 55s\n",
      "151:\tlearn: 0.1312125\ttotal: 9m 59s\tremaining: 22m 52s\n",
      "152:\tlearn: 0.1304634\ttotal: 10m 3s\tremaining: 22m 49s\n"
     ]
    },
    {
     "name": "stdout",
     "output_type": "stream",
     "text": [
      "153:\tlearn: 0.1297187\ttotal: 10m 8s\tremaining: 22m 46s\n",
      "154:\tlearn: 0.1292026\ttotal: 10m 13s\tremaining: 22m 45s\n",
      "155:\tlearn: 0.1284151\ttotal: 10m 18s\tremaining: 22m 43s\n",
      "156:\tlearn: 0.1277590\ttotal: 10m 23s\tremaining: 22m 43s\n",
      "157:\tlearn: 0.1271227\ttotal: 10m 28s\tremaining: 22m 39s\n",
      "158:\tlearn: 0.1267590\ttotal: 10m 31s\tremaining: 22m 35s\n",
      "159:\tlearn: 0.1258954\ttotal: 10m 38s\tremaining: 22m 35s\n",
      "160:\tlearn: 0.1255691\ttotal: 10m 43s\tremaining: 22m 34s\n",
      "161:\tlearn: 0.1252660\ttotal: 10m 48s\tremaining: 22m 32s\n",
      "162:\tlearn: 0.1249151\ttotal: 10m 52s\tremaining: 22m 28s\n",
      "163:\tlearn: 0.1245802\ttotal: 10m 56s\tremaining: 22m 25s\n",
      "164:\tlearn: 0.1242953\ttotal: 11m 1s\tremaining: 22m 22s\n",
      "165:\tlearn: 0.1239979\ttotal: 11m 5s\tremaining: 22m 19s\n",
      "166:\tlearn: 0.1237444\ttotal: 11m 9s\tremaining: 22m 15s\n",
      "167:\tlearn: 0.1233968\ttotal: 11m 14s\tremaining: 22m 12s\n",
      "168:\tlearn: 0.1232270\ttotal: 11m 18s\tremaining: 22m 8s\n",
      "169:\tlearn: 0.1229294\ttotal: 11m 22s\tremaining: 22m 4s\n",
      "170:\tlearn: 0.1225046\ttotal: 11m 27s\tremaining: 22m 2s\n",
      "171:\tlearn: 0.1222473\ttotal: 11m 31s\tremaining: 21m 59s\n",
      "172:\tlearn: 0.1218508\ttotal: 11m 35s\tremaining: 21m 55s\n",
      "173:\tlearn: 0.1212474\ttotal: 11m 40s\tremaining: 21m 52s\n",
      "174:\tlearn: 0.1207859\ttotal: 11m 45s\tremaining: 21m 50s\n",
      "175:\tlearn: 0.1205150\ttotal: 11m 50s\tremaining: 21m 48s\n",
      "176:\tlearn: 0.1201327\ttotal: 11m 55s\tremaining: 21m 45s\n",
      "177:\tlearn: 0.1197650\ttotal: 11m 59s\tremaining: 21m 40s\n",
      "178:\tlearn: 0.1194119\ttotal: 12m 3s\tremaining: 21m 36s\n",
      "179:\tlearn: 0.1188680\ttotal: 12m 7s\tremaining: 21m 33s\n",
      "180:\tlearn: 0.1181500\ttotal: 12m 12s\tremaining: 21m 30s\n",
      "181:\tlearn: 0.1174939\ttotal: 12m 17s\tremaining: 21m 28s\n",
      "182:\tlearn: 0.1173830\ttotal: 12m 21s\tremaining: 21m 24s\n",
      "183:\tlearn: 0.1172754\ttotal: 12m 25s\tremaining: 21m 20s\n",
      "184:\tlearn: 0.1165522\ttotal: 12m 30s\tremaining: 21m 17s\n",
      "185:\tlearn: 0.1161598\ttotal: 12m 34s\tremaining: 21m 14s\n",
      "186:\tlearn: 0.1159369\ttotal: 12m 39s\tremaining: 21m 11s\n",
      "187:\tlearn: 0.1157831\ttotal: 12m 45s\tremaining: 21m 9s\n",
      "188:\tlearn: 0.1156371\ttotal: 12m 49s\tremaining: 21m 6s\n",
      "189:\tlearn: 0.1155039\ttotal: 12m 54s\tremaining: 21m 3s\n",
      "190:\tlearn: 0.1152918\ttotal: 12m 58s\tremaining: 21m\n",
      "191:\tlearn: 0.1150622\ttotal: 13m 4s\tremaining: 20m 58s\n",
      "192:\tlearn: 0.1147613\ttotal: 13m 9s\tremaining: 20m 56s\n",
      "193:\tlearn: 0.1146699\ttotal: 13m 14s\tremaining: 20m 53s\n",
      "194:\tlearn: 0.1146381\ttotal: 13m 19s\tremaining: 20m 50s\n",
      "195:\tlearn: 0.1141472\ttotal: 13m 24s\tremaining: 20m 47s\n",
      "196:\tlearn: 0.1138136\ttotal: 13m 28s\tremaining: 20m 43s\n",
      "197:\tlearn: 0.1132545\ttotal: 13m 33s\tremaining: 20m 40s\n",
      "198:\tlearn: 0.1129388\ttotal: 13m 37s\tremaining: 20m 37s\n",
      "199:\tlearn: 0.1127251\ttotal: 13m 42s\tremaining: 20m 33s\n",
      "200:\tlearn: 0.1125323\ttotal: 13m 47s\tremaining: 20m 30s\n",
      "201:\tlearn: 0.1124537\ttotal: 13m 51s\tremaining: 20m 27s\n",
      "202:\tlearn: 0.1122207\ttotal: 13m 55s\tremaining: 20m 22s\n",
      "203:\tlearn: 0.1121419\ttotal: 14m\tremaining: 20m 19s\n",
      "204:\tlearn: 0.1116590\ttotal: 14m 5s\tremaining: 20m 16s\n",
      "205:\tlearn: 0.1112428\ttotal: 14m 10s\tremaining: 20m 14s\n",
      "206:\tlearn: 0.1108179\ttotal: 14m 15s\tremaining: 20m 11s\n",
      "207:\tlearn: 0.1105132\ttotal: 14m 19s\tremaining: 20m 6s\n",
      "208:\tlearn: 0.1103690\ttotal: 14m 24s\tremaining: 20m 3s\n",
      "209:\tlearn: 0.1101603\ttotal: 14m 28s\tremaining: 19m 59s\n",
      "210:\tlearn: 0.1099898\ttotal: 14m 32s\tremaining: 19m 55s\n",
      "211:\tlearn: 0.1097235\ttotal: 14m 36s\tremaining: 19m 51s\n",
      "212:\tlearn: 0.1096653\ttotal: 14m 41s\tremaining: 19m 48s\n",
      "213:\tlearn: 0.1093622\ttotal: 14m 45s\tremaining: 19m 43s\n",
      "214:\tlearn: 0.1091934\ttotal: 14m 50s\tremaining: 19m 40s\n",
      "215:\tlearn: 0.1090564\ttotal: 14m 54s\tremaining: 19m 35s\n",
      "216:\tlearn: 0.1088472\ttotal: 14m 58s\tremaining: 19m 31s\n",
      "217:\tlearn: 0.1085445\ttotal: 15m 1s\tremaining: 19m 26s\n",
      "218:\tlearn: 0.1079553\ttotal: 15m 6s\tremaining: 19m 22s\n",
      "219:\tlearn: 0.1077344\ttotal: 15m 10s\tremaining: 19m 19s\n",
      "220:\tlearn: 0.1076216\ttotal: 15m 14s\tremaining: 19m 15s\n",
      "221:\tlearn: 0.1074693\ttotal: 15m 19s\tremaining: 19m 11s\n",
      "222:\tlearn: 0.1072848\ttotal: 15m 24s\tremaining: 19m 7s\n",
      "223:\tlearn: 0.1070074\ttotal: 15m 27s\tremaining: 19m 3s\n",
      "224:\tlearn: 0.1067227\ttotal: 15m 32s\tremaining: 18m 59s\n",
      "225:\tlearn: 0.1063033\ttotal: 15m 37s\tremaining: 18m 56s\n",
      "226:\tlearn: 0.1058569\ttotal: 15m 41s\tremaining: 18m 52s\n",
      "227:\tlearn: 0.1056121\ttotal: 15m 46s\tremaining: 18m 48s\n",
      "228:\tlearn: 0.1055339\ttotal: 15m 50s\tremaining: 18m 44s\n",
      "229:\tlearn: 0.1049836\ttotal: 15m 54s\tremaining: 18m 41s\n",
      "230:\tlearn: 0.1044877\ttotal: 15m 59s\tremaining: 18m 37s\n",
      "231:\tlearn: 0.1041711\ttotal: 16m 4s\tremaining: 18m 33s\n",
      "232:\tlearn: 0.1037447\ttotal: 16m 8s\tremaining: 18m 29s\n",
      "233:\tlearn: 0.1035150\ttotal: 16m 12s\tremaining: 18m 25s\n",
      "234:\tlearn: 0.1034205\ttotal: 16m 16s\tremaining: 18m 21s\n",
      "235:\tlearn: 0.1030000\ttotal: 16m 21s\tremaining: 18m 17s\n",
      "236:\tlearn: 0.1027647\ttotal: 16m 25s\tremaining: 18m 13s\n",
      "237:\tlearn: 0.1023704\ttotal: 16m 29s\tremaining: 18m 9s\n",
      "238:\tlearn: 0.1021956\ttotal: 16m 34s\tremaining: 18m 6s\n",
      "239:\tlearn: 0.1017353\ttotal: 16m 39s\tremaining: 18m 2s\n",
      "240:\tlearn: 0.1014752\ttotal: 16m 43s\tremaining: 17m 58s\n",
      "241:\tlearn: 0.1011777\ttotal: 16m 47s\tremaining: 17m 53s\n",
      "242:\tlearn: 0.1009644\ttotal: 16m 52s\tremaining: 17m 50s\n",
      "243:\tlearn: 0.1006645\ttotal: 16m 57s\tremaining: 17m 47s\n",
      "244:\tlearn: 0.1004122\ttotal: 17m 2s\tremaining: 17m 44s\n",
      "245:\tlearn: 0.1002265\ttotal: 17m 6s\tremaining: 17m 40s\n",
      "246:\tlearn: 0.0998239\ttotal: 17m 12s\tremaining: 17m 37s\n",
      "247:\tlearn: 0.0995633\ttotal: 17m 16s\tremaining: 17m 32s\n",
      "248:\tlearn: 0.0993225\ttotal: 17m 20s\tremaining: 17m 28s\n",
      "249:\tlearn: 0.0991039\ttotal: 17m 25s\tremaining: 17m 25s\n",
      "250:\tlearn: 0.0988751\ttotal: 17m 29s\tremaining: 17m 21s\n",
      "251:\tlearn: 0.0986260\ttotal: 17m 33s\tremaining: 17m 17s\n",
      "252:\tlearn: 0.0982679\ttotal: 17m 37s\tremaining: 17m 12s\n",
      "253:\tlearn: 0.0979731\ttotal: 17m 41s\tremaining: 17m 8s\n",
      "254:\tlearn: 0.0978480\ttotal: 17m 46s\tremaining: 17m 4s\n",
      "255:\tlearn: 0.0975344\ttotal: 17m 52s\tremaining: 17m 2s\n",
      "256:\tlearn: 0.0974238\ttotal: 17m 57s\tremaining: 16m 58s\n",
      "257:\tlearn: 0.0971649\ttotal: 18m 2s\tremaining: 16m 54s\n",
      "258:\tlearn: 0.0970392\ttotal: 18m 7s\tremaining: 16m 51s\n",
      "259:\tlearn: 0.0968204\ttotal: 18m 12s\tremaining: 16m 48s\n",
      "260:\tlearn: 0.0966192\ttotal: 18m 16s\tremaining: 16m 44s\n",
      "261:\tlearn: 0.0964030\ttotal: 18m 21s\tremaining: 16m 40s\n",
      "262:\tlearn: 0.0962133\ttotal: 18m 26s\tremaining: 16m 36s\n",
      "263:\tlearn: 0.0960272\ttotal: 18m 31s\tremaining: 16m 33s\n",
      "264:\tlearn: 0.0957880\ttotal: 18m 37s\tremaining: 16m 30s\n",
      "265:\tlearn: 0.0954137\ttotal: 18m 42s\tremaining: 16m 27s\n",
      "266:\tlearn: 0.0951998\ttotal: 18m 47s\tremaining: 16m 23s\n",
      "267:\tlearn: 0.0950837\ttotal: 18m 51s\tremaining: 16m 19s\n",
      "268:\tlearn: 0.0950328\ttotal: 18m 55s\tremaining: 16m 14s\n",
      "269:\tlearn: 0.0949104\ttotal: 18m 59s\tremaining: 16m 10s\n",
      "270:\tlearn: 0.0947527\ttotal: 19m 4s\tremaining: 16m 6s\n",
      "271:\tlearn: 0.0946557\ttotal: 19m 8s\tremaining: 16m 2s\n",
      "272:\tlearn: 0.0941246\ttotal: 19m 12s\tremaining: 15m 57s\n",
      "273:\tlearn: 0.0938575\ttotal: 19m 16s\tremaining: 15m 54s\n",
      "274:\tlearn: 0.0937031\ttotal: 19m 21s\tremaining: 15m 50s\n",
      "275:\tlearn: 0.0935993\ttotal: 19m 26s\tremaining: 15m 46s\n",
      "276:\tlearn: 0.0934333\ttotal: 19m 30s\tremaining: 15m 42s\n",
      "277:\tlearn: 0.0932161\ttotal: 19m 33s\tremaining: 15m 37s\n",
      "278:\tlearn: 0.0931046\ttotal: 19m 38s\tremaining: 15m 33s\n",
      "279:\tlearn: 0.0927437\ttotal: 19m 43s\tremaining: 15m 29s\n",
      "280:\tlearn: 0.0926431\ttotal: 19m 48s\tremaining: 15m 26s\n",
      "281:\tlearn: 0.0924313\ttotal: 19m 53s\tremaining: 15m 22s\n",
      "282:\tlearn: 0.0920534\ttotal: 19m 59s\tremaining: 15m 19s\n",
      "283:\tlearn: 0.0919038\ttotal: 20m 4s\tremaining: 15m 16s\n",
      "284:\tlearn: 0.0913589\ttotal: 20m 9s\tremaining: 15m 12s\n",
      "285:\tlearn: 0.0913148\ttotal: 20m 14s\tremaining: 15m 8s\n",
      "286:\tlearn: 0.0910066\ttotal: 20m 19s\tremaining: 15m 4s\n",
      "287:\tlearn: 0.0908474\ttotal: 20m 23s\tremaining: 15m\n",
      "288:\tlearn: 0.0907446\ttotal: 20m 28s\tremaining: 14m 56s\n",
      "289:\tlearn: 0.0906222\ttotal: 20m 33s\tremaining: 14m 52s\n",
      "290:\tlearn: 0.0904939\ttotal: 20m 37s\tremaining: 14m 48s\n",
      "291:\tlearn: 0.0903823\ttotal: 20m 41s\tremaining: 14m 44s\n",
      "292:\tlearn: 0.0900788\ttotal: 20m 46s\tremaining: 14m 40s\n",
      "293:\tlearn: 0.0899629\ttotal: 20m 50s\tremaining: 14m 36s\n",
      "294:\tlearn: 0.0898234\ttotal: 20m 55s\tremaining: 14m 32s\n",
      "295:\tlearn: 0.0897310\ttotal: 20m 59s\tremaining: 14m 27s\n",
      "296:\tlearn: 0.0895172\ttotal: 21m 3s\tremaining: 14m 23s\n",
      "297:\tlearn: 0.0892641\ttotal: 21m 7s\tremaining: 14m 19s\n",
      "298:\tlearn: 0.0889824\ttotal: 21m 12s\tremaining: 14m 15s\n",
      "299:\tlearn: 0.0885616\ttotal: 21m 17s\tremaining: 14m 11s\n",
      "300:\tlearn: 0.0885100\ttotal: 21m 21s\tremaining: 14m 7s\n"
     ]
    },
    {
     "name": "stdout",
     "output_type": "stream",
     "text": [
      "301:\tlearn: 0.0883338\ttotal: 21m 26s\tremaining: 14m 3s\n",
      "302:\tlearn: 0.0881861\ttotal: 21m 30s\tremaining: 13m 59s\n",
      "303:\tlearn: 0.0877937\ttotal: 21m 35s\tremaining: 13m 55s\n",
      "304:\tlearn: 0.0877350\ttotal: 21m 39s\tremaining: 13m 51s\n",
      "305:\tlearn: 0.0875628\ttotal: 21m 43s\tremaining: 13m 46s\n",
      "306:\tlearn: 0.0873650\ttotal: 21m 48s\tremaining: 13m 42s\n",
      "307:\tlearn: 0.0873119\ttotal: 21m 52s\tremaining: 13m 38s\n",
      "308:\tlearn: 0.0868547\ttotal: 21m 57s\tremaining: 13m 34s\n",
      "309:\tlearn: 0.0865989\ttotal: 22m 1s\tremaining: 13m 30s\n",
      "310:\tlearn: 0.0863310\ttotal: 22m 6s\tremaining: 13m 26s\n",
      "311:\tlearn: 0.0862295\ttotal: 22m 11s\tremaining: 13m 22s\n",
      "312:\tlearn: 0.0860688\ttotal: 22m 16s\tremaining: 13m 18s\n",
      "313:\tlearn: 0.0859218\ttotal: 22m 21s\tremaining: 13m 14s\n",
      "314:\tlearn: 0.0856598\ttotal: 22m 26s\tremaining: 13m 10s\n",
      "315:\tlearn: 0.0854515\ttotal: 22m 30s\tremaining: 13m 6s\n",
      "316:\tlearn: 0.0852055\ttotal: 22m 34s\tremaining: 13m 2s\n",
      "317:\tlearn: 0.0845685\ttotal: 22m 40s\tremaining: 12m 58s\n",
      "318:\tlearn: 0.0845222\ttotal: 22m 45s\tremaining: 12m 54s\n",
      "319:\tlearn: 0.0840113\ttotal: 22m 50s\tremaining: 12m 50s\n",
      "320:\tlearn: 0.0835340\ttotal: 22m 55s\tremaining: 12m 47s\n",
      "321:\tlearn: 0.0832938\ttotal: 23m\tremaining: 12m 43s\n",
      "322:\tlearn: 0.0831592\ttotal: 23m 5s\tremaining: 12m 39s\n",
      "323:\tlearn: 0.0828461\ttotal: 23m 10s\tremaining: 12m 35s\n",
      "324:\tlearn: 0.0824221\ttotal: 23m 16s\tremaining: 12m 31s\n",
      "325:\tlearn: 0.0822281\ttotal: 23m 20s\tremaining: 12m 27s\n",
      "326:\tlearn: 0.0817821\ttotal: 23m 24s\tremaining: 12m 23s\n",
      "327:\tlearn: 0.0817080\ttotal: 23m 29s\tremaining: 12m 19s\n",
      "328:\tlearn: 0.0815259\ttotal: 23m 33s\tremaining: 12m 14s\n",
      "329:\tlearn: 0.0813030\ttotal: 23m 38s\tremaining: 12m 10s\n",
      "330:\tlearn: 0.0810666\ttotal: 23m 43s\tremaining: 12m 6s\n",
      "331:\tlearn: 0.0808236\ttotal: 23m 48s\tremaining: 12m 2s\n",
      "332:\tlearn: 0.0807087\ttotal: 23m 52s\tremaining: 11m 58s\n",
      "333:\tlearn: 0.0806414\ttotal: 23m 57s\tremaining: 11m 54s\n",
      "334:\tlearn: 0.0806068\ttotal: 24m 1s\tremaining: 11m 49s\n",
      "335:\tlearn: 0.0803773\ttotal: 24m 6s\tremaining: 11m 46s\n",
      "336:\tlearn: 0.0800490\ttotal: 24m 11s\tremaining: 11m 41s\n",
      "337:\tlearn: 0.0797651\ttotal: 24m 16s\tremaining: 11m 37s\n",
      "338:\tlearn: 0.0794582\ttotal: 24m 20s\tremaining: 11m 33s\n",
      "339:\tlearn: 0.0791818\ttotal: 24m 25s\tremaining: 11m 29s\n",
      "340:\tlearn: 0.0790409\ttotal: 24m 29s\tremaining: 11m 25s\n",
      "341:\tlearn: 0.0787968\ttotal: 24m 35s\tremaining: 11m 21s\n",
      "342:\tlearn: 0.0787656\ttotal: 24m 40s\tremaining: 11m 17s\n",
      "343:\tlearn: 0.0783678\ttotal: 24m 46s\tremaining: 11m 14s\n",
      "344:\tlearn: 0.0780025\ttotal: 24m 51s\tremaining: 11m 10s\n",
      "345:\tlearn: 0.0778769\ttotal: 24m 56s\tremaining: 11m 6s\n",
      "346:\tlearn: 0.0777169\ttotal: 25m 1s\tremaining: 11m 2s\n",
      "347:\tlearn: 0.0772773\ttotal: 25m 6s\tremaining: 10m 58s\n",
      "348:\tlearn: 0.0771137\ttotal: 25m 11s\tremaining: 10m 54s\n",
      "349:\tlearn: 0.0770264\ttotal: 25m 16s\tremaining: 10m 49s\n",
      "350:\tlearn: 0.0768803\ttotal: 25m 20s\tremaining: 10m 45s\n",
      "351:\tlearn: 0.0768349\ttotal: 25m 24s\tremaining: 10m 41s\n",
      "352:\tlearn: 0.0764452\ttotal: 25m 29s\tremaining: 10m 36s\n",
      "353:\tlearn: 0.0762563\ttotal: 25m 34s\tremaining: 10m 32s\n",
      "354:\tlearn: 0.0761458\ttotal: 25m 40s\tremaining: 10m 29s\n",
      "355:\tlearn: 0.0760241\ttotal: 25m 44s\tremaining: 10m 24s\n",
      "356:\tlearn: 0.0756861\ttotal: 25m 48s\tremaining: 10m 20s\n",
      "357:\tlearn: 0.0754910\ttotal: 25m 53s\tremaining: 10m 16s\n",
      "358:\tlearn: 0.0754049\ttotal: 25m 57s\tremaining: 10m 11s\n",
      "359:\tlearn: 0.0752722\ttotal: 26m 1s\tremaining: 10m 7s\n",
      "360:\tlearn: 0.0752088\ttotal: 26m 5s\tremaining: 10m 2s\n",
      "361:\tlearn: 0.0750602\ttotal: 26m 10s\tremaining: 9m 58s\n",
      "362:\tlearn: 0.0748933\ttotal: 26m 15s\tremaining: 9m 54s\n",
      "363:\tlearn: 0.0746295\ttotal: 26m 21s\tremaining: 9m 50s\n",
      "364:\tlearn: 0.0745621\ttotal: 26m 25s\tremaining: 9m 46s\n",
      "365:\tlearn: 0.0744468\ttotal: 26m 30s\tremaining: 9m 42s\n",
      "366:\tlearn: 0.0740562\ttotal: 26m 35s\tremaining: 9m 38s\n",
      "367:\tlearn: 0.0740039\ttotal: 26m 40s\tremaining: 9m 34s\n",
      "368:\tlearn: 0.0738450\ttotal: 26m 45s\tremaining: 9m 30s\n",
      "369:\tlearn: 0.0733573\ttotal: 26m 51s\tremaining: 9m 26s\n",
      "370:\tlearn: 0.0731186\ttotal: 26m 55s\tremaining: 9m 21s\n",
      "371:\tlearn: 0.0730684\ttotal: 26m 59s\tremaining: 9m 17s\n",
      "372:\tlearn: 0.0726186\ttotal: 27m 4s\tremaining: 9m 13s\n",
      "373:\tlearn: 0.0725476\ttotal: 27m 9s\tremaining: 9m 8s\n",
      "374:\tlearn: 0.0723086\ttotal: 27m 13s\tremaining: 9m 4s\n",
      "375:\tlearn: 0.0719100\ttotal: 27m 18s\tremaining: 9m\n",
      "376:\tlearn: 0.0716062\ttotal: 27m 23s\tremaining: 8m 56s\n",
      "377:\tlearn: 0.0712896\ttotal: 27m 28s\tremaining: 8m 52s\n",
      "378:\tlearn: 0.0712195\ttotal: 27m 34s\tremaining: 8m 48s\n",
      "379:\tlearn: 0.0710810\ttotal: 27m 38s\tremaining: 8m 43s\n",
      "380:\tlearn: 0.0708338\ttotal: 27m 43s\tremaining: 8m 39s\n",
      "381:\tlearn: 0.0707089\ttotal: 27m 48s\tremaining: 8m 35s\n",
      "382:\tlearn: 0.0705200\ttotal: 27m 53s\tremaining: 8m 31s\n",
      "383:\tlearn: 0.0703904\ttotal: 27m 57s\tremaining: 8m 26s\n",
      "384:\tlearn: 0.0703074\ttotal: 28m 1s\tremaining: 8m 22s\n",
      "385:\tlearn: 0.0702418\ttotal: 28m 5s\tremaining: 8m 17s\n",
      "386:\tlearn: 0.0700508\ttotal: 28m 10s\tremaining: 8m 13s\n",
      "387:\tlearn: 0.0699795\ttotal: 28m 15s\tremaining: 8m 9s\n",
      "388:\tlearn: 0.0698208\ttotal: 28m 20s\tremaining: 8m 5s\n",
      "389:\tlearn: 0.0697913\ttotal: 28m 24s\tremaining: 8m\n",
      "390:\tlearn: 0.0696037\ttotal: 28m 28s\tremaining: 7m 56s\n",
      "391:\tlearn: 0.0691384\ttotal: 28m 33s\tremaining: 7m 52s\n",
      "392:\tlearn: 0.0689780\ttotal: 28m 38s\tremaining: 7m 47s\n",
      "393:\tlearn: 0.0687974\ttotal: 28m 44s\tremaining: 7m 43s\n",
      "394:\tlearn: 0.0685880\ttotal: 28m 49s\tremaining: 7m 39s\n",
      "395:\tlearn: 0.0685209\ttotal: 28m 54s\tremaining: 7m 35s\n",
      "396:\tlearn: 0.0682733\ttotal: 29m\tremaining: 7m 31s\n",
      "397:\tlearn: 0.0681482\ttotal: 29m 4s\tremaining: 7m 27s\n",
      "398:\tlearn: 0.0678937\ttotal: 29m 9s\tremaining: 7m 22s\n",
      "399:\tlearn: 0.0676257\ttotal: 29m 13s\tremaining: 7m 18s\n",
      "400:\tlearn: 0.0673464\ttotal: 29m 20s\tremaining: 7m 14s\n",
      "401:\tlearn: 0.0671453\ttotal: 29m 25s\tremaining: 7m 10s\n",
      "402:\tlearn: 0.0669879\ttotal: 29m 29s\tremaining: 7m 5s\n",
      "403:\tlearn: 0.0667117\ttotal: 29m 34s\tremaining: 7m 1s\n",
      "404:\tlearn: 0.0666195\ttotal: 29m 38s\tremaining: 6m 57s\n",
      "405:\tlearn: 0.0663714\ttotal: 29m 44s\tremaining: 6m 53s\n",
      "406:\tlearn: 0.0661814\ttotal: 29m 49s\tremaining: 6m 48s\n",
      "407:\tlearn: 0.0658957\ttotal: 29m 54s\tremaining: 6m 44s\n",
      "408:\tlearn: 0.0656903\ttotal: 29m 58s\tremaining: 6m 40s\n",
      "409:\tlearn: 0.0655455\ttotal: 30m 2s\tremaining: 6m 35s\n",
      "410:\tlearn: 0.0653815\ttotal: 30m 7s\tremaining: 6m 31s\n",
      "411:\tlearn: 0.0651859\ttotal: 30m 11s\tremaining: 6m 27s\n",
      "412:\tlearn: 0.0650563\ttotal: 30m 16s\tremaining: 6m 22s\n",
      "413:\tlearn: 0.0649329\ttotal: 30m 20s\tremaining: 6m 18s\n",
      "414:\tlearn: 0.0647669\ttotal: 30m 25s\tremaining: 6m 13s\n",
      "415:\tlearn: 0.0647110\ttotal: 30m 29s\tremaining: 6m 9s\n",
      "416:\tlearn: 0.0644577\ttotal: 30m 33s\tremaining: 6m 5s\n",
      "417:\tlearn: 0.0643681\ttotal: 30m 38s\tremaining: 6m\n",
      "418:\tlearn: 0.0642395\ttotal: 30m 42s\tremaining: 5m 56s\n",
      "419:\tlearn: 0.0642108\ttotal: 30m 46s\tremaining: 5m 51s\n",
      "420:\tlearn: 0.0641024\ttotal: 30m 51s\tremaining: 5m 47s\n",
      "421:\tlearn: 0.0640026\ttotal: 30m 56s\tremaining: 5m 43s\n",
      "422:\tlearn: 0.0637459\ttotal: 31m\tremaining: 5m 38s\n",
      "423:\tlearn: 0.0636837\ttotal: 31m 4s\tremaining: 5m 34s\n",
      "424:\tlearn: 0.0636284\ttotal: 31m 8s\tremaining: 5m 29s\n",
      "425:\tlearn: 0.0634928\ttotal: 31m 12s\tremaining: 5m 25s\n",
      "426:\tlearn: 0.0633214\ttotal: 31m 18s\tremaining: 5m 21s\n",
      "427:\tlearn: 0.0631549\ttotal: 31m 23s\tremaining: 5m 16s\n",
      "428:\tlearn: 0.0630899\ttotal: 31m 26s\tremaining: 5m 12s\n",
      "429:\tlearn: 0.0629459\ttotal: 31m 31s\tremaining: 5m 7s\n",
      "430:\tlearn: 0.0628502\ttotal: 31m 36s\tremaining: 5m 3s\n",
      "431:\tlearn: 0.0628158\ttotal: 31m 40s\tremaining: 4m 59s\n",
      "432:\tlearn: 0.0626562\ttotal: 31m 44s\tremaining: 4m 54s\n",
      "433:\tlearn: 0.0624952\ttotal: 31m 48s\tremaining: 4m 50s\n",
      "434:\tlearn: 0.0624908\ttotal: 31m 52s\tremaining: 4m 45s\n",
      "435:\tlearn: 0.0623632\ttotal: 31m 56s\tremaining: 4m 41s\n",
      "436:\tlearn: 0.0622291\ttotal: 32m 1s\tremaining: 4m 37s\n",
      "437:\tlearn: 0.0621684\ttotal: 32m 5s\tremaining: 4m 32s\n",
      "438:\tlearn: 0.0621563\ttotal: 32m 10s\tremaining: 4m 28s\n",
      "439:\tlearn: 0.0620925\ttotal: 32m 14s\tremaining: 4m 23s\n",
      "440:\tlearn: 0.0618534\ttotal: 32m 18s\tremaining: 4m 19s\n",
      "441:\tlearn: 0.0617019\ttotal: 32m 23s\tremaining: 4m 15s\n",
      "442:\tlearn: 0.0615987\ttotal: 32m 28s\tremaining: 4m 10s\n",
      "443:\tlearn: 0.0615552\ttotal: 32m 32s\tremaining: 4m 6s\n",
      "444:\tlearn: 0.0613779\ttotal: 32m 37s\tremaining: 4m 1s\n",
      "445:\tlearn: 0.0612521\ttotal: 32m 41s\tremaining: 3m 57s\n",
      "446:\tlearn: 0.0611050\ttotal: 32m 45s\tremaining: 3m 53s\n",
      "447:\tlearn: 0.0608050\ttotal: 32m 49s\tremaining: 3m 48s\n",
      "448:\tlearn: 0.0606548\ttotal: 32m 54s\tremaining: 3m 44s\n",
      "449:\tlearn: 0.0605330\ttotal: 32m 59s\tremaining: 3m 39s\n",
      "450:\tlearn: 0.0603459\ttotal: 33m 4s\tremaining: 3m 35s\n"
     ]
    },
    {
     "name": "stdout",
     "output_type": "stream",
     "text": [
      "451:\tlearn: 0.0603375\ttotal: 33m 8s\tremaining: 3m 31s\n",
      "452:\tlearn: 0.0602909\ttotal: 33m 12s\tremaining: 3m 26s\n",
      "453:\tlearn: 0.0601825\ttotal: 33m 17s\tremaining: 3m 22s\n",
      "454:\tlearn: 0.0600520\ttotal: 33m 22s\tremaining: 3m 18s\n",
      "455:\tlearn: 0.0600310\ttotal: 33m 27s\tremaining: 3m 13s\n",
      "456:\tlearn: 0.0599920\ttotal: 33m 31s\tremaining: 3m 9s\n",
      "457:\tlearn: 0.0598544\ttotal: 33m 36s\tremaining: 3m 4s\n",
      "458:\tlearn: 0.0597741\ttotal: 33m 41s\tremaining: 3m\n",
      "459:\tlearn: 0.0596717\ttotal: 33m 46s\tremaining: 2m 56s\n",
      "460:\tlearn: 0.0595124\ttotal: 33m 50s\tremaining: 2m 51s\n",
      "461:\tlearn: 0.0591645\ttotal: 33m 55s\tremaining: 2m 47s\n",
      "462:\tlearn: 0.0590376\ttotal: 34m\tremaining: 2m 43s\n",
      "463:\tlearn: 0.0589707\ttotal: 34m 4s\tremaining: 2m 38s\n",
      "464:\tlearn: 0.0588434\ttotal: 34m 9s\tremaining: 2m 34s\n",
      "465:\tlearn: 0.0585950\ttotal: 34m 13s\tremaining: 2m 29s\n",
      "466:\tlearn: 0.0584670\ttotal: 34m 17s\tremaining: 2m 25s\n",
      "467:\tlearn: 0.0581018\ttotal: 34m 22s\tremaining: 2m 21s\n",
      "468:\tlearn: 0.0578565\ttotal: 34m 26s\tremaining: 2m 16s\n",
      "469:\tlearn: 0.0577378\ttotal: 34m 30s\tremaining: 2m 12s\n",
      "470:\tlearn: 0.0575173\ttotal: 34m 35s\tremaining: 2m 7s\n",
      "471:\tlearn: 0.0574175\ttotal: 34m 40s\tremaining: 2m 3s\n",
      "472:\tlearn: 0.0573135\ttotal: 34m 45s\tremaining: 1m 59s\n",
      "473:\tlearn: 0.0571168\ttotal: 34m 49s\tremaining: 1m 54s\n",
      "474:\tlearn: 0.0570123\ttotal: 34m 54s\tremaining: 1m 50s\n",
      "475:\tlearn: 0.0568588\ttotal: 34m 59s\tremaining: 1m 45s\n",
      "476:\tlearn: 0.0567553\ttotal: 35m 3s\tremaining: 1m 41s\n",
      "477:\tlearn: 0.0566416\ttotal: 35m 9s\tremaining: 1m 37s\n",
      "478:\tlearn: 0.0565619\ttotal: 35m 14s\tremaining: 1m 32s\n",
      "479:\tlearn: 0.0564104\ttotal: 35m 19s\tremaining: 1m 28s\n",
      "480:\tlearn: 0.0563822\ttotal: 35m 23s\tremaining: 1m 23s\n",
      "481:\tlearn: 0.0562473\ttotal: 35m 27s\tremaining: 1m 19s\n",
      "482:\tlearn: 0.0560701\ttotal: 35m 31s\tremaining: 1m 15s\n",
      "483:\tlearn: 0.0559956\ttotal: 35m 36s\tremaining: 1m 10s\n",
      "484:\tlearn: 0.0558650\ttotal: 35m 41s\tremaining: 1m 6s\n",
      "485:\tlearn: 0.0558429\ttotal: 35m 45s\tremaining: 1m 1s\n",
      "486:\tlearn: 0.0557829\ttotal: 35m 50s\tremaining: 57.4s\n",
      "487:\tlearn: 0.0555836\ttotal: 35m 55s\tremaining: 53s\n",
      "488:\tlearn: 0.0555292\ttotal: 35m 59s\tremaining: 48.6s\n",
      "489:\tlearn: 0.0553152\ttotal: 36m 3s\tremaining: 44.1s\n",
      "490:\tlearn: 0.0552389\ttotal: 36m 8s\tremaining: 39.7s\n",
      "491:\tlearn: 0.0551311\ttotal: 36m 12s\tremaining: 35.3s\n",
      "492:\tlearn: 0.0551065\ttotal: 36m 17s\tremaining: 30.9s\n",
      "493:\tlearn: 0.0550659\ttotal: 36m 21s\tremaining: 26.5s\n",
      "494:\tlearn: 0.0550378\ttotal: 36m 26s\tremaining: 22.1s\n",
      "495:\tlearn: 0.0549916\ttotal: 36m 30s\tremaining: 17.7s\n",
      "496:\tlearn: 0.0549429\ttotal: 36m 35s\tremaining: 13.3s\n",
      "497:\tlearn: 0.0548712\ttotal: 36m 40s\tremaining: 8.84s\n",
      "498:\tlearn: 0.0547426\ttotal: 36m 46s\tremaining: 4.42s\n",
      "499:\tlearn: 0.0546942\ttotal: 36m 51s\tremaining: 0us\n"
     ]
    }
   ],
   "source": [
    "ctb = CatBoostClassifier(\n",
    "                     max_depth=13,\n",
    "                     n_estimators=500,\n",
    "                     learning_rate=0.1,\n",
    "                     cat_features=cat_feats)\n",
    "\n",
    "ctb.fit(X_train, y_train)\n",
    "\n",
    "train_preds = ctb.predict_proba(X_train)"
   ]
  },
  {
   "cell_type": "code",
   "execution_count": 111,
   "metadata": {},
   "outputs": [],
   "source": [
    "df_lvl2_predict = df_train_lvl2.copy()\n",
    "df_lvl2_predict['proba_item_purchase'] = train_preds[:,1]"
   ]
  },
  {
   "cell_type": "code",
   "execution_count": 110,
   "metadata": {},
   "outputs": [],
   "source": [
    "result_eval_lvl2['reranked_own_rec_catb'] = result_eval_lvl2[USER_COL].apply(lambda user_id: rerank(user_id, df_lvl2_predict))"
   ]
  },
  {
   "cell_type": "code",
   "execution_count": 112,
   "metadata": {},
   "outputs": [
    {
     "name": "stdout",
     "output_type": "stream",
     "text": [
      "('reranked_own_rec_catb', 0.19665796344647327)\n",
      "('reranked_own_rec_lightgbm', 0.19258485639686482)\n",
      "('own_rec', 0.1462140992167092)\n"
     ]
    }
   ],
   "source": [
    "print(*sorted(calc_precision_at_k(result_eval_lvl2, TOPK_PRECISION), key=lambda x: x[1], reverse=True), sep='\\n')"
   ]
  },
  {
   "cell_type": "markdown",
   "metadata": {},
   "source": [
    "Метрика показывает, что модель второго уровня оказалось значительно лучше, чем отбор товаров на основе модели первого уровня без дополнительного ранжирования.  \n",
    "Важно принять во внимание, что я не делала преобработку категориальных признаков. Возможно, это дало бы результат выше."
   ]
  },
  {
   "cell_type": "code",
   "execution_count": null,
   "metadata": {},
   "outputs": [],
   "source": []
  }
 ],
 "metadata": {
  "kernelspec": {
   "display_name": "Python 3",
   "language": "python",
   "name": "python3"
  },
  "language_info": {
   "codemirror_mode": {
    "name": "ipython",
    "version": 3
   },
   "file_extension": ".py",
   "mimetype": "text/x-python",
   "name": "python",
   "nbconvert_exporter": "python",
   "pygments_lexer": "ipython3",
   "version": "3.9.2"
  }
 },
 "nbformat": 4,
 "nbformat_minor": 2
}
